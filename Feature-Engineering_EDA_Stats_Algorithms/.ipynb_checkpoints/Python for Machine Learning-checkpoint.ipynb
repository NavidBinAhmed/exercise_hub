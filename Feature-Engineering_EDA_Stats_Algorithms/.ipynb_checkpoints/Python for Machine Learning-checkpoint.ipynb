{
 "cells": [
  {
   "cell_type": "markdown",
   "id": "c6739a57",
   "metadata": {},
   "source": [
    "# This note contains all basic Python code for Machine Learning\n",
    "- Link: https://www.youtube.com/watch?v=bPrmA1SEN2k&list=PLZoTAELRMXVNUL99R4bDlVYsncUNvwUBB"
   ]
  },
  {
   "cell_type": "markdown",
   "id": "30295779",
   "metadata": {},
   "source": [
    "- ongoing\n",
    "- 2 python (this python playlist, ineuron lab + w3schools)\n",
    "- 2 dsa playlists (campusx, another channel)\n",
    "- ML Algorithms (KNaik)"
   ]
  },
  {
   "cell_type": "markdown",
   "id": "26a8920d",
   "metadata": {},
   "source": [
    "Python Topics:\n",
    "  - Basic\n",
    "  - Boolean\n",
    "  - Comparison operations\n",
    "  - List\n",
    "  - Tuple\n",
    "  - Dictionary"
   ]
  },
  {
   "cell_type": "code",
   "execution_count": 4,
   "id": "cf2eda96",
   "metadata": {},
   "outputs": [
    {
     "data": {
      "text/plain": [
       "40"
      ]
     },
     "execution_count": 4,
     "metadata": {},
     "output_type": "execute_result"
    }
   ],
   "source": [
    "# * is multiplication\n",
    "10*4"
   ]
  },
  {
   "cell_type": "code",
   "execution_count": 3,
   "id": "1eeafdc5",
   "metadata": {},
   "outputs": [
    {
     "data": {
      "text/plain": [
       "144"
      ]
     },
     "execution_count": 3,
     "metadata": {},
     "output_type": "execute_result"
    }
   ],
   "source": [
    "# ** is power\n",
    "12**2"
   ]
  },
  {
   "cell_type": "code",
   "execution_count": 4,
   "id": "1fe58baa",
   "metadata": {},
   "outputs": [
    {
     "data": {
      "text/plain": [
       "8"
      ]
     },
     "execution_count": 4,
     "metadata": {},
     "output_type": "execute_result"
    }
   ],
   "source": [
    "10^2"
   ]
  },
  {
   "cell_type": "code",
   "execution_count": 10,
   "id": "84b572e5",
   "metadata": {},
   "outputs": [
    {
     "data": {
      "text/plain": [
       "1112"
      ]
     },
     "execution_count": 10,
     "metadata": {},
     "output_type": "execute_result"
    }
   ],
   "source": [
    "1113^1"
   ]
  },
  {
   "cell_type": "code",
   "execution_count": 13,
   "id": "a05bcc51",
   "metadata": {},
   "outputs": [
    {
     "data": {
      "text/plain": [
       "'sakin sakin sakin sakin '"
      ]
     },
     "execution_count": 13,
     "metadata": {},
     "output_type": "execute_result"
    }
   ],
   "source": [
    "4 * 'sakin '"
   ]
  },
  {
   "cell_type": "code",
   "execution_count": 18,
   "id": "48257249",
   "metadata": {},
   "outputs": [
    {
     "name": "stdout",
     "output_type": "stream",
     "text": [
      "navid\n"
     ]
    }
   ],
   "source": [
    "print(\"navid\")"
   ]
  },
  {
   "cell_type": "code",
   "execution_count": 20,
   "id": "c41648a1",
   "metadata": {},
   "outputs": [
    {
     "name": "stdout",
     "output_type": "stream",
     "text": [
      "My name is Navid Bin Ahmed\n"
     ]
    }
   ],
   "source": [
    "firstname = 'Navid'\n",
    "midname = 'Bin'\n",
    "lastname = 'Ahmed'\n",
    "\n",
    "print('My name is {} {} {}'.format(firstname, midname, lastname))"
   ]
  },
  {
   "cell_type": "code",
   "execution_count": 23,
   "id": "22645e98",
   "metadata": {},
   "outputs": [
    {
     "name": "stdout",
     "output_type": "stream",
     "text": [
      "My name is Navid Bin Ahmed. My parents names are Mohiuddin Ahmed and Helen Ahmed\n"
     ]
    }
   ],
   "source": [
    "firstname = 'Navid'\n",
    "midname = 'Bin'\n",
    "lastname = 'Ahmed'\n",
    "\n",
    "fname = 'Mohiuddin Ahmed'\n",
    "mname = 'Helen Ahmed'\n",
    "\n",
    "print('My name is {} {} {}. My parents names are {} and {}'. format(firstname, midname, lastname, fname, mname))"
   ]
  },
  {
   "cell_type": "code",
   "execution_count": 26,
   "id": "e7ad749f",
   "metadata": {},
   "outputs": [
    {
     "data": {
      "text/plain": [
       "True"
      ]
     },
     "execution_count": 26,
     "metadata": {},
     "output_type": "execute_result"
    }
   ],
   "source": [
    "bool(1)"
   ]
  },
  {
   "cell_type": "code",
   "execution_count": 54,
   "id": "384c03d8",
   "metadata": {},
   "outputs": [],
   "source": [
    "my_str = 'navid bin ahmed'"
   ]
  },
  {
   "cell_type": "code",
   "execution_count": 59,
   "id": "a01a74d1",
   "metadata": {},
   "outputs": [
    {
     "name": "stdout",
     "output_type": "stream",
     "text": [
      "False\n",
      "False\n",
      "True\n",
      "False\n",
      "True\n"
     ]
    }
   ],
   "source": [
    "print(my_str.isalnum())\n",
    "print(my_str.isdigit())\n",
    "print(my_str.islower())\n",
    "print(my_str.isspace())\n",
    "print(my_str.startswith('n'))"
   ]
  },
  {
   "cell_type": "code",
   "execution_count": 58,
   "id": "ef190f80",
   "metadata": {},
   "outputs": [
    {
     "name": "stdout",
     "output_type": "stream",
     "text": [
      "False\n",
      "False\n",
      "False\n",
      "True\n"
     ]
    }
   ],
   "source": [
    "print(my_str.isalpha())\n",
    "print(my_str.istitle())\n",
    "print(my_str.isupper())\n",
    "print(my_str.endswith('d'))"
   ]
  },
  {
   "cell_type": "markdown",
   "id": "db8de35a",
   "metadata": {},
   "source": [
    "Boolean"
   ]
  },
  {
   "cell_type": "code",
   "execution_count": 60,
   "id": "e113a88e",
   "metadata": {},
   "outputs": [
    {
     "data": {
      "text/plain": [
       "True"
      ]
     },
     "execution_count": 60,
     "metadata": {},
     "output_type": "execute_result"
    }
   ],
   "source": [
    "True and True"
   ]
  },
  {
   "cell_type": "code",
   "execution_count": 61,
   "id": "afd8242b",
   "metadata": {},
   "outputs": [
    {
     "data": {
      "text/plain": [
       "True"
      ]
     },
     "execution_count": 61,
     "metadata": {},
     "output_type": "execute_result"
    }
   ],
   "source": [
    "True or False"
   ]
  },
  {
   "cell_type": "code",
   "execution_count": 62,
   "id": "ac6bcf2e",
   "metadata": {},
   "outputs": [
    {
     "data": {
      "text/plain": [
       "False"
      ]
     },
     "execution_count": 62,
     "metadata": {},
     "output_type": "execute_result"
    }
   ],
   "source": [
    "False and True"
   ]
  },
  {
   "cell_type": "code",
   "execution_count": 63,
   "id": "e9a6d1bf",
   "metadata": {},
   "outputs": [
    {
     "data": {
      "text/plain": [
       "False"
      ]
     },
     "execution_count": 63,
     "metadata": {},
     "output_type": "execute_result"
    }
   ],
   "source": [
    "False or False"
   ]
  },
  {
   "cell_type": "code",
   "execution_count": 85,
   "id": "81ae74cb",
   "metadata": {},
   "outputs": [],
   "source": [
    "string = 'Navid'\n",
    "mystr = '123'"
   ]
  },
  {
   "cell_type": "code",
   "execution_count": 87,
   "id": "8851bd36",
   "metadata": {},
   "outputs": [
    {
     "data": {
      "text/plain": [
       "False"
      ]
     },
     "execution_count": 87,
     "metadata": {},
     "output_type": "execute_result"
    }
   ],
   "source": [
    "string.isalnum() and mystr.isalpha()"
   ]
  },
  {
   "cell_type": "markdown",
   "id": "fc1d4d90",
   "metadata": {},
   "source": [
    "- List = use third bracket / square, csv format, mutable/changeable, ordered sequence, each element is an item, has duplicates.\n",
    "- set = based on hash table data structure, use curly braces/ second bracket, mutable/changeable, unordered, iterable, no duplicates\n",
    "- dictionary = use curly braces/ second bracket, unordered, mutable/changeable, indexed. Have keys and values.\n",
    "- tuple = use first bracket/ parenthesis, immutable / unchangeable"
   ]
  },
  {
   "cell_type": "code",
   "execution_count": 98,
   "id": "cd5fd0f0",
   "metadata": {},
   "outputs": [],
   "source": [
    "list = ['navid', 299, 'sakin', 26, 26]"
   ]
  },
  {
   "cell_type": "code",
   "execution_count": 99,
   "id": "b69ac6dd",
   "metadata": {},
   "outputs": [
    {
     "name": "stdout",
     "output_type": "stream",
     "text": [
      "['navid', 299, 'sakin', 26, 26]\n"
     ]
    }
   ],
   "source": [
    "print(list)"
   ]
  },
  {
   "cell_type": "code",
   "execution_count": 100,
   "id": "1b6e78bf",
   "metadata": {},
   "outputs": [
    {
     "data": {
      "text/plain": [
       "['navid', 299, 'sakin', 26, 26]"
      ]
     },
     "execution_count": 100,
     "metadata": {},
     "output_type": "execute_result"
    }
   ],
   "source": [
    "list[:]"
   ]
  },
  {
   "cell_type": "code",
   "execution_count": 101,
   "id": "38a930d1",
   "metadata": {},
   "outputs": [],
   "source": [
    "listnum = [26, 47, 57]"
   ]
  },
  {
   "cell_type": "code",
   "execution_count": 102,
   "id": "c247029f",
   "metadata": {},
   "outputs": [
    {
     "data": {
      "text/plain": [
       "130"
      ]
     },
     "execution_count": 102,
     "metadata": {},
     "output_type": "execute_result"
    }
   ],
   "source": [
    "sum(listnum)"
   ]
  },
  {
   "cell_type": "code",
   "execution_count": 103,
   "id": "af5a46ea",
   "metadata": {},
   "outputs": [
    {
     "name": "stdout",
     "output_type": "stream",
     "text": [
      "5 3\n"
     ]
    }
   ],
   "source": [
    "print(len(list), len(listnum))"
   ]
  },
  {
   "cell_type": "markdown",
   "id": "bfe394a4",
   "metadata": {},
   "source": [
    "Set"
   ]
  },
  {
   "cell_type": "code",
   "execution_count": 113,
   "id": "5c6ead78",
   "metadata": {},
   "outputs": [
    {
     "name": "stdout",
     "output_type": "stream",
     "text": [
      "{'sakin', 25, 'Navid', 14}\n",
      "<class 'set'>\n"
     ]
    },
    {
     "data": {
      "text/plain": [
       "4"
      ]
     },
     "execution_count": 113,
     "metadata": {},
     "output_type": "execute_result"
    }
   ],
   "source": [
    "num = {'sakin', 25, 14, 'Navid', 25}\n",
    "print(num)\n",
    "print(type(num))\n",
    "len(num)"
   ]
  },
  {
   "cell_type": "markdown",
   "id": "f52bcf95",
   "metadata": {},
   "source": [
    "dictionary"
   ]
  },
  {
   "cell_type": "code",
   "execution_count": 2,
   "id": "028b5601",
   "metadata": {},
   "outputs": [
    {
     "name": "stdout",
     "output_type": "stream",
     "text": [
      "{'item1': 'BMW', 'item2': 'Ferrari'}\n",
      "<class 'dict'>\n"
     ]
    }
   ],
   "source": [
    "dic = {\"item1\":\"BMW\", \"item2\":\"Ferrari\"} #key : value\n",
    "print(dic)\n",
    "print(type(dic))"
   ]
  },
  {
   "cell_type": "code",
   "execution_count": 3,
   "id": "0f2cc05c",
   "metadata": {},
   "outputs": [
    {
     "data": {
      "text/plain": [
       "'BMW'"
      ]
     },
     "execution_count": 3,
     "metadata": {},
     "output_type": "execute_result"
    }
   ],
   "source": [
    "dic['item1']"
   ]
  },
  {
   "cell_type": "code",
   "execution_count": 4,
   "id": "5d717d60",
   "metadata": {},
   "outputs": [
    {
     "name": "stdout",
     "output_type": "stream",
     "text": [
      "item1\n",
      "item2\n"
     ]
    }
   ],
   "source": [
    "for car in dic:\n",
    "    print(car)"
   ]
  },
  {
   "cell_type": "code",
   "execution_count": 130,
   "id": "9bc36b60",
   "metadata": {},
   "outputs": [
    {
     "name": "stdout",
     "output_type": "stream",
     "text": [
      "item1\n",
      "item2\n"
     ]
    }
   ],
   "source": [
    "for x in dic:\n",
    "    print(x)"
   ]
  },
  {
   "cell_type": "code",
   "execution_count": 132,
   "id": "58ceee1a",
   "metadata": {},
   "outputs": [
    {
     "name": "stdout",
     "output_type": "stream",
     "text": [
      "BMW\n",
      "Ferrari\n"
     ]
    }
   ],
   "source": [
    "for car in dic.values():\n",
    "    print(car)"
   ]
  },
  {
   "cell_type": "code",
   "execution_count": 133,
   "id": "ce6e5272",
   "metadata": {},
   "outputs": [
    {
     "name": "stdout",
     "output_type": "stream",
     "text": [
      "('item1', 'BMW')\n",
      "('item2', 'Ferrari')\n"
     ]
    }
   ],
   "source": [
    "for car in dic.items():\n",
    "    print(car)"
   ]
  },
  {
   "cell_type": "code",
   "execution_count": 136,
   "id": "0d71a8d9",
   "metadata": {},
   "outputs": [
    {
     "data": {
      "text/plain": [
       "{'item1': 'BMW', 'item2': 'Ferrari', 'item3': 'Audi'}"
      ]
     },
     "execution_count": 136,
     "metadata": {},
     "output_type": "execute_result"
    }
   ],
   "source": [
    "dic[\"item3\"]='Audi' #added a new key and value\n",
    "dic"
   ]
  },
  {
   "cell_type": "code",
   "execution_count": 142,
   "id": "c0a5fd64",
   "metadata": {},
   "outputs": [
    {
     "name": "stdout",
     "output_type": "stream",
     "text": [
      "('item1', 'BMW')\n",
      "('item2', 'Ferrari')\n",
      "('item3', 'Audi')\n"
     ]
    }
   ],
   "source": [
    "for x in dic.items():\n",
    "    print(x)"
   ]
  },
  {
   "cell_type": "code",
   "execution_count": 143,
   "id": "d9de7888",
   "metadata": {},
   "outputs": [
    {
     "name": "stdout",
     "output_type": "stream",
     "text": [
      "BMW\n",
      "Ferrari\n",
      "Audi\n"
     ]
    }
   ],
   "source": [
    "for x in dic.values():\n",
    "    print(x)"
   ]
  },
  {
   "cell_type": "code",
   "execution_count": 147,
   "id": "2aa1acbc",
   "metadata": {},
   "outputs": [
    {
     "name": "stdout",
     "output_type": "stream",
     "text": [
      "Ferrari\n"
     ]
    }
   ],
   "source": [
    "print(dic['item2'])"
   ]
  },
  {
   "cell_type": "markdown",
   "id": "1504e7f5",
   "metadata": {},
   "source": [
    "Tuples"
   ]
  },
  {
   "cell_type": "code",
   "execution_count": 103,
   "id": "c3d05f28",
   "metadata": {},
   "outputs": [],
   "source": [
    "tuple = (\"Navid\", \"Sakin\")"
   ]
  },
  {
   "cell_type": "code",
   "execution_count": 104,
   "id": "e43b4db6",
   "metadata": {},
   "outputs": [
    {
     "name": "stdout",
     "output_type": "stream",
     "text": [
      "('Navid', 'Sakin')\n"
     ]
    }
   ],
   "source": [
    "print(tuple)"
   ]
  },
  {
   "cell_type": "code",
   "execution_count": 5,
   "id": "dc5b1ec3",
   "metadata": {},
   "outputs": [
    {
     "data": {
      "text/plain": [
       "tuple[0]"
      ]
     },
     "execution_count": 5,
     "metadata": {},
     "output_type": "execute_result"
    }
   ],
   "source": [
    "tuple[0]"
   ]
  },
  {
   "cell_type": "markdown",
   "id": "89f59192",
   "metadata": {},
   "source": [
    "numpy pandas matplotlib"
   ]
  },
  {
   "cell_type": "code",
   "execution_count": 1,
   "id": "9304431e",
   "metadata": {},
   "outputs": [],
   "source": [
    "import numpy as np"
   ]
  },
  {
   "cell_type": "code",
   "execution_count": 7,
   "id": "657e327d",
   "metadata": {},
   "outputs": [],
   "source": [
    "mylist = [1,3,5,6,7,8, 9]"
   ]
  },
  {
   "cell_type": "code",
   "execution_count": 8,
   "id": "919eb51f",
   "metadata": {},
   "outputs": [
    {
     "name": "stdout",
     "output_type": "stream",
     "text": [
      "[1, 3, 5, 6, 7, 8, 9]\n"
     ]
    }
   ],
   "source": [
    "print(mylist)"
   ]
  },
  {
   "cell_type": "code",
   "execution_count": 9,
   "id": "12c0bdad-1e2f-476b-894c-697c44363642",
   "metadata": {},
   "outputs": [
    {
     "data": {
      "text/plain": [
       "array([1, 3, 5, 6, 7, 8, 9])"
      ]
     },
     "execution_count": 9,
     "metadata": {},
     "output_type": "execute_result"
    }
   ],
   "source": [
    "np.array(mylist)"
   ]
  },
  {
   "cell_type": "code",
   "execution_count": 10,
   "id": "04ca49e1",
   "metadata": {},
   "outputs": [],
   "source": [
    "arr = np.array(mylist)"
   ]
  },
  {
   "cell_type": "code",
   "execution_count": 11,
   "id": "7c7e3cc5",
   "metadata": {},
   "outputs": [
    {
     "data": {
      "text/plain": [
       "numpy.ndarray"
      ]
     },
     "execution_count": 11,
     "metadata": {},
     "output_type": "execute_result"
    }
   ],
   "source": [
    "type(arr)"
   ]
  },
  {
   "cell_type": "code",
   "execution_count": 12,
   "id": "66557884",
   "metadata": {},
   "outputs": [
    {
     "data": {
      "text/plain": [
       "array([1, 3, 5, 6, 7, 8, 9])"
      ]
     },
     "execution_count": 12,
     "metadata": {},
     "output_type": "execute_result"
    }
   ],
   "source": [
    "arr"
   ]
  },
  {
   "cell_type": "code",
   "execution_count": 13,
   "id": "46bbea04",
   "metadata": {},
   "outputs": [
    {
     "data": {
      "text/plain": [
       "(7,)"
      ]
     },
     "execution_count": 13,
     "metadata": {},
     "output_type": "execute_result"
    }
   ],
   "source": [
    "arr.shape"
   ]
  },
  {
   "cell_type": "code",
   "execution_count": 51,
   "id": "57394ded",
   "metadata": {},
   "outputs": [
    {
     "data": {
      "text/plain": [
       "array([[1, 3, 5, 6, 7, 8],\n",
       "       [1, 6, 7, 9, 7, 8],\n",
       "       [3, 3, 5, 6, 8, 3]])"
      ]
     },
     "execution_count": 51,
     "metadata": {},
     "output_type": "execute_result"
    }
   ],
   "source": [
    "mylist1 = [1,3,5,6,7,8]\n",
    "mylist2 = [1,6,7,9,7,8]\n",
    "mylist3 = [3,3,5,6,8,3]\n",
    "arr=np.array([mylist1, mylist2, mylist3])\n",
    "arr"
   ]
  },
  {
   "cell_type": "code",
   "execution_count": 69,
   "id": "9ad1b88f-d0fc-4681-a290-3b4bde83a839",
   "metadata": {},
   "outputs": [],
   "source": [
    "list1 = [1,2,3]\n",
    "list2 = [4,5,6]\n",
    "list3 = [7,8,9]\n",
    "\n",
    "display = np.array([list1, list2, list3])      "
   ]
  },
  {
   "cell_type": "code",
   "execution_count": 70,
   "id": "81ca164b-071e-4fe8-ab3c-d3a714c74f2d",
   "metadata": {},
   "outputs": [
    {
     "data": {
      "text/plain": [
       "array([[1, 2, 3],\n",
       "       [4, 5, 6],\n",
       "       [7, 8, 9]])"
      ]
     },
     "execution_count": 70,
     "metadata": {},
     "output_type": "execute_result"
    }
   ],
   "source": [
    "display"
   ]
  },
  {
   "cell_type": "code",
   "execution_count": 71,
   "id": "38155848",
   "metadata": {},
   "outputs": [
    {
     "data": {
      "text/plain": [
       "array([[1],\n",
       "       [2],\n",
       "       [3],\n",
       "       [4],\n",
       "       [5],\n",
       "       [6],\n",
       "       [7],\n",
       "       [8],\n",
       "       [9]])"
      ]
     },
     "execution_count": 71,
     "metadata": {},
     "output_type": "execute_result"
    }
   ],
   "source": [
    "display.reshape(9,1)"
   ]
  },
  {
   "cell_type": "code",
   "execution_count": 36,
   "id": "30083d00",
   "metadata": {},
   "outputs": [
    {
     "data": {
      "text/plain": [
       "array([[1, 3, 5, 6, 7, 8, 9]])"
      ]
     },
     "execution_count": 36,
     "metadata": {},
     "output_type": "execute_result"
    }
   ],
   "source": [
    "b = arr.reshape(1,7)\n",
    "b"
   ]
  },
  {
   "cell_type": "code",
   "execution_count": 75,
   "id": "bbae0575",
   "metadata": {},
   "outputs": [
    {
     "data": {
      "text/plain": [
       "(6,)"
      ]
     },
     "execution_count": 75,
     "metadata": {},
     "output_type": "execute_result"
    }
   ],
   "source": [
    "arr.shape"
   ]
  },
  {
   "cell_type": "code",
   "execution_count": 74,
   "id": "e5df0822",
   "metadata": {},
   "outputs": [
    {
     "name": "stdout",
     "output_type": "stream",
     "text": [
      "[[1 3 5 6 7 8 9]]\n"
     ]
    }
   ],
   "source": [
    "print(b)"
   ]
  },
  {
   "cell_type": "markdown",
   "id": "6e34dfcc",
   "metadata": {},
   "source": [
    "#### Indexing for Python's Data Structure : List"
   ]
  },
  {
   "cell_type": "code",
   "execution_count": 76,
   "id": "8e98ad34",
   "metadata": {},
   "outputs": [
    {
     "data": {
      "text/plain": [
       "4"
      ]
     },
     "execution_count": 76,
     "metadata": {},
     "output_type": "execute_result"
    }
   ],
   "source": [
    "# accessing the array element\n",
    "\n",
    "arr = np.array([4, 6, 8, 9, 3, 6])\n",
    "arr[0]"
   ]
  },
  {
   "cell_type": "code",
   "execution_count": 77,
   "id": "cb402543",
   "metadata": {},
   "outputs": [
    {
     "data": {
      "text/plain": [
       "array([4, 6, 8, 9, 3, 6])"
      ]
     },
     "execution_count": 77,
     "metadata": {},
     "output_type": "execute_result"
    }
   ],
   "source": [
    "arr"
   ]
  },
  {
   "cell_type": "markdown",
   "id": "7f1d9b9a-b51f-4145-a204-d48336f0f235",
   "metadata": {},
   "source": [
    "##### indexing in 2D array"
   ]
  },
  {
   "cell_type": "code",
   "execution_count": 78,
   "id": "ab9b93a8-ed91-41c8-b457-f83d24767549",
   "metadata": {},
   "outputs": [
    {
     "data": {
      "text/plain": [
       "array([4, 6, 8, 9, 3, 6])"
      ]
     },
     "execution_count": 78,
     "metadata": {},
     "output_type": "execute_result"
    }
   ],
   "source": [
    "arr[:]"
   ]
  },
  {
   "cell_type": "code",
   "execution_count": 80,
   "id": "8b741fa5",
   "metadata": {},
   "outputs": [
    {
     "data": {
      "text/plain": [
       "array([[1, 2],\n",
       "       [4, 5],\n",
       "       [7, 8]])"
      ]
     },
     "execution_count": 80,
     "metadata": {},
     "output_type": "execute_result"
    }
   ],
   "source": [
    "display[0:3,0:2]"
   ]
  },
  {
   "cell_type": "code",
   "execution_count": 81,
   "id": "7a31ed2d-0030-4f04-a53e-83dfd644496d",
   "metadata": {},
   "outputs": [
    {
     "name": "stdout",
     "output_type": "stream",
     "text": [
      "[[1 2 3 4]\n",
      " [2 3 4 3]\n",
      " [3 4 6 3]]\n"
     ]
    }
   ],
   "source": [
    "lst1 = [1,2,3,4]\n",
    "lst2 = [2,3,4,3]\n",
    "lst3 = [3,4,6,3]\n",
    "\n",
    "bd = np.array([lst1, lst2, lst3])\n",
    "print(bd)"
   ]
  },
  {
   "cell_type": "code",
   "execution_count": 87,
   "id": "c72b28ff",
   "metadata": {},
   "outputs": [
    {
     "data": {
      "text/plain": [
       "array([[17, 17, 17, 17],\n",
       "       [ 2,  3,  4,  3],\n",
       "       [17, 17, 17, 17]])"
      ]
     },
     "execution_count": 87,
     "metadata": {},
     "output_type": "execute_result"
    }
   ],
   "source": [
    "# copy () the array and broadcasting\n",
    "bd[2:]=17\n",
    "bd"
   ]
  },
  {
   "cell_type": "code",
   "execution_count": 122,
   "id": "7610c459",
   "metadata": {},
   "outputs": [
    {
     "data": {
      "text/plain": [
       "False"
      ]
     },
     "execution_count": 122,
     "metadata": {},
     "output_type": "execute_result"
    }
   ],
   "source": [
    "arr=7\n",
    "arr>7"
   ]
  },
  {
   "cell_type": "code",
   "execution_count": 2,
   "id": "b216d3b3",
   "metadata": {},
   "outputs": [],
   "source": [
    "import numpy as np"
   ]
  },
  {
   "cell_type": "code",
   "execution_count": 3,
   "id": "62045082",
   "metadata": {},
   "outputs": [
    {
     "data": {
      "text/plain": [
       "array([1., 1., 1., 1., 1., 1., 1.])"
      ]
     },
     "execution_count": 3,
     "metadata": {},
     "output_type": "execute_result"
    }
   ],
   "source": [
    "np.ones(7)"
   ]
  },
  {
   "cell_type": "code",
   "execution_count": 4,
   "id": "9e7b1424",
   "metadata": {},
   "outputs": [
    {
     "data": {
      "text/plain": [
       "array([[1, 1, 1, 1, 1],\n",
       "       [1, 1, 1, 1, 1],\n",
       "       [1, 1, 1, 1, 1]])"
      ]
     },
     "execution_count": 4,
     "metadata": {},
     "output_type": "execute_result"
    }
   ],
   "source": [
    "np.ones((3,5), dtype=int)"
   ]
  },
  {
   "cell_type": "code",
   "execution_count": 21,
   "id": "fb8a1683",
   "metadata": {},
   "outputs": [
    {
     "data": {
      "text/plain": [
       "array([[0.49706191, 0.22270072, 0.5995281 , 0.67476807],\n",
       "       [0.54873594, 0.91843936, 0.44909056, 0.99126503],\n",
       "       [0.79918454, 0.90862857, 0.44535978, 0.13752425],\n",
       "       [0.90052485, 0.59401686, 0.76205929, 0.6286613 ]])"
      ]
     },
     "execution_count": 21,
     "metadata": {},
     "output_type": "execute_result"
    }
   ],
   "source": [
    "## random distribution\n",
    "\n",
    "ran = np.random.rand(4,4)\n",
    "ran"
   ]
  },
  {
   "cell_type": "markdown",
   "id": "53244639",
   "metadata": {},
   "source": [
    "- numpy \n",
    "- pandas\n",
    "- https://www.youtube.com/watch?v=tW1BWtQRZ2M&list=PLZoTAELRMXVNUL99R4bDlVYsncUNvwUBB&index=8"
   ]
  },
  {
   "cell_type": "code",
   "execution_count": 29,
   "id": "c1a26bec",
   "metadata": {
    "scrolled": true
   },
   "outputs": [],
   "source": [
    "import seaborn as sns\n",
    "import pandas as pd"
   ]
  },
  {
   "cell_type": "code",
   "execution_count": 33,
   "id": "353315cf",
   "metadata": {
    "scrolled": true
   },
   "outputs": [
    {
     "data": {
      "text/plain": [
       "<seaborn.axisgrid.FacetGrid at 0x1f0380a34f0>"
      ]
     },
     "execution_count": 33,
     "metadata": {},
     "output_type": "execute_result"
    }
   ],
   "source": [
    "sns.displot(pd.DataFrame(ran.reshape(8,2)))"
   ]
  },
  {
   "cell_type": "code",
   "execution_count": 34,
   "id": "4e1e74d5",
   "metadata": {},
   "outputs": [
    {
     "name": "stderr",
     "output_type": "stream",
     "text": [
      "C:\\Users\\HP\\anaconda3\\lib\\site-packages\\seaborn\\distributions.py:2619: FutureWarning: `distplot` is a deprecated function and will be removed in a future version. Please adapt your code to use either `displot` (a figure-level function with similar flexibility) or `histplot` (an axes-level function for histograms).\n",
      "  warnings.warn(msg, FutureWarning)\n"
     ]
    },
    {
     "data": {
      "text/plain": [
       "<AxesSubplot:ylabel='Count'>"
      ]
     },
     "execution_count": 34,
     "metadata": {},
     "output_type": "execute_result"
    }
   ],
   "source": [
    "sns.distplot(pd.DataFrame(ran.reshape(8,2)))"
   ]
  },
  {
   "cell_type": "code",
   "execution_count": 36,
   "id": "f31afebf",
   "metadata": {},
   "outputs": [
    {
     "data": {
      "text/plain": [
       "<AxesSubplot:ylabel='Count'>"
      ]
     },
     "execution_count": 36,
     "metadata": {},
     "output_type": "execute_result"
    }
   ],
   "source": [
    "sns.histplot(pd.DataFrame(ran.reshape(1,16)))"
   ]
  },
  {
   "cell_type": "markdown",
   "id": "54adbbd3",
   "metadata": {},
   "source": [
    "- CSV\n",
    "- https://www.youtube.com/watch?v=tW1BWtQRZ2M&list=PLZoTAELRMXVNUL99R4bDlVYsncUNvwUBB&index=8\n",
    "- https://www.youtube.com/watch?v=xx4Vkc5RrWY&list=PLZoTAELRMXVNUL99R4bDlVYsncUNvwUBB&index=9"
   ]
  },
  {
   "cell_type": "code",
   "execution_count": 7,
   "id": "f7229f98",
   "metadata": {},
   "outputs": [
    {
     "ename": "SyntaxError",
     "evalue": "invalid syntax (326333775.py, line 9)",
     "output_type": "error",
     "traceback": [
      "\u001b[1;36m  File \u001b[1;32m\"C:\\Users\\HP\\AppData\\Local\\Temp\\ipykernel_35404\\326333775.py\"\u001b[1;36m, line \u001b[1;32m9\u001b[0m\n\u001b[1;33m    reversed x\u001b[0m\n\u001b[1;37m             ^\u001b[0m\n\u001b[1;31mSyntaxError\u001b[0m\u001b[1;31m:\u001b[0m invalid syntax\n"
     ]
    }
   ],
   "source": [
    "## write a function that reverse a sring and print the result\n",
    "## the function takes a parameter that will be reversed\n",
    "\n",
    "def rev_string():\n",
    "    \n",
    "    s = \"Enter the string\" \n",
    "\n",
    "    for x in s:\n",
    "        reversed x"
   ]
  },
  {
   "cell_type": "code",
   "execution_count": 2,
   "id": "f12e3c09",
   "metadata": {},
   "outputs": [],
   "source": [
    "#restrated on 29 October 2023 after 13 February 2013\n",
    "#recommendations\n",
    "#        ML Specialization- coursera\n",
    "#        Python uDemy\n",
    "#        w3 school"
   ]
  },
  {
   "cell_type": "markdown",
   "id": "4b4264dc",
   "metadata": {},
   "source": [
    "W3School: RegEx"
   ]
  },
  {
   "cell_type": "code",
   "execution_count": 14,
   "id": "b6da4f51",
   "metadata": {},
   "outputs": [],
   "source": [
    "import re"
   ]
  },
  {
   "cell_type": "code",
   "execution_count": 15,
   "id": "e3b33943",
   "metadata": {},
   "outputs": [],
   "source": [
    "text ='The rain in Spain'\n",
    "x = re.search(\"^The.*Dhaka$\" , text)"
   ]
  },
  {
   "cell_type": "code",
   "execution_count": 16,
   "id": "eea73c45",
   "metadata": {},
   "outputs": [
    {
     "name": "stdout",
     "output_type": "stream",
     "text": [
      "No match.\n"
     ]
    }
   ],
   "source": [
    "if x:\n",
    "    print('yes, we have a match')\n",
    "else:\n",
    "    print('No match.')"
   ]
  },
  {
   "cell_type": "code",
   "execution_count": null,
   "id": "e659c236",
   "metadata": {},
   "outputs": [],
   "source": [
    "import re\n",
    "text = 'The rainhe inhe Dhaka'\n",
    "x= re.findall('he', text)\n",
    "print(x)"
   ]
  },
  {
   "cell_type": "code",
   "execution_count": 1,
   "id": "405376b9",
   "metadata": {},
   "outputs": [
    {
     "name": "stdout",
     "output_type": "stream",
     "text": [
      "Enter username: sakin\n",
      "Username is sakin\n"
     ]
    }
   ],
   "source": [
    "x= input('Enter username: ')\n",
    "print('Username is ' + x)"
   ]
  },
  {
   "cell_type": "code",
   "execution_count": 2,
   "id": "8dfb54d1",
   "metadata": {},
   "outputs": [
    {
     "name": "stdout",
     "output_type": "stream",
     "text": [
      "Enter password: 347627548fjgfHI68687&^*&\n",
      "Password is 347627548fjgfHI68687&^*&\n"
     ]
    }
   ],
   "source": [
    "x= input('Enter password: ')\n",
    "print('Password is ' + x)"
   ]
  },
  {
   "cell_type": "code",
   "execution_count": 10,
   "id": "2e53ebdc",
   "metadata": {},
   "outputs": [
    {
     "name": "stdout",
     "output_type": "stream",
     "text": [
      "<list_reverseiterator object at 0x00000196F2871AC0>\n"
     ]
    }
   ],
   "source": [
    "Y=['1,3,4,5,3,6,7,2']\n",
    "b=reversed(Y)\n",
    "print(b)"
   ]
  },
  {
   "cell_type": "code",
   "execution_count": 11,
   "id": "089aa936",
   "metadata": {},
   "outputs": [
    {
     "name": "stdout",
     "output_type": "stream",
     "text": [
      "False\n",
      "True\n"
     ]
    }
   ],
   "source": [
    "str1 = \"My salary is 7000\";\n",
    "str2 = \"7000\"\n",
    "\n",
    "print(str1.isdigit())\n",
    "print(str2.isdigit())"
   ]
  },
  {
   "cell_type": "code",
   "execution_count": 13,
   "id": "a8be9bb2",
   "metadata": {},
   "outputs": [
    {
     "name": "stdout",
     "output_type": "stream",
     "text": [
      "True\n",
      "True\n",
      "True\n",
      "True\n"
     ]
    }
   ],
   "source": [
    "from numbers import Number\n",
    "from decimal import Decimal\n",
    "from fractions import Fraction\n",
    "\n",
    "print(isinstance(2.0, Number))\n",
    "print(isinstance(Decimal('2.0'), Number))\n",
    "print(isinstance(Fraction(2, 1), Number))\n",
    "print(isinstance(2, Number))"
   ]
  },
  {
   "cell_type": "code",
   "execution_count": 15,
   "id": "a6f9aa80",
   "metadata": {},
   "outputs": [
    {
     "name": "stdout",
     "output_type": "stream",
     "text": [
      "The price is 70 dollars.\n"
     ]
    }
   ],
   "source": [
    "price=70\n",
    "text='The price is {} dollars.'\n",
    "print(text.format(price))"
   ]
  },
  {
   "cell_type": "markdown",
   "id": "91370584",
   "metadata": {
    "jp-MarkdownHeadingCollapsed": true
   },
   "source": [
    "# YouTube Krish Naik upto this, next w3 schools:\n",
    "https://www.youtube.com/watch?v=tW1BWtQRZ2M&list=PLZoTAELRMXVNUL99R4bDlVYsncUNvwUBB&index=9"
   ]
  },
  {
   "cell_type": "code",
   "execution_count": 31,
   "id": "39645f5c",
   "metadata": {},
   "outputs": [
    {
     "name": "stdout",
     "output_type": "stream",
     "text": [
      "The weight is 30.00 grams and speed is 80 kmph.\n"
     ]
    }
   ],
   "source": [
    "weight = 30\n",
    "speed = 80\n",
    "text = 'The weight is {:.2f} grams and speed is {} kmph.'\n",
    "print(text.format(weight, speed))"
   ]
  },
  {
   "cell_type": "code",
   "execution_count": 18,
   "id": "5d7dccf5",
   "metadata": {},
   "outputs": [
    {
     "name": "stdout",
     "output_type": "stream",
     "text": [
      "The speed is 80 kilometers per hour.\n"
     ]
    }
   ],
   "source": [
    "speed = 80\n",
    "text='The speed is {} kilometers per hour.'\n",
    "print(text.format(price))"
   ]
  },
  {
   "cell_type": "code",
   "execution_count": 60,
   "id": "d9eace09",
   "metadata": {},
   "outputs": [],
   "source": [
    "f = open(\"demo.txt\", 'r')"
   ]
  },
  {
   "cell_type": "code",
   "execution_count": 86,
   "id": "9ad15094",
   "metadata": {},
   "outputs": [
    {
     "name": "stdout",
     "output_type": "stream",
     "text": [
      "\n"
     ]
    }
   ],
   "source": [
    "print(f.read())\n",
    "f.close()"
   ]
  },
  {
   "cell_type": "code",
   "execution_count": 74,
   "id": "0c5d6d77",
   "metadata": {},
   "outputs": [
    {
     "name": "stdout",
     "output_type": "stream",
     "text": [
      "the file is for test only.\n",
      "This is a demo file.\n",
      "Following a python tutorial.\n"
     ]
    }
   ],
   "source": [
    "g = open('demo2.txt', 'r')\n",
    "print(g.read())"
   ]
  },
  {
   "cell_type": "code",
   "execution_count": 81,
   "id": "9fd3d995",
   "metadata": {},
   "outputs": [
    {
     "name": "stdout",
     "output_type": "stream",
     "text": [
      "the file is for test only.\n",
      "\n",
      "This is a demo file.\n",
      "\n"
     ]
    }
   ],
   "source": [
    "g = open('demo2.txt', 'r')\n",
    "print(g.readline())\n",
    "print(g.readline())"
   ]
  },
  {
   "cell_type": "code",
   "execution_count": 84,
   "id": "15f8bb77",
   "metadata": {},
   "outputs": [
    {
     "name": "stdout",
     "output_type": "stream",
     "text": [
      "the file is for test only.\n",
      "\n",
      "This is a demo file.\n",
      "\n",
      "Following a python tutorial.\n"
     ]
    }
   ],
   "source": [
    "g = open('demo2.txt', 'r')\n",
    "print(g.readline())\n",
    "for x in g:\n",
    "    print(x)\n",
    "g.close()"
   ]
  },
  {
   "cell_type": "code",
   "execution_count": 83,
   "id": "bf387770",
   "metadata": {},
   "outputs": [
    {
     "name": "stdout",
     "output_type": "stream",
     "text": [
      "the file is for test only.\n",
      "\n"
     ]
    }
   ],
   "source": [
    "k= open('demo2.txt', 'r')\n",
    "print(k.readline())\n",
    "k.close()"
   ]
  },
  {
   "cell_type": "code",
   "execution_count": 96,
   "id": "e06603b1",
   "metadata": {},
   "outputs": [
    {
     "name": "stdout",
     "output_type": "stream",
     "text": [
      "the file is for test only.\n",
      "This is a demo file.\n",
      "Following a python tutorial.Now the file has one more line.Now the file has one more line.Now the file has one more line.Now the file has one more line.Now the file has one more line.Now the file has one more line.Now the file has one more line.Now the file has one more line.Now the file has one more line.\n"
     ]
    }
   ],
   "source": [
    "h = open('demo2.txt', 'a')\n",
    "h.write('Now the file has one more line.')\n",
    "h.close()\n",
    "h = open('demo2.txt', 'r')\n",
    "print(h.read())"
   ]
  },
  {
   "cell_type": "code",
   "execution_count": 98,
   "id": "d2d69610",
   "metadata": {},
   "outputs": [
    {
     "name": "stdout",
     "output_type": "stream",
     "text": [
      "the file is for test only.\n",
      "This is a demo file.\n",
      "Following a python tutorial.Now the file has one more line.Now the file has one more line.Now the file has one more line.Now the file has one more line.Now the file has one more line.Now the file has one more line.Now the file has one more line.Now the file has one more line.Now the file has one more line.Now the file has more content!Now the file has more content!\n"
     ]
    }
   ],
   "source": [
    "f = open(\"demo2.txt\", \"a\")\n",
    "f.write(\"Now the file has more content!\")\n",
    "f.close()\n",
    "\n",
    "#open and read the file after the appending:\n",
    "f = open(\"demo2.txt\", \"r\")\n",
    "print(f.read())"
   ]
  },
  {
   "cell_type": "code",
   "execution_count": 106,
   "id": "7e921bd2",
   "metadata": {},
   "outputs": [
    {
     "name": "stdout",
     "output_type": "stream",
     "text": [
      "3.5.2\n"
     ]
    }
   ],
   "source": [
    "import matplotlib\n",
    "print(matplotlib.__version__)"
   ]
  },
  {
   "cell_type": "code",
   "execution_count": 10,
   "id": "2916d782",
   "metadata": {},
   "outputs": [
    {
     "name": "stdout",
     "output_type": "stream",
     "text": [
      "Enter the value of a: \n",
      "12\n",
      "Enter the value of b: \n",
      "12\n",
      "The sum of the given numbers is  24\n"
     ]
    }
   ],
   "source": [
    "a= int(input('Enter the value of a: \\n'))\n",
    "b= int(input('Enter the value of b: \\n'))\n",
    "\n",
    "s = sum([a,b])\n",
    "print(\"The sum of the given numbers is \", s)"
   ]
  },
  {
   "cell_type": "code",
   "execution_count": 114,
   "id": "2b9cb610",
   "metadata": {},
   "outputs": [
    {
     "data": {
      "image/png": "[encoded data removed]",
      "text/plain": [
       "<Figure size 640x480 with 1 Axes>"
      ]
     },
     "metadata": {},
     "output_type": "display_data"
    }
   ],
   "source": [
    "import matplotlib.pyplot as plt\n",
    "import numpy as np\n",
    "xpoints = np.array([0,200])\n",
    "ypoints = np.array([0,6])\n",
    "\n",
    "plt.plot(xpoints, ypoints)\n",
    "plt.show()"
   ]
  },
  {
   "cell_type": "markdown",
   "id": "89fc8fdc",
   "metadata": {},
   "source": [
    "# w3 schools upto this : https://www.w3schools.com/python/matplotlib_scatter.asp"
   ]
  },
  {
   "cell_type": "markdown",
   "id": "fb8fd1f7",
   "metadata": {},
   "source": [
    "# prepbyte python problem solves below:"
   ]
  },
  {
   "cell_type": "code",
   "execution_count": null,
   "id": "16c3780a",
   "metadata": {},
   "outputs": [],
   "source": [
    "x = int(input(\"Enter First Number:\\n\"))\n",
    "y = int(input(\"Enter Second Number:\\n\"))\n",
    "Sum = sum([x,y])\n",
    "print(\"Sum of\", x, \"and\", y, \"is\", Sum)"
   ]
  },
  {
   "cell_type": "code",
   "execution_count": 20,
   "id": "0220d2e5",
   "metadata": {},
   "outputs": [
    {
     "name": "stdout",
     "output_type": "stream",
     "text": [
      "enter the number: 16\n",
      "Even\n"
     ]
    }
   ],
   "source": [
    "a = int(input(\"enter the number: \"))\n",
    "\n",
    "if a%2==0:\n",
    "    print(\"Even\")\n",
    "elif a%2==1:\n",
    "    print(\"Odd\")"
   ]
  },
  {
   "cell_type": "code",
   "execution_count": 1,
   "id": "7ab0c254",
   "metadata": {},
   "outputs": [
    {
     "name": "stdout",
     "output_type": "stream",
     "text": [
      "enter the number: string\n",
      "<reversed object at 0x0000024D57D404C0>\n"
     ]
    }
   ],
   "source": [
    "a = input(\"enter the number: \")\n",
    "b= reversed(a)\n",
    "\n",
    "print(b)"
   ]
  },
  {
   "cell_type": "code",
   "execution_count": 5,
   "id": "bfafdced",
   "metadata": {},
   "outputs": [
    {
     "name": "stdout",
     "output_type": "stream",
     "text": [
      "Enter the integer number: 769\n",
      "The reverse number is : 967\n"
     ]
    }
   ],
   "source": [
    "number = int(input(\"Enter the integer number: \"))  \n",
    "  \n",
    "reversed_number = 0  \n",
    "  \n",
    "while (number > 0):  \n",
    "    remainder = number % 10  \n",
    "    reversed_number = (reversed_number * 10) + remainder\n",
    "    number = number // 10   \n",
    "  \n",
    "print(\"The reverse number is :\", reversed_number) "
   ]
  },
  {
   "cell_type": "code",
   "execution_count": 1,
   "id": "a4ec499d",
   "metadata": {},
   "outputs": [
    {
     "name": "stdout",
     "output_type": "stream",
     "text": [
      "Enter a number: 132\n",
      "132 is not an Armstrong number\n"
     ]
    }
   ],
   "source": [
    "num = int(input(\"Enter a number: \"))\n",
    "\n",
    "sum = 0\n",
    "n1 = len(str(num))\n",
    "temp = num\n",
    "while temp > 0:\n",
    "   digit = temp % 10\n",
    "   sum += digit ** n1\n",
    "   temp //= 10\n",
    "\n",
    "if num == sum:\n",
    "   print(num,\"is an Armstrong number\")\n",
    "else:\n",
    "   print(num,\"is not an Armstrong number\")"
   ]
  },
  {
   "cell_type": "markdown",
   "id": "f550d77d",
   "metadata": {},
   "source": [
    "16-Nov 2023 (upto this)\n",
    "* w3 schools upto this : https://www.w3schools.com/python/matplotlib_scatter.asp\n",
    "* above some prob solves from prep byte : https://www.prepbytes.com/blog/python/10-simple-python-programs-for-practice-for-beginners/\n",
    "* YouTube : https://www.youtube.com/watch?v=tW1BWtQRZ2M&list=PLZoTAELRMXVNUL99R4bDlVYsncUNvwUBB&index=10"
   ]
  },
  {
   "cell_type": "code",
   "execution_count": 19,
   "id": "3d5e5f1f",
   "metadata": {},
   "outputs": [
    {
     "name": "stdout",
     "output_type": "stream",
     "text": [
      "navid\n",
      "navid is a good guy\n",
      "Enter X: 12\n",
      "Area is  144 sq units\n"
     ]
    }
   ],
   "source": [
    "print('navid')\n",
    "print('navid is a good guy')\n",
    "\n",
    "\n",
    "def ar():\n",
    "    x= int(input('Enter X: '))\n",
    "    area= x*x\n",
    "    print('Area is ', area, 'sq units')\n",
    "ar()"
   ]
  },
  {
   "cell_type": "code",
   "execution_count": 21,
   "id": "eb33be11",
   "metadata": {},
   "outputs": [
    {
     "name": "stdout",
     "output_type": "stream",
     "text": [
      "enter the value of length: 12\n",
      "enter the value of width: 12\n",
      "The perimeter for the given length and width is 48 unit\n"
     ]
    }
   ],
   "source": [
    "def per():\n",
    "    x=int(input('enter the value of length: '))\n",
    "    y=int(input('enter the value of width: '))\n",
    "    \n",
    "    perimeter=2*(x+y)\n",
    "    \n",
    "    print('The perimeter for the given length and width is', perimeter, 'unit')\n",
    "per()"
   ]
  },
  {
   "cell_type": "code",
   "execution_count": 12,
   "id": "9d9d0e2f",
   "metadata": {},
   "outputs": [
    {
     "name": "stdout",
     "output_type": "stream",
     "text": [
      "original: [2, 3, 5, 1, 2, 4, 0, 7]\n",
      "reversed: [7, 0, 4, 2, 1, 5, 3, 2]\n"
     ]
    }
   ],
   "source": [
    "def reverse_numbers(arr):\n",
    "    x= arr[::-1]\n",
    "    return x\n",
    "\n",
    "array=[2,3,5,1,2,4,0,7]\n",
    "x= reverse_numbers(array)\n",
    "\n",
    "print('original:', array)\n",
    "print('reversed:', x)"
   ]
  },
  {
   "cell_type": "code",
   "execution_count": 33,
   "id": "466074f9",
   "metadata": {},
   "outputs": [
    {
     "name": "stdout",
     "output_type": "stream",
     "text": [
      "original:  [3, 4, 6, 2, 5, 6]\n",
      "reversed:  [6, 5, 2, 6, 4, 3]\n"
     ]
    }
   ],
   "source": [
    "def reverse_numbers(array):\n",
    "    x= array[::-1]\n",
    "    return x\n",
    "a=[3,4,6,2,5,6]\n",
    "x=reverse_numbers(a)\n",
    "\n",
    "print('original: ', a)\n",
    "print('reversed: ', x)"
   ]
  },
  {
   "cell_type": "code",
   "execution_count": 42,
   "id": "1849b944",
   "metadata": {},
   "outputs": [
    {
     "name": "stdout",
     "output_type": "stream",
     "text": [
      "original:  [3, 4, 6, 2, 5, 6]\n",
      "large to small:  [6, 6, 5, 4, 3, 2]\n"
     ]
    }
   ],
   "source": [
    "def smalltolarge(array):\n",
    "    x= sorted(array, reverse=True)\n",
    "    return x\n",
    "\n",
    "a=[3,4,6,2,5,6]\n",
    "x=smalltolarge(a)\n",
    "\n",
    "print('original: ', a)\n",
    "print('large to small: ', x)"
   ]
  },
  {
   "cell_type": "code",
   "execution_count": null,
   "id": "dabfa08f",
   "metadata": {},
   "outputs": [],
   "source": [
    "def palindrome():\n",
    "    "
   ]
  },
  {
   "cell_type": "markdown",
   "id": "b9991d11",
   "metadata": {},
   "source": [
    "15-Dec 2023 (upto this)\n",
    "\n",
    "* w3 schools upto this : https://www.w3schools.com/python/matplotlib_scatter.asp\n",
    "* prob solves from prep byte : https://www.prepbytes.com/blog/python/10-simple-python-programs-for-practice-for-beginners/\n",
    "*YouTube : https://www.youtube.com/watch?v=tW1BWtQRZ2M&list=PLZoTAELRMXVNUL99R4bDlVYsncUNvwUBB&index=10"
   ]
  },
  {
   "cell_type": "code",
   "execution_count": 1,
   "id": "88829f25",
   "metadata": {},
   "outputs": [
    {
     "data": {
      "image/png": "[encoded data removed]",
      "text/plain": [
       "<Figure size 640x480 with 1 Axes>"
      ]
     },
     "metadata": {},
     "output_type": "display_data"
    }
   ],
   "source": [
    "import matplotlib.pyplot as plt\n",
    "import numpy as np\n",
    "x=[18,12,10]\n",
    "y=[2,3,4]\n",
    "plt.scatter(x,y)\n",
    "plt.show()"
   ]
  },
  {
   "cell_type": "markdown",
   "id": "60fa8997",
   "metadata": {},
   "source": [
    "* Revise w3 school Python from beginning: https://www.w3schools.com/python/python_booleans.asp\n",
    "* prob solves from prep byte : https://www.prepbytes.com/blog/python/10-simple-python-programs-for-practice-for-beginners/\n",
    "* KNaik YouTube : https://www.youtube.com/watch?v=tW1BWtQRZ2M&list=PLZoTAELRMXVNUL99R4bDlVYsncUNvwUBB&index=10\n",
    "* Interview qa : https://www.theforage.com/blog/interview-questions/coding-interview-questions"
   ]
  },
  {
   "cell_type": "code",
   "execution_count": 4,
   "id": "1d7a68e2",
   "metadata": {},
   "outputs": [
    {
     "name": "stdout",
     "output_type": "stream",
     "text": [
      "True\n"
     ]
    }
   ],
   "source": [
    "print (10==10)"
   ]
  },
  {
   "cell_type": "code",
   "execution_count": 32,
   "id": "d963ca2e",
   "metadata": {},
   "outputs": [
    {
     "name": "stdout",
     "output_type": "stream",
     "text": [
      "enter a= 10\n",
      "enter b= 10\n",
      "a is equal to b\n"
     ]
    }
   ],
   "source": [
    "# Print a message based on whether the condition is True or False:\n",
    "\n",
    "a=int(input('enter a= '))\n",
    "b=int(input('enter b= '))\n",
    "\n",
    "if a>b:\n",
    "    print('a is greater than b')\n",
    "elif a<b:\n",
    "    print('a is less than b')\n",
    "elif a==b:\n",
    "    print('a is equal to b')"
   ]
  },
  {
   "cell_type": "code",
   "execution_count": 35,
   "id": "6a3924a6",
   "metadata": {},
   "outputs": [
    {
     "name": "stdout",
     "output_type": "stream",
     "text": [
      "b\n",
      "a\n",
      "n\n",
      "a\n",
      "n\n",
      "a\n"
     ]
    }
   ],
   "source": [
    "for x in 'banana':\n",
    "    print(x)"
   ]
  },
  {
   "cell_type": "code",
   "execution_count": 50,
   "id": "df0790a5",
   "metadata": {},
   "outputs": [
    {
     "name": "stdout",
     "output_type": "stream",
     "text": [
      "banana\n",
      "apple\n",
      "guava\n"
     ]
    }
   ],
   "source": [
    "fruits = ['banana', 'apple', 'guava']\n",
    "for x in fruits:\n",
    "    print(x)\n",
    "    if x=='orange':\n",
    "        break"
   ]
  },
  {
   "cell_type": "code",
   "execution_count": 72,
   "id": "36492e2f",
   "metadata": {},
   "outputs": [
    {
     "data": {
      "text/plain": [
       "[2, 3, 5, 4, 3, 1]"
      ]
     },
     "execution_count": 72,
     "metadata": {},
     "output_type": "execute_result"
    }
   ],
   "source": [
    "#Interview QA: reverse a string\n",
    "def rev_str():\n",
    "    arr=[1,3,4,5,3,2]\n",
    "    array=arr[::-1]\n",
    "    return array\n",
    "\n",
    "rev_str()"
   ]
  },
  {
   "cell_type": "code",
   "execution_count": null,
   "id": "0397f6ab",
   "metadata": {},
   "outputs": [],
   "source": [
    "#check if a number is palindrome\n",
    "\n",
    "def pal():\n",
    "    arr='12321'\n",
    "    for x in arr:\n",
    "        if z\n",
    "        "
   ]
  },
  {
   "cell_type": "code",
   "execution_count": 79,
   "id": "877922b6",
   "metadata": {},
   "outputs": [],
   "source": [
    "def isPalindrome(x: int) -> bool:\n",
    "    # Base condition\n",
    "    if x < 0:\n",
    "        return False\n",
    "    # Store the number in a variable\n",
    "    number = x\n",
    "    # This will store the reverse of the number\n",
    "    reverse = 0\n",
    "    while number:\n",
    "        reverse = reverse * 10 + number % 10\n",
    "        number //= 10\n",
    "    return x == reverse"
   ]
  },
  {
   "cell_type": "code",
   "execution_count": 91,
   "id": "650247d4",
   "metadata": {},
   "outputs": [
    {
     "name": "stdout",
     "output_type": "stream",
     "text": [
      "5\n"
     ]
    }
   ],
   "source": [
    "a='12343'\n",
    "print(len(a))"
   ]
  },
  {
   "cell_type": "code",
   "execution_count": 116,
   "id": "68d69cdb",
   "metadata": {},
   "outputs": [
    {
     "name": "stdout",
     "output_type": "stream",
     "text": [
      "4\n"
     ]
    }
   ],
   "source": [
    "# Python program to count occurrences of a given character\n",
    "\n",
    "def count(string, character) :\n",
    "\n",
    "    # Count variable\n",
    "    res = 0\n",
    "\n",
    "    for i in range(len(string)) :\n",
    "\n",
    "        # Checking character in string\n",
    "        if (string[i] == character):\n",
    "            res = res + 1\n",
    "    return res\n",
    "    \n",
    "# Driver code\n",
    "string= \"geeksforgeeks\"\n",
    "character = 'e'\n",
    "\n",
    "print(count(string, character))"
   ]
  },
  {
   "cell_type": "code",
   "execution_count": 123,
   "id": "c2ebbcd0",
   "metadata": {},
   "outputs": [
    {
     "name": "stdout",
     "output_type": "stream",
     "text": [
      "1\n"
     ]
    }
   ],
   "source": [
    "def count(string, character):\n",
    "    res=0\n",
    "    \n",
    "    for i in range(len(string)):\n",
    "        if (string[i]==character):\n",
    "            res=res+1\n",
    "    return res\n",
    "\n",
    "string='navid bin ahmed'\n",
    "character='v'\n",
    "\n",
    "print(count(string, character))"
   ]
  },
  {
   "cell_type": "code",
   "execution_count": 131,
   "id": "3ecc07fe",
   "metadata": {},
   "outputs": [
    {
     "data": {
      "text/plain": [
       "1"
      ]
     },
     "execution_count": 131,
     "metadata": {},
     "output_type": "execute_result"
    }
   ],
   "source": [
    "#counting number of occurences in a given string\n",
    "\n",
    "def number_occurences(string, character):\n",
    "    result=0\n",
    "    \n",
    "    for i in range(len(string)):\n",
    "        if (string[i]==character):\n",
    "            result=result+1\n",
    "    return result\n",
    "\n",
    "string='facebook'\n",
    "character='k'\n",
    "\n",
    "number_occurences(string, character)"
   ]
  },
  {
   "cell_type": "code",
   "execution_count": 141,
   "id": "60efd53a",
   "metadata": {},
   "outputs": [
    {
     "data": {
      "text/plain": [
       "7"
      ]
     },
     "execution_count": 141,
     "metadata": {},
     "output_type": "execute_result"
    }
   ],
   "source": [
    "# How do you find the non-matching characters in a string?\n",
    "\n",
    "def non_matching(string, character):\n",
    "    result=0\n",
    "    \n",
    "    for i in range(len(string)):\n",
    "#below line counts the non matching characters\n",
    "        if (string[i]!=character):\n",
    "            result=result+1\n",
    "    return result\n",
    "\n",
    "string='facebook'\n",
    "character='k'\n",
    "\n",
    "non_matching(string, character)"
   ]
  },
  {
   "cell_type": "markdown",
   "id": "8e412830",
   "metadata": {},
   "source": [
    "22-Dec 2023\n",
    "\n",
    "* Revise w3 school Python from beginning: https://www.w3schools.com/python/python_booleans.asp\n",
    "* prob solves from prep byte : https://www.prepbytes.com/blog/python/10-simple-python-programs-for-practice-for-beginners/\n",
    "* KNaik YouTube : https://www.youtube.com/watch?v=tW1BWtQRZ2M&list=PLZoTAELRMXVNUL99R4bDlVYsncUNvwUBB&index=10\n",
    "* first 5 is solved, Interview qa : https://www.theforage.com/blog/interview-questions/coding-interview-questions"
   ]
  },
  {
   "cell_type": "code",
   "execution_count": 18,
   "id": "88b48971",
   "metadata": {},
   "outputs": [
    {
     "name": "stdout",
     "output_type": "stream",
     "text": [
      "5\n",
      "[1, 3, 5, 7, 9]\n",
      "5\n"
     ]
    }
   ],
   "source": [
    "list1 = [\"apple\", \"banana\", \"cherry\"]\n",
    "list2 = [1, 5, 7, 9, 3]\n",
    "list3 = [True, False, False]\n",
    "\n",
    "tup=(sorted(list2))\n",
    "print (list2[1])\n",
    "print (tup)\n",
    "print(len(tup))"
   ]
  },
  {
   "cell_type": "code",
   "execution_count": 19,
   "id": "f8a9f21a",
   "metadata": {},
   "outputs": [
    {
     "name": "stdout",
     "output_type": "stream",
     "text": [
      "['apple', 'banana', 'cherry']\n"
     ]
    }
   ],
   "source": [
    "thislist = list((\"apple\", \"banana\", \"cherry\")) # note the double round-brackets\n",
    "print(thislist)"
   ]
  },
  {
   "cell_type": "code",
   "execution_count": 21,
   "id": "bf1690eb",
   "metadata": {},
   "outputs": [
    {
     "name": "stdout",
     "output_type": "stream",
     "text": [
      "10 2 4\n"
     ]
    }
   ],
   "source": [
    "x,y,z= 10, 2, 4\n",
    "print(x, y, z)"
   ]
  },
  {
   "cell_type": "code",
   "execution_count": 27,
   "id": "14489a09",
   "metadata": {},
   "outputs": [
    {
     "name": "stdout",
     "output_type": "stream",
     "text": [
      "My name is John, and I am 25 years old being born in 1999\n",
      "My name is John, and I am 1999 years old being born in 25\n"
     ]
    }
   ],
   "source": [
    "age = 25\n",
    "year = 1999\n",
    "txt = \"My name is John, and I am {} years old being born in {}\"\n",
    "print(txt.format(age, year))\n",
    "print(txt.format(year, age))"
   ]
  },
  {
   "cell_type": "code",
   "execution_count": 39,
   "id": "82fe8388",
   "metadata": {},
   "outputs": [
    {
     "name": "stdout",
     "output_type": "stream",
     "text": [
      "{'cherry', 'apple'}\n"
     ]
    }
   ],
   "source": [
    "fruits = {\"apple\", \"banana\", \"cherry\"}\n",
    "fruits.remove(\"banana\")\n",
    "print(fruits)"
   ]
  },
  {
   "cell_type": "code",
   "execution_count": 53,
   "id": "ca160a87",
   "metadata": {},
   "outputs": [
    {
     "name": "stdout",
     "output_type": "stream",
     "text": [
      "2020\n",
      "Hundai\n",
      "Ford\n",
      "Bangladesh\n"
     ]
    }
   ],
   "source": [
    "car = {\n",
    "  \"brand\": \"Ford\",\n",
    "  \"model\": \"Mustang\",\n",
    "  \"year\": 1964,\n",
    "  \"country\": \"Bangladesh\"\n",
    "}\n",
    "car[\"year\"]=2020\n",
    "car[\"model\"]='Hundai'\n",
    "\n",
    "print(car.get(\"year\"))\n",
    "print(car.get(\"model\"))\n",
    "print(car.get(\"brand\"))\n",
    "print(car.get(\"country\"))"
   ]
  },
  {
   "cell_type": "markdown",
   "id": "74fb592a",
   "metadata": {},
   "source": [
    "21-Mar 2024"
   ]
  },
  {
   "cell_type": "code",
   "execution_count": 1,
   "id": "23db9526",
   "metadata": {},
   "outputs": [
    {
     "name": "stdout",
     "output_type": "stream",
     "text": [
      "[1, 5, 7, 9, 3]\n"
     ]
    }
   ],
   "source": [
    "list2 = [1, 5, 7, 9, 3]\n",
    "print(list2)"
   ]
  },
  {
   "cell_type": "code",
   "execution_count": 16,
   "id": "fd26f1ac",
   "metadata": {},
   "outputs": [
    {
     "name": "stdout",
     "output_type": "stream",
     "text": [
      "1\n"
     ]
    }
   ],
   "source": [
    "list2 = [1, 5, 7, 9, 3]\n",
    "a=sorted(list2)\n",
    "print(a[0])"
   ]
  },
  {
   "cell_type": "code",
   "execution_count": 3,
   "id": "5b69f5f1",
   "metadata": {},
   "outputs": [
    {
     "name": "stdout",
     "output_type": "stream",
     "text": [
      "Sum of 10 and 15 is 25\n"
     ]
    }
   ],
   "source": [
    "num1 = 10\n",
    "num2 = 15\n",
    "\n",
    "sum_of_integers = num1 + num2\n",
    "print(\"Sum of\", num1, \"and\", num2, \"is\", sum_of_integers)"
   ]
  },
  {
   "cell_type": "code",
   "execution_count": 1,
   "id": "481f446f",
   "metadata": {},
   "outputs": [
    {
     "name": "stdout",
     "output_type": "stream",
     "text": [
      "Area is 120 square unit and perimiter is 44 unit.\n"
     ]
    }
   ],
   "source": [
    "length = 10\n",
    "width = 12\n",
    "area= length*width\n",
    "perimeter= 2*(length+width)\n",
    "print(\"Area is\", area, \"square unit and perimiter is\", perimeter, \"unit.\" )"
   ]
  },
  {
   "cell_type": "code",
   "execution_count": null,
   "id": "e28ae463",
   "metadata": {},
   "outputs": [],
   "source": []
  },
  {
   "cell_type": "code",
   "execution_count": null,
   "id": "e68772f9",
   "metadata": {},
   "outputs": [],
   "source": []
  },
  {
   "cell_type": "code",
   "execution_count": null,
   "id": "2dca8778",
   "metadata": {},
   "outputs": [],
   "source": []
  },
  {
   "cell_type": "code",
   "execution_count": null,
   "id": "7f3fb2ff",
   "metadata": {},
   "outputs": [],
   "source": []
  },
  {
   "cell_type": "code",
   "execution_count": null,
   "id": "33837425",
   "metadata": {},
   "outputs": [],
   "source": []
  },
  {
   "cell_type": "code",
   "execution_count": null,
   "id": "9b5d63a5",
   "metadata": {},
   "outputs": [],
   "source": []
  },
  {
   "cell_type": "code",
   "execution_count": null,
   "id": "3d5f4941",
   "metadata": {},
   "outputs": [],
   "source": []
  },
  {
   "cell_type": "code",
   "execution_count": null,
   "id": "dba77cc5",
   "metadata": {},
   "outputs": [],
   "source": []
  },
  {
   "cell_type": "code",
   "execution_count": null,
   "id": "43154dc9",
   "metadata": {},
   "outputs": [],
   "source": []
  },
  {
   "cell_type": "code",
   "execution_count": null,
   "id": "778a0e99",
   "metadata": {},
   "outputs": [],
   "source": []
  }
 ],
 "metadata": {
  "kernelspec": {
   "display_name": "Python 3 (ipykernel)",
   "language": "python",
   "name": "python3"
  },
  "language_info": {
   "codemirror_mode": {
    "name": "ipython",
    "version": 3
   },
   "file_extension": ".py",
   "mimetype": "text/x-python",
   "name": "python",
   "nbconvert_exporter": "python",
   "pygments_lexer": "ipython3",
   "version": "3.9.13"
  }
 },
 "nbformat": 4,
 "nbformat_minor": 5
}
