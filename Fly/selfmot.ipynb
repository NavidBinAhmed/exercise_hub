{
 "cells": [
  {
   "cell_type": "code",
   "execution_count": 2,
   "metadata": {},
   "outputs": [
    {
     "name": "stdout",
     "output_type": "stream",
     "text": [
      "['000', '001', '010', '011', '100', '101', '110', '111']\n"
     ]
    }
   ],
   "source": [
    "def append_bits(x, L):\n",
    "    return [x + element for element in L]\n",
    "\n",
    "def generate_bit(n):\n",
    "    if n == 0: return []\n",
    "    if n == 1: return [\"0\", \"1\"]\n",
    "    else:\n",
    "        return (append_bits(\"0\" , generate_bit(n-1)) +\n",
    "                append_bits(\"1\" , generate_bit(n-1)))\n",
    "    \n",
    "print(generate_bit(3))"
   ]
  },
  {
   "cell_type": "code",
   "execution_count": 7,
   "metadata": {},
   "outputs": [
    {
     "name": "stdout",
     "output_type": "stream",
     "text": [
      "Navid\n",
      "Navid\n",
      "Navid\n",
      "Navid\n"
     ]
    }
   ],
   "source": [
    "def Func(n):\n",
    "\n",
    "    for i in range (1, n):  \n",
    "        j = i\n",
    "        while j<i*i:        \n",
    "            j=j+1\n",
    "            if j%i==0:\n",
    "                for k in range(0,j):  \n",
    "                    print('Navid') \n",
    "Func(3)"
   ]
  },
  {
   "cell_type": "code",
   "execution_count": 8,
   "metadata": {},
   "outputs": [],
   "source": [
    "def func(n):\n",
    "    counter = 0\n",
    "\n",
    "    for j in range(n/2, n): #n\n",
    "        while j*n/2<=2:     #n2\n",
    "            k=1\n",
    "            while k<=n:     #n3\n",
    "                count=count+1\n",
    "                k=k*2\n",
    "\n",
    "            j=j+1\n",
    "        print(count)\n",
    "\n"
   ]
  },
  {
   "cell_type": "code",
   "execution_count": 10,
   "metadata": {},
   "outputs": [
    {
     "name": "stdout",
     "output_type": "stream",
     "text": [
      "True\n"
     ]
    }
   ],
   "source": [
    "def anagram(str1, str2):\n",
    "    return sorted(str1) == sorted(str2)\n",
    "\n",
    "str1=\"elbow\"\n",
    "str2=\"below\"\n",
    "\n",
    "check = anagram(str1, str2)\n",
    "print(check)"
   ]
  },
  {
   "cell_type": "code",
   "execution_count": 1,
   "metadata": {},
   "outputs": [
    {
     "name": "stdout",
     "output_type": "stream",
     "text": [
      "navid\n"
     ]
    }
   ],
   "source": [
    "print('navid')"
   ]
  },
  {
   "cell_type": "code",
   "execution_count": 19,
   "metadata": {},
   "outputs": [
    {
     "data": {
      "text/plain": [
       "True"
      ]
     },
     "execution_count": 19,
     "metadata": {},
     "output_type": "execute_result"
    }
   ],
   "source": [
    "str1 = \"eleven plus two\"\n",
    "str2 = \"twelve plus one\"\n",
    "\n",
    "def check(str1, str2):\n",
    "    str1 = str1.replace(\" \",\"\").lower()\n",
    "    str2 = str2.replace(\" \", \"\").lower()\n",
    "\n",
    "    if len(str1) == len(str2):\n",
    "        for i in str1:\n",
    "            if i in str2:\n",
    "                pass\n",
    "        return True\n",
    "    return False\n",
    "\n",
    "check(str1, str2)"
   ]
  },
  {
   "cell_type": "code",
   "execution_count": 26,
   "metadata": {},
   "outputs": [
    {
     "name": "stdout",
     "output_type": "stream",
     "text": [
      "True\n"
     ]
    }
   ],
   "source": [
    "from collections import Counter\n",
    "\n",
    "def check(str1, str2):\n",
    "    str1 = str1.replace(\" \", \"\").lower()\n",
    "    str2 = str2.replace(\" \", \"\").lower()\n",
    "\n",
    "    if len(str1) != len(str2):\n",
    "        return False\n",
    "    \n",
    "    return Counter(str1) == Counter(str2)\n",
    "str1 = \"Bat\"\n",
    "str2 = \"Tab\"\n",
    "\n",
    "print(check(str1, str2))"
   ]
  },
  {
   "cell_type": "code",
   "execution_count": 27,
   "metadata": {},
   "outputs": [
    {
     "name": "stdout",
     "output_type": "stream",
     "text": [
      "Yes\n"
     ]
    }
   ],
   "source": [
    "def Anagram(str1, str2):\n",
    "    dict = {}\n",
    "    for i in range(len(str1)):\n",
    "        if ord(str1[i]) <= 122 and ord(str1[i]) >= 97:\n",
    "            if ord(str1[i]) - 32 not in dict:\n",
    "                dict[ord(str1[i]) - 32] = 1\n",
    "            else:\n",
    "                dict[ord(str1[i]) - 32] = dict[ord(str1[i]) - 32] +1\n",
    "        else:\n",
    "            if ord(str1[i]) not in dict:\n",
    "                dict[ord(str[i])] = 1\n",
    "            else:\n",
    "                dict[ord(str1[i])] = dict[ord(str1[i])] +1\n",
    "\n",
    "\n",
    "    for i in range(len(str2)):\n",
    "        if ord(str2[i]) <= 122 and ord(str2[i]) >= 97:\n",
    "            if ord(str2[i]) - 32 not in dict:\n",
    "                if dict[ord(str2[i]) - 32] != 0:\n",
    "                    dict[ord(str2[i]) - 32] = dict[ord(str2[i]) - 32] -1\n",
    "                else:\n",
    "                    return 0      \n",
    "            else:\n",
    "                return 0\n",
    "        else:\n",
    "            if ord(str2[i]) in dict:\n",
    "                if dict[ord(str2[i])] != 0:\n",
    "                    dict[ord(str2[i])] = dict[ord(str2[i])] -1\n",
    "                else:\n",
    "                    return 0\n",
    "            else:\n",
    "                return 0\n",
    "    return 1\n",
    "\n",
    "\n",
    "str1 = input(\"Enter str1: \")\n",
    "str2 = input(\"Enter str2: \")\n",
    "\n",
    "if Anagram(str1, str2):\n",
    "    print(\"Yes\")\n",
    "else:\n",
    "    print(\"No\")\n",
    "    "
   ]
  },
  {
   "cell_type": "code",
   "execution_count": 28,
   "metadata": {},
   "outputs": [
    {
     "name": "stdout",
     "output_type": "stream",
     "text": [
      "Yes\n"
     ]
    }
   ],
   "source": [
    "# here we practice some coding exercise: DSA, Leetcode, etc besides dev\n",
    "\n",
    "'''def nav(list_user):\n",
    "    summation = 0\n",
    "\n",
    "    for elements in list_user:\n",
    "        summation += elements\n",
    "\n",
    "    return summation\n",
    "\n",
    "check = nav([12,3,4,5,2])\n",
    "print(check)'''\n",
    "\n",
    "'''write a function that\n",
    "\n",
    "1. prints the sum of numbers\n",
    "2. prints the max value\n",
    "3. prints the min value\n",
    "4. prints the second largest number\n",
    "5. prints the reversed number''' \n",
    "\n",
    "'''def sum_num(list):\n",
    "\n",
    "    summation = 0\n",
    "\n",
    "    for elements in list:\n",
    "        summation += elements\n",
    "\n",
    "    return summation\n",
    "\n",
    "list = [1,2,3]\n",
    "print(sum_num(list))'''\n",
    "\n",
    "'''def max_value(list):\n",
    "\n",
    "    maximum = 0\n",
    "\n",
    "    for elements in list:\n",
    "        if elements >= maximum:\n",
    "            maximum = elements\n",
    "    \n",
    "    return maximum\n",
    "\n",
    "list = [1,2,3,6,4,7]\n",
    "print(max_value(list))'''\n",
    "\n",
    "'''def min_value(list):\n",
    "\n",
    "    minimum = float('inf')\n",
    "\n",
    "    for elements in list:\n",
    "        if elements <= minimum:\n",
    "            minimum = elements\n",
    "\n",
    "    return minimum\n",
    "\n",
    "list = [7,2,3,4]\n",
    "print(min_value(list))'''\n",
    "\n",
    "\n",
    "'''def second_largest(list_input):\n",
    "\n",
    "\n",
    "    first, second = float('-inf'), float('-inf')\n",
    "\n",
    "#[1,2,3]--for 1 in list: if 1 > -inf, \n",
    "    for elements in list_input:\n",
    "        if elements > first:\n",
    "            second = first\n",
    "            first = elements\n",
    "\n",
    "#[1,2,4,3]--- 4 > 3 > new sec\n",
    "        elif first > elements > second:\n",
    "            second = elements\n",
    "\n",
    "    return second\n",
    "\n",
    "print(second_largest(list_input=[1,2,3,4,5,6,7,8]))'''\n",
    "\n",
    "\n",
    "'''def reversed_number(list_input):\n",
    "\n",
    "    reversed_list = []\n",
    "\n",
    "    for elements in list_input[::-1]:\n",
    "        reversed_list.append(elements)\n",
    "\n",
    "    return reversed_list\n",
    "\n",
    "given_list = [1,2,43,21,4,2]\n",
    "print(reversed_number(given_list)) '''\n",
    "\n",
    "#sum\n",
    "'''def summation(input_list):\n",
    "    sum_input = 0\n",
    "\n",
    "    for elements in input_list:\n",
    "        sum_input += elements\n",
    "    return sum_input\n",
    "\n",
    "given_list = [1,2,3,4,5] \n",
    "print(summation(given_list))'''\n",
    "\n",
    "#leetcode palindrome problem\n",
    "'''class Solution:\n",
    "    def isPalindrome(self, x: int) -> bool:\n",
    "        \n",
    "        if x < 0 :\n",
    "            return False\n",
    "        \n",
    "        number = x\n",
    "        reverse = 0\n",
    "\n",
    "        while number:\n",
    "            reverse = reverse * 10 + number % 10\n",
    "            number //= 10\n",
    "\n",
    "        return x == reverse\n",
    "    \n",
    "check = Solution()\n",
    "print(check.isPalindrome(-121))\n",
    "    \n",
    "#leetcode fibonacci\n",
    "class Solution:\n",
    "    def fib(self, n: int) -> int:\n",
    "        if n == 0:\n",
    "            return 0\n",
    "        if n == 1:\n",
    "            return 1\n",
    "        \n",
    "        return fib.self[n-2] + fib.self[n-1]\n",
    "\n",
    "print(Solution.fib(2,3))\n",
    "'''\n",
    "\n",
    "\n",
    "#python tutorial.py\n",
    "#https://www.youtube.com/watch?v=rfscVS0vtbw\n",
    "#4:15- inheritance\n",
    "'''\n",
    "name = input(\"Enter your name: \")\n",
    "age = input(\"Enter your age: \")\n",
    "print(\"Hello \" + name + \"! You are \" + age)\n",
    "'''\n",
    "\n",
    "'''\n",
    "num1 = int(input(\"Enter a number: \"))\n",
    "num2 = int(input(\"Enter another number: \"))\n",
    "result = num1 + num2\n",
    "print(result)\n",
    "'''\n",
    "'''\n",
    "#madlibs game\n",
    "color = input(\"Enter a color: \")\n",
    "plural_noun = input(\"Enter a plural noun: \")\n",
    "celebrity = input(\"Enter a celebrity: \")\n",
    "\n",
    "print(\"Roses are \" + color)\n",
    "print(plural_noun + \" are blue\")\n",
    "print(\"I love \" + celebrity)\n",
    "'''\n",
    "'''\n",
    "#lists\n",
    "friends = [\"Kevin\", \"Karen\", \"Jim\", 2, True]\n",
    "print(friends)\n",
    "print(friends[4])\n",
    "\n",
    "relatives = [\"Kevi\", \"Kare\", \"Ji\", 4, False]\n",
    "\n",
    "full= friends + relatives\n",
    "print(full[1:3])\n",
    "\n",
    "full[0]= \"Navid\"\n",
    "print(full)\n",
    "'''\n",
    "\n",
    "'''#list function\n",
    "lucky_numbers = [4, 5, 2, 6, 1]\n",
    "lucky_numbers.reverse()\n",
    "print(lucky_numbers)\n",
    "\n",
    "friends = [\"Kevin\", \"Karen\", \"Jim\", \"Jim\"]\n",
    "friends.sort()\n",
    "friends.reverse()\n",
    "f2 = friends.copy()\n",
    "print(f2)\n",
    "\n",
    "friends = [\"Kevin\", \"Karen\", \"Jim\", \"Jim\"]\n",
    "friends.extend(lucky_numbers)\n",
    "friends.append(\"Creed\")\n",
    "friends.insert(1, \"Kelly\")\n",
    "friends.pop()  #removes the last value\n",
    "'''\n",
    "\n",
    "'''\n",
    "#tuple: immutable (it is as it is)\n",
    "coordinates = (4, 5)\n",
    "print(coordinates)\n",
    "index = coordinates[1]\n",
    "print(index)\n",
    "coordinates[1] = 10\n",
    "'''\n",
    "\n",
    "#function\n",
    "'''def sayhi():\n",
    "    print(\"Hi\")\n",
    "sayhi()\n",
    "'''\n",
    "\n",
    "#parameterize\n",
    "'''def say_hi(name, age):\n",
    "    print(\"hello user, \" + name + \". You are \" + str(age)+ \".\")\n",
    "\n",
    "say_hi(\"Mike\", 24)\n",
    "say_hi(\"Navid\", 34)'''\n",
    "\n",
    "#returning value: alternative of a calculation or print statement inside function\n",
    "'''def cube(num):\n",
    "    return num*num*num\n",
    "    #a = num*num*num\n",
    "    #print(a)\n",
    "print(cube(4))\n",
    "#cube(3)'''\n",
    "\n",
    "'''#if-else\n",
    "a ='im hungry'\n",
    "if a ==\"im hungry\" :\n",
    "    print(\"I eat breakfast\")\n",
    "else:\n",
    "    print(\"none\")\n",
    "\n",
    "\n",
    "is_male = False\n",
    "\n",
    "if is_male:\n",
    "    print(\"You are a male\")\n",
    "else:\n",
    "    print(\"None\")'''\n",
    "\n",
    "\n",
    "'''def max_num(num1, num2, num3):\n",
    "    if num1 >= num2 and num1 >= num3:\n",
    "        return num1\n",
    "    elif num2 >= num1 and num2 >= num3:\n",
    "        return num2\n",
    "    else:\n",
    "        return num3\n",
    "    \n",
    "print(max_num(354,400,25))'''\n",
    "\n",
    "#better calculator 1\n",
    "'''def calculator(num1: int, num2: int, num3: int):\n",
    "    sum = num1 + num2 + num3\n",
    "    diff = num2 - num1\n",
    "    div = num3/num1\n",
    "    mul = num1*2\n",
    "    #return sum, diff, div, mul\n",
    "\n",
    "    print(\"the results are: \" + str(sum) + \",\" + str(diff) + \",\" + str(div) + \",\" + str(mul))\n",
    "\n",
    "calculator(12,36,48)'''\n",
    "\n",
    "#better calculator 2\n",
    "'''num1 = int(input(\"Enter first number: \"))\n",
    "op = input(\"Enter operator: \")\n",
    "num2 = int(input(\"Enter second number: \"))\n",
    "\n",
    "if op == '+':\n",
    "    sum = num1 + num2\n",
    "    print(\"summation is \" + str(sum))\n",
    "\n",
    "elif op == '-':\n",
    "    diff = num1 - num2\n",
    "    print(\"difference is \" + str(diff))\n",
    "\n",
    "elif op == '*':\n",
    "    mul = num1 * num2\n",
    "    print(\"product is \" + str(mul))\n",
    "\n",
    "elif op == '/':\n",
    "    div = num1 / num2\n",
    "    print(\"quotient is \" + str(div))\n",
    "\n",
    "else:\n",
    "    print(\"Invalid operator\")'''\n",
    "\n",
    "#dictionaries- introduction\n",
    "'''di = {'name': 'navid', 'age': '34', 'city': 'Dhaka', 'religion': 'Islam', 'marital': 'single'}\n",
    "\n",
    "print(f\"The person is {di['name']} and he is {di['marital']}.\")\n",
    "\n",
    "print(di['name'], di['age'])'''\n",
    "\n",
    "\n",
    "#dictionaries- month\n",
    "'''month = {1: 'January', 'feb': 'February', 'mar': 'March', 'apr': 'April', 'may': 'May', 'jun': 'June', 'jul': 'July', 'aug': 'August',\n",
    "         'sep': 'September', 'oct': 'October', 'nov': 'November', 'dec': 'December'}\n",
    "\n",
    "print(month['mar'])\n",
    "print(month.get(1))\n",
    "print(month.get('Luv', 'Not valid key'))\n",
    "print(month.get('jan', 'the first month'))'''\n",
    "\n",
    "#while loop:\n",
    "'''i = 1\n",
    "\n",
    "while i <= 10:\n",
    "    print(i)\n",
    "    i += 1\n",
    "\n",
    "print(\"Done with loop\")\n",
    "'''\n",
    "\n",
    "#guessing game\n",
    "'''secret_word = 'dog'\n",
    "guess = \"\"\n",
    "guess_count = 0\n",
    "guess_limit = 3\n",
    "out_of_guesses = False\n",
    "\n",
    "while guess != secret_word and not(out_of_guesses):\n",
    "    if guess_count < guess_limit:\n",
    "        guess = input(\"Enter guess: \")\n",
    "        guess_count += 1\n",
    "    else:\n",
    "        out_of_guesses = True\n",
    "\n",
    "if out_of_guesses:\n",
    "    print(\"Out of guesses. You lose!\")\n",
    "else:\n",
    "    print(\"You win!\")\n",
    "'''\n",
    "\n",
    "'''secret_word = \"cat\"\n",
    "guess = \"\"\n",
    "guess_count = 0\n",
    "guess_limit = 3\n",
    "out_of_guesses = False\n",
    "\n",
    "while guess != secret_word and not(out_of_guesses):\n",
    "    if guess_count < guess_limit:\n",
    "        guess = input(\"Enter guess: \")\n",
    "        guess_count += 1\n",
    "    else:\n",
    "        out_of_guesses = True\n",
    "\n",
    "if out_of_guesses:\n",
    "    print(\"Out of guesses, You lose.\")\n",
    "else:\n",
    "    print(\"You win!\")'''\n",
    "\n",
    "\n",
    "'''secret_word = \"cat\"\n",
    "guess = \"\"\n",
    "\n",
    "while guess != secret_word:\n",
    "    guess = input(\"Enter guess: \")\n",
    "\n",
    "print(\"You win!\")'''\n",
    "\n",
    "\n",
    "#for loop\n",
    "'''list = ['apple', 'orange', 'mango', 'guava']\n",
    "len(list)\n",
    "for fruits in range(len(list)):\n",
    "    print(list[fruits])\n",
    "'''\n",
    "'''for letter in \"Navid Bin Ahmed\":\n",
    "    print(letter)\n",
    "'''\n",
    "\n",
    "#looping using index\n",
    "'''list = ['apple', 'orange', 'mango', 'guava']\n",
    "len(list)\n",
    "for fruits in range(len(list)):\n",
    "    print(list[fruits])'''\n",
    "\n",
    "\n",
    "#exponent - function\n",
    "'''num = (2, 4, 5, 6, 3)\n",
    "\n",
    "def raise_power():\n",
    "    for nums in num:\n",
    "        print(nums**3)\n",
    "\n",
    "raise_power()\n",
    "'''\n",
    "#exponent - function - base power\n",
    "'''def raise_power(base, power):\n",
    "    #print(base**power)\n",
    "    #return\n",
    "    return print(base**power)\n",
    "raise_power(2,5)\n",
    "'''\n",
    "#exponent - function - base power\n",
    "'''def raise_power(base, power):\n",
    "    result = 1\n",
    "    for index in range(power):\n",
    "        result = result * base\n",
    "    return result\n",
    "\n",
    "print(raise_power(3,4))'''\n",
    "\n",
    "#exponent - function - base power\n",
    "'''def raise_to_power(base, power):\n",
    "    result = 1\n",
    "    for index in range(power):\n",
    "        result = result * base\n",
    "    return result\n",
    "print(raise_to_power(2,3))'''\n",
    "\n",
    "#exponent - for loop\n",
    "'''num = [3,5,6,7]\n",
    "\n",
    "for nums in num:\n",
    "    print(nums**3)'''\n",
    "\n",
    "\n",
    "#2D array list\n",
    "'''number_grid = [\n",
    "    [1,2,4],\n",
    "    [2,4,5],\n",
    "    [4,2,4],\n",
    "    [0,3]\n",
    "]\n",
    "print(number_grid[0][0])\n",
    "print(number_grid[1][1])\n",
    "print(number_grid[3][0])\n",
    "'''\n",
    "\n",
    "#nested for loop- loop inside loop\n",
    "'''number_grid = [\n",
    "    [1,2,4],\n",
    "    [2,4,5],\n",
    "    [4,2,4],\n",
    "    [0,3]\n",
    "]\n",
    "\n",
    "for row in number_grid:    #shows full matrix, output = as it is 2D array\n",
    "    #print(row)\n",
    "    for col in row:        #shows each element in specific row, output = individual all elements\n",
    "        print(col)'''\n",
    "\n",
    "#2D array and nested loop\n",
    "'''number_grid = [\n",
    "    [1,3,4],\n",
    "    [4,5,2],\n",
    "    [2,4,5]\n",
    "]\n",
    "\n",
    "for row in number_grid:\n",
    "    print(row)\n",
    "    for col in row:\n",
    "        print(col)'''\n",
    "\n",
    "#translator 2:57\n",
    "\n",
    "'''def translate(phrase):\n",
    "    translation = \" \"\n",
    "    for letter in phrase:\n",
    "        if letter in \"AEIOUaeiou\":\n",
    "            translation = translation + \"g\"\n",
    "        else:\n",
    "            translation = translation + letter\n",
    "\n",
    "    return translation\n",
    "\n",
    "print(translate(input(\"Enter a phrase: \")))'''\n",
    "\n",
    "'''def translate(phrase):\n",
    "    tranlation = \"\"\n",
    "    for letter in phrase:\n",
    "        if letter in \"AEIOUaeiou\":\n",
    "            tranlation = tranlation + \"k\"\n",
    "        else:\n",
    "            tranlation = tranlation + letter\n",
    "    return tranlation\n",
    "print(translate(input(\"Enter a phrase: \")))'''\n",
    "\n",
    "\n",
    "#a basic translator\n",
    "'''def translator(phrase):\n",
    "    translation = \"\"\n",
    "\n",
    "    for letter in phrase:\n",
    "        if letter in \"AEIOUaeiou\":\n",
    "            translation = translation + \"k\"\n",
    "        else:\n",
    "            translation = translation + letter\n",
    "    return translation\n",
    "\n",
    "print(translator(input(\"Enter a phrase: \"))) \n",
    "'''\n",
    "\n",
    "'''def translator(phrase):\n",
    "    translation = \"\"\n",
    "\n",
    "    for letter in phrase:\n",
    "        if letter.lower() in \"aeiou\":\n",
    "            if letter.isupper():\n",
    "                translation = translation + \"G\"\n",
    "            else:\n",
    "                translation = translation + \"g\"\n",
    "        else:\n",
    "            translation = translation + letter\n",
    "    return translation\n",
    "\n",
    "print(translator(input(\"Enter a phrase: \")))''' \n",
    "\n",
    "#try except\n",
    "# dealing with error, value error for example\n",
    "'''try:\n",
    "    value = 10/0 #divisionbyzero error\n",
    "    number = int(input(\"enter a number: \"))\n",
    "    print(number)\n",
    "\n",
    "except ZeroDivisionError as err:\n",
    "    print(\"Division by zero error\")  #for 10/0 problem\n",
    "\n",
    "except ValueError:\n",
    "    print(\"Invalid input\")\n",
    "'''\n",
    "\n",
    "#reading, writing, creating, appending files\n",
    "'''file = open(\"text.txt\", \"a\")\n",
    "file.write(\"\\n<p> This is a paragraph.</p>\")\n",
    "\n",
    "file.close()'''\n",
    "\n",
    "#modules and pip - importing functions from external file: usteful_tool\n",
    "#modules- file\n",
    "#package - multiple modules/files\n",
    "'''file = open(\"usteful_tool.py\", \"w\")\n",
    "file.close()'''\n",
    "\n",
    "'''import usteful_tool\n",
    "a = usteful_tool.roll_dice(10)\n",
    "print(a)\n",
    "b = usteful_tool.get_file_ext(\"sanik.txt\")\n",
    "print(b)'''\n",
    "\n",
    "'''import operator\n",
    "x = int(input(\"enter x: \"))\n",
    "y = int(input(\"enter y: \"))\n",
    "a = operator.add(x,y)\n",
    "print(\"Addition is :\", a)'''\n",
    "\n",
    "\n",
    "#classes and objects\n",
    "#creating a student file as class\n",
    "'''file = open(\"student.py\", \"w\")\n",
    "file.close()\n",
    "'''\n",
    "#importing and creating object for the student class\n",
    "'''from student import Student\n",
    "\n",
    "student1 = Student(\"Navid\", 2.5, \"Science\", True)\n",
    "print(student1.name)\n",
    "print(student1.gpa)\n",
    "print(student1.on_probabtion)\n",
    "print(student1.subject)'''\n",
    "\n",
    "\n",
    "#create a class and object for person: name and age\n",
    "#creating class file\n",
    "'''file = open(\"person.py\", \"w\")\n",
    "file.close()'''\n",
    "\n",
    "#by importing and creating object\n",
    "'''from person import Person\n",
    "\n",
    "attendee_1 = Person(\"John\", 27, \"Boston\", \"Single\", \"Married\")\n",
    "print(\"Relationship status of the person is: \", attendee_1.relationship)\n",
    "print(\"Name and age of the attendee: \", attendee_1.name, attendee_1.age)\n",
    "'''\n",
    "\n",
    "#by directly writing class and object\n",
    "'''class Person:\n",
    "\n",
    "    def __init__(self, name, age, location, relationship, education):\n",
    "        self.name = name\n",
    "        self.age = age\n",
    "        self.location = location\n",
    "        self.relationship = relationship \n",
    "        self.education = education \n",
    "\n",
    "attendee_1 = Person(\"John\", 27, \"Boston\", \"Single\", \"Married\")\n",
    "print(\"Relationship status of the person is: \", attendee_1.relationship)\n",
    "print(\"Name and age of the attendee: \", attendee_1.name, attendee_1.age)\n",
    "'''\n",
    "\n",
    "\n",
    "#mcq quiz\n",
    "'''questions = [\n",
    "    \"What color are skies?\\n (a)Red\\n (b)Blue\\n (c)Green\\n\\n\",\n",
    "    \"What color is the blood?\\n (a)Green\\n (b)Red\\n (c)Blue\\n\\n\",\n",
    "    \"What color is the grass?\\n (a)Red\\n (b)Greed\\n (c)Blue\\n\\n\"\n",
    "]\n",
    "\n",
    "from question import Question\n",
    "\n",
    "ques = [\n",
    "   Question(questions[0], \"b\"),\n",
    "   Question(questions[1], \"b\"),\n",
    "   Question(questions[2], \"b\") \n",
    "]\n",
    "\n",
    "def run_quiz(ques):\n",
    "    score = 0\n",
    "    for questions in ques:\n",
    "        answer = input(questions.prompt)\n",
    "        if answer == questions.answer:\n",
    "            score += 1\n",
    "    print(\"You got: \" + str(score) + \"/\" + str(len(ques)) + \" correct\")\n",
    "run_quiz(ques)'''\n",
    "\n",
    "#quiz\n",
    "'''questions = [\n",
    "    \"What color are apples?\\n (a)Red/Green\\n (b)Purple\\n (c)Orange\\n\\n\",\n",
    "    \"What color are bananas?\\n (a)Teal\\n (b)Magenta\\n (c)Yellow\\n\\n\",\n",
    "    \"What color are strawberries?\\n (a)Yellow\\n (b)Red\\n (c)Blue\\n\\n\"  \n",
    "]\n",
    "\n",
    "from question import Question\n",
    "\n",
    "questions = [\n",
    "    Question(questions[0], \"a\"),\n",
    "    Question(questions[1], \"c\"),\n",
    "    Question(questions[2], \"b\")\n",
    "]\n",
    "\n",
    "def run_test(questions):\n",
    "    score = 0\n",
    "\n",
    "    for question in questions:\n",
    "        answer = input(question.prompt)\n",
    "        if answer == question.answer:\n",
    "            score += 1\n",
    "    print(\"You got: \" + str(score) + \"/\" + str(len(questions)) + \" correct\")\n",
    "\n",
    "run_test(questions)\n",
    "'''\n",
    "\n",
    "#class method object\n",
    "'''class Car:\n",
    "    # Define attributes\n",
    "    color = \"red\"\n",
    "    brand = \"Toyota\"\n",
    "\n",
    "    # Define a method\n",
    "    def start_engine(selfabc):\n",
    "        print(\"Engine started!\")\n",
    "\n",
    "# Create an object of the Car class\n",
    "my_car = Car()\n",
    "\n",
    "# Accessing attributes\n",
    "print(my_car.color)  # Output: red\n",
    "\n",
    "# Calling methods\n",
    "my_car.start_engine()  # Output: Engine started!\n",
    "'''\n",
    "\n",
    "#check wheather the student is in honor roll\n",
    "'''from student import Student\n",
    "\n",
    "student1 = Student(\"Oscar\", 3.10, \"Accounting\",  False)\n",
    "student2 = Student(\"Phyllis\", 3.80, \"Business\", True)\n",
    "\n",
    "print(student2.on_honor_roll())'''\n",
    "\n",
    "#class, object and inheritance\n",
    "'''class Car:\n",
    "    def __init__(self, window, door, engine):\n",
    "        self.window = window\n",
    "        self.door = door\n",
    "        self.engine = engine\n",
    "\n",
    "    \n",
    "    def driving(self):\n",
    "        print(\"Let's drive the car\")'''\n",
    "\n",
    "#audi is inherited from the parent Car class, with additional parameter 'horsepower'\n",
    "'''class Audi(Car):\n",
    "    def __init__(self, window, door, engine, horsepower):\n",
    "        super().__init__(window, door, engine)\n",
    "        self.horsepower = horsepower\n",
    "    \n",
    "\n",
    "    def selfdriving(self):\n",
    "        print(\"It is a self driving car.\")\n",
    "\n",
    "audiq7 = Audi(4, 5, \"Diesel\", 200)\n",
    "\n",
    "print(audiq7.horsepower)\n",
    "print(audiq7.window)\n",
    "print(audiq7.driving())\n",
    "print(audiq7.selfdriving())\n",
    "\n",
    "car1 = Car(4,5,\"Diesel\")\n",
    "print(car1)\n",
    "print(audiq7)\n",
    "\n",
    "print(dir(audiq7))'''\n",
    "\n",
    "#inheritance\n",
    "'''from chef import Chef\n",
    "\n",
    "myChef = Chef()\n",
    "myChef.make_chicken()\n",
    "myChef.make_pasta()\n",
    "\n",
    "#we can print this way too\n",
    "Chef().make_chicken()\n",
    "Chef().make_pasta()\n",
    "'''\n",
    "\n",
    "#create a car class and inherid audi from it\n",
    "'''class Car:\n",
    "    def __init__(self, window, door, engine):\n",
    "        self.window = window\n",
    "        self.door = door\n",
    "        self.engine = engine\n",
    "\n",
    "    def drive(self):\n",
    "        print(\"Let's drive the car.\")\n",
    "\n",
    "class Audi(Car):\n",
    "    def __init__(self, window, door, engine, speed):\n",
    "        super().__init__(window, door, engine)\n",
    "        self.speed = speed\n",
    "\n",
    "    def selfdrive(self):\n",
    "        print(\"Audi is self driving car.\")\n",
    "\n",
    "audi7 = Audi(4, 5, \"Diesel\", 6)\n",
    "\n",
    "print(audi7.door)\n",
    "print(audi7.window)\n",
    "print(audi7.engine)\n",
    "'''\n",
    "#create BMW class inherited from Car class \n",
    "'''class BMW(Car):\n",
    "    def __init__(self, window, door, engine):\n",
    "        super().__init__(window, door, engine)\n",
    "\n",
    "bmw = BMW(3, 4, \"Electric\")\n",
    "print(bmw.window)\n",
    "print(bmw.door)\n",
    "print(bmw.engine)\n",
    "'''\n",
    "\n",
    "#create class and call object from it\n",
    "'''class Car:\n",
    "    def __init__(self, window, door):\n",
    "        self.window = window\n",
    "        self.door = door\n",
    "\n",
    "    #method\n",
    "    def runfast(self):\n",
    "        print(\"The car runs fast.\")\n",
    "\n",
    "audi = Car(4, 5)\n",
    "#print(audi.window)\n",
    "#my_car = Car(4, 6)\n",
    "audi.runfast()'''\n",
    "\n",
    "#Most asked interview ques from medium - link later: class object\n",
    "# Ex- 1 Original code and the mistake in it: Attribute error\n",
    "'''class MyClass:\n",
    "    def __init__(self):\n",
    "        self.__variable = 42\n",
    "\n",
    "obj = MyClass()\n",
    "print(obj.__variable)\n",
    "'''\n",
    "#as the name mangling changes the attribute as _MyClass__variable\n",
    "#so the following should work\n",
    "'''class MyClass:\n",
    "    def __init__(self):\n",
    "        self.__variable = 42\n",
    "obj = MyClass()\n",
    "print(obj._MyClass__variable)'''\n",
    "\n",
    "#alternatively, another corrected form                 \n",
    "'''class MyClass:\n",
    "    def __init__(self):\n",
    "        self.__variable = 42\n",
    "\n",
    "    def get_variable(self):\n",
    "        return self.__variable\n",
    "\n",
    "obj = MyClass()\n",
    "print(obj.get_variable())\n",
    "\n",
    "#Output 42'''\n",
    "\n",
    "#exercise 2\n",
    "'''class A:\n",
    "    def __init__(self):\n",
    "        self.__variable = 42\n",
    "    \n",
    "\n",
    "    def display(self):\n",
    "        print(self.__variable)   #name mingling problem unless we return it\n",
    "        #return self.__variable  #not working\n",
    "\n",
    "class B(A):                     #B is inherited by A\n",
    "    def __init__(self):\n",
    "        super().__init__()\n",
    "        self.__variable = 99\n",
    "\n",
    "\n",
    "obj = A()\n",
    "obj.display()\n",
    "\n",
    "obj2 = B()\n",
    "obj.display()\n",
    "\n",
    "#prints 42 not 99. Because A calls display method first even it has name mingling.\n",
    "'''\n",
    "\n",
    "#will it work removing super init? yes\n",
    "'''class A:\n",
    "    def __init__(self):\n",
    "        self.__variable = 42\n",
    "    \n",
    "\n",
    "    def display(self):\n",
    "        print(self.__variable)   #name mingling problem unless we return it\n",
    "        #return self.__variable  #not working\n",
    "\n",
    "class B(A):                     #B is inherited by A\n",
    "    def __init__(self):\n",
    "        #super().__init__()\n",
    "        self.__variable = 99\n",
    "\n",
    "\n",
    "obj = A()\n",
    "obj.display()\n",
    "\n",
    "obj2 = B()\n",
    "obj.display()\n",
    "'''\n",
    "#@classmethod is python decorator telling interpreter to treat it like a class method\n",
    "'''class A:\n",
    "    count = 0\n",
    "\n",
    "    def __init__(self):\n",
    "        A.count += 3\n",
    "\n",
    "    @classmethod\n",
    "    def get_count(cls):\n",
    "        return cls.count\n",
    "    \n",
    "obj_one = A()\n",
    "obj_two = A()\n",
    "\n",
    "print(obj_one.get_count())\n",
    "print(obj_two.get_count())\n",
    "\n",
    "#output 6'''\n",
    "\n",
    "'''class A:\n",
    "    count = 0\n",
    "    \n",
    "    def __init__(self):\n",
    "        self.count += 1\n",
    "    \n",
    "    @classmethod\n",
    "    def get_count(cls):\n",
    "        return cls.count\n",
    "    \n",
    "obj_one = A()\n",
    "obj_two = A()\n",
    "print(obj_one.get_count())\n",
    "print(obj_two.get_count())'''\n",
    "\n",
    "\n",
    "#write an example of Student class and create object for 3 students, with a method\n",
    "#Show example for inheritance\n",
    "'''class Student:\n",
    "    def __init__(self, name, subject, marks):\n",
    "        self.name = name\n",
    "        self.subject = subject\n",
    "        self.marks = marks\n",
    "    \n",
    "    @classmethod\n",
    "    def honor(self):\n",
    "        print(\"Top students in the class!\")\n",
    "\n",
    "class HighGPA(Student):\n",
    "    def __init__(self, name, subject, marks, grade):\n",
    "        super().__init__(name, subject, marks)\n",
    "        self.grade = grade \n",
    "\n",
    "    @classmethod\n",
    "    def honor(self):\n",
    "        print(\"He is the topper!\")\n",
    "\n",
    "first = HighGPA(\"Akib\", \"Math\", 99, \"A+\")\n",
    "second = HighGPA(\"Tamim\", \"English\", 91, \"A+\")\n",
    "third = HighGPA(\"Labib\", \"Bangla\", 92, \"A+\")\n",
    "\n",
    "print(second.name)\n",
    "print(third.grade)\n",
    "print(first.name)\n",
    "HighGPA(\"Akib\", \"Math\", 99, \"A+\").honor()\n",
    "'''\n",
    "#write an example of Student class and create object for 3 students, with a method\n",
    "#Show example for inheritance\n",
    "#class attributes\n",
    "'''class Person:\n",
    "    name = \"Navid\"\n",
    "    occupation = \"Scientist\"\n",
    "    networth = 100\n",
    "\n",
    "a = Person()\n",
    "print(a.name, a.occupation)\n",
    "\n",
    "a.name = \"Sakin\"\n",
    "a.occupation = \"Accountant\"\n",
    "print(a.name, a.occupation)\n",
    "'''\n",
    "\n",
    "#instance attributes\n",
    "'''class Person:\n",
    "    def __init__(self, name, occupation):\n",
    "        self.name = name\n",
    "        self.occupation = occupation\n",
    "\n",
    "first = Person(\"Navid\", \"Scientist\")\n",
    "second = Person(\"Sakin\", \"Developer\")\n",
    "print(first.name, first.occupation)\n",
    "print(second.name, second.occupation)\n",
    "'''\n",
    "\n",
    "#this should work as well when instance attributes can be customized by passing \n",
    "#arguments to the constructor (__init__) when creating instances of the class\n",
    "'''class Person:\n",
    "    def __init__(self, name = \"Navid\", occupation = \"Scientist\"):\n",
    "        self.name = name\n",
    "        self.occupation = occupation\n",
    "\n",
    "#first = Person(\"Navid\", \"Scientist\")\n",
    "#second = Person(\"Sakin\", \"Developer\")\n",
    "first =  Person()\n",
    "print(first.name, first.occupation)\n",
    "#print(second.name, second.occupation)'''\n",
    "\n",
    "#create class with method, and create its instance/object with inheritance\n",
    "'''class Restaurant:\n",
    "    def __init__(self, pizza, tea, beaf, juice):\n",
    "        self.pizza = pizza\n",
    "        self.tea = tea\n",
    "        self.beaf = beaf\n",
    "        self.juice = juice\n",
    "    \n",
    "    @classmethod\n",
    "    def order(self):\n",
    "        print(\"Order is placed.\")\n",
    "\n",
    "#creating object\n",
    "Royal_Cafe = Restaurant(\"Pizza\", \"Malai Tea\", \"Pasta\", \"Malta\")\n",
    "print(Royal_Cafe.pizza)\n",
    "print(Royal_Cafe.beaf)\n",
    "print(Royal_Cafe.juice)\n",
    "Restaurant(\"Pizza\", \"Malai Tea\", \"Pasta\", \"Malta\").order()\n",
    "'''\n",
    "\n",
    "#creating a class for reataurant and inherit it for two restaurance in Gazipur subclass \n",
    "'''class Restaurant:\n",
    "    def __init__(self, pizza, tea, beaf, juice):\n",
    "        self.pizza = pizza\n",
    "        self.tea = tea\n",
    "        self.beaf = beaf\n",
    "        self.juice = juice\n",
    "    \n",
    "    @classmethod\n",
    "    def order(self):\n",
    "        print(\"Order is placed.\")\n",
    "\n",
    "class Gazipur(Restaurant):\n",
    "    def __init__(self, pizza, tea, beaf, juice, fuska):\n",
    "        super().__init__(pizza, tea, beaf, juice)\n",
    "        self.fuska = fuska\n",
    "\n",
    "Royal = Gazipur(\"Pizza\", \"Malai Tea\", \"Pasta\", \"Malta\", \"Doi-Fuska\")\n",
    "print(Royal.fuska)\n",
    "print(Royal.juice)\n",
    "\n",
    "Handi = Gazipur(\"Pizza\", \"Malai Tea\", \"Pasta\", \"Malta\", \"Doi-Fuska\")\n",
    "print(Handi.pizza)\n",
    "\n",
    "#creating object\n",
    "Royal_Cafe = Restaurant(\"Pizza\", \"Malai Tea\", \"Pasta\", \"Malta\")\n",
    "print(Royal_Cafe.pizza)\n",
    "print(Royal_Cafe.beaf)\n",
    "print(Royal_Cafe.juice)\n",
    "Restaurant(\"Pizza\", \"Malai Tea\", \"Pasta\", \"Malta\").order()\n",
    "'''\n",
    "\n",
    "#inheritance, object, class exercises\n",
    "#https://medium.com/@zilayhuda/most-asked-python-interview-questions-part-1-classes-a27816b04bbe\n",
    "#upto ex 3\n",
    "'''class A:\n",
    "    count = 0\n",
    "    def __init__(self):\n",
    "        A.count += 1\n",
    "    @classmethod\n",
    "    def get_count(cls):\n",
    "        return cls.count\n",
    "class B(A):\n",
    "    pass\n",
    "    def __init__(self):\n",
    "        B.count += 1\n",
    "a = A()\n",
    "b = B()\n",
    "print(a.get_count())\n",
    "print(b.get_count())\n",
    "'''\n",
    "\n",
    "\n",
    "#write a class for mobile and add instance for 3 phones\n",
    "#also inherit this to create deshi phones\n",
    "\n",
    "'''class Mobile:\n",
    "    def __init__(self, name, model, price):\n",
    "        self.name = name\n",
    "        self.model = model\n",
    "        self.price = price\n",
    "    \n",
    "    @classmethod\n",
    "    def availabilit(self):\n",
    "        print(\"Available globally\")'''\n",
    "\n",
    "#creating instances from class\n",
    "\n",
    "'''Samsung = Mobile(\"Samsung\", \"S7\", \"26,500 Tk\")\n",
    "iPhone = Mobile(\"iPhone\", \"15 Pro Max\", \"155,000 Tk\")\n",
    "Oppo = Mobile(\"Oppo\", \"M2\", \"32,500 Tk\")\n",
    "\n",
    "print(Samsung.name, Samsung.model, Samsung.price)\n",
    "print(iPhone.name, iPhone.model, iPhone.price)\n",
    "print(Oppo.name, Oppo.model, Oppo.price)'''\n",
    "\n",
    "# now inherit a class named deshiphone and use the attributes with new ones\n",
    "\n",
    "'''class Deshi(Mobile):\n",
    "    def __init__(self, name, model, price, company):\n",
    "        super().__init__(name, model, price)\n",
    "        self.comppany = company\n",
    "\n",
    "    def location(self):\n",
    "        print(\"These are made in bangladesh phones.\")\n",
    "\n",
    "Walton = Deshi(\"Walton,\", \"A1,\", \"27,000 Tk,\", \"Walton Group.\")\n",
    "Sapphire = Deshi(\"Sapphire,\", \"AS,\", \"123,000 Tk,\", \"Sapphire Tech.\")\n",
    "\n",
    "print(Walton.name, Walton.model, Walton.price, Walton.comppany)\n",
    "print(Sapphire.name, Sapphire.model, Sapphire.price, Sapphire.comppany)\n",
    "'''\n",
    "#the deshi class inherits 3 main properties with its own only property that is company\n",
    "#the above code prints the below outputs\n",
    "'''Walton, A1, 27,000 Tk, Walton Group.\n",
    "Sapphire, AS, 123,000 Tk, Sapphire Tech.'''\n",
    "\n",
    "\n",
    "\n",
    "#let's deep dive into a few more examples to assess the skill level\n",
    "#1 take a list and reverse it (use for loop, use a function and do directly)\n",
    "\n",
    "#direct\n",
    "'''list = [2, 5, 6, 7, 3]\n",
    "\n",
    "reversed_list = list[::-1]\n",
    "\n",
    "print(reversed_list)'''\n",
    "\n",
    "\n",
    "#using a for loop\n",
    "'''list = [3, 5, 7, 2, 5, 4]\n",
    "\n",
    "rev_list = []\n",
    "for nums in list[::-1]:\n",
    "    rev_list.append(nums)\n",
    "\n",
    "print(rev_list)\n",
    "'''\n",
    "\n",
    "'''list = [2, 4, 6, 1, 7]\n",
    "\n",
    "reversed_list = []\n",
    "for elements in list[::-1]:\n",
    "    reversed_list.append(elements)\n",
    "\n",
    "print(\"Reversed list: \", reversed_list)\n",
    "'''\n",
    "#user sharing the list\n",
    "'''input_list = input(\"Enter the list: \")\n",
    "modified_list = [str(x) for x in input_list.split()]\n",
    "\n",
    "reversed_list = []\n",
    "for element in modified_list[::-1]:\n",
    "    reversed_list.append(element)\n",
    "\n",
    "print(\"Reversed list of the given string: \", reversed_list)'''\n",
    "\n",
    "#a list of integers and returning the sum\n",
    "\n",
    "'''list = [1, 4, 6, 1]\n",
    "\n",
    "sum = 0\n",
    "for elements in list:\n",
    "    sum += elements\n",
    "\n",
    "print(sum) '''\n",
    "\n",
    "\n",
    "'''#given list\n",
    "list = [2, 5, 2, 5, 2, 6]\n",
    "\n",
    "#initialize summation\n",
    "sum = 0\n",
    "\n",
    "#use a loop for all the numbers in list\n",
    "for numbers in list:\n",
    "    sum += numbers\n",
    "\n",
    "print(sum)'''\n",
    "\n",
    "#code using a function for summation\n",
    "'''def sumnum(numbers):\n",
    "\n",
    "    summation = 0\n",
    "    for number in numbers:\n",
    "        summation += number\n",
    "    return summation\n",
    "\n",
    "print(sumnum([1,3,5]))'''\n",
    "\n",
    "'''\n",
    "def summation_of_numbers(numbers):\n",
    "\n",
    "#initialization    \n",
    "    summation = 0\n",
    "\n",
    "#iteration of numbers\n",
    "    for elements in numbers:\n",
    "        summation += elements\n",
    "#return function output\n",
    "    return summation\n",
    "\n",
    "print(summation_of_numbers([1, 5, 6, 7]))\n",
    "'''\n",
    "\n",
    "\n",
    "#write a function thake takes a list and prints the sum\n",
    "'''def summation(list_numbers):\n",
    "\n",
    "    sum_of_numbers = 0\n",
    "\n",
    "    for elements in list_numbers:\n",
    "        sum_of_numbers += elements\n",
    "\n",
    "    return sum_of_numbers\n",
    "\n",
    "print(summation([1,4,5,1,5,2,5,3,2,1]))'''\n",
    "\n",
    "\n",
    "#the same problem using a function\n",
    "'''def list_sum(numbers):\n",
    "    return sum(numbers)\n",
    "\n",
    "print(list_sum([2,5,6,7,2,4]))'''\n",
    "\n",
    "\n",
    "'''def list_sum(numbers):\n",
    "    return sum(numbers)\n",
    "\n",
    "print(list_sum([2,5,3,2]))\n",
    "'''\n",
    "\n",
    "#removing duplicates from list given by the user\n",
    "'''def remove_dup(list):\n",
    "    unique_list = []\n",
    "    for element in list:\n",
    "        if element not in unique_list:\n",
    "            unique_list.append(element)\n",
    "    return unique_list\n",
    "user_input = input(\"Enter an array of numbers without comma: \")\n",
    "original = [int(x) for x in user_input.split()]\n",
    "new_list = remove_dup(original)\n",
    "print(\"Original list: \", original)\n",
    "print(\"Unique list: \", new_list)'''\n",
    "\n",
    "#again\n",
    "'''def duplicate(list):\n",
    "    \n",
    "    unique_list = []\n",
    "\n",
    "    for elements in list:\n",
    "        if elements not in unique_list:\n",
    "            unique_list.append(elements)\n",
    "\n",
    "    return unique_list\n",
    "\n",
    "user_input = input(\"Enter a sequence of numbers: \")\n",
    "original_list = [int(x) for x in user_input.split()]\n",
    "new_list = duplicate(original_list)\n",
    "\n",
    "print(\"Original list: \", original_list)\n",
    "print(\"Uniqe list: \", new_list)'''\n",
    "\n",
    "#again\n",
    "'''def removeduplicates(list):\n",
    "    \n",
    "#initialization    \n",
    "    unique_list = []\n",
    "\n",
    "#running this loop will iterate through each values and check if the element is present\n",
    "#in unique list. Otherwise it will append the unique list\n",
    "    for elements in list:\n",
    "        if elements not in unique_list:\n",
    "            unique_list.append(elements)\n",
    "\n",
    "    return unique_list\n",
    "\n",
    "#given input is converted to a list, consider it an integers\n",
    "user_input = input(\"Enter a series of number: \")\n",
    "original_list = [int(x) for x in user_input.split()]\n",
    "\n",
    "#calling function and use a variable\n",
    "new_list = removeduplicates(original_list)\n",
    "\n",
    "#printing\n",
    "print(\"Original list is: \", original_list)\n",
    "print(\"Unique list is: \", new_list)'''\n",
    "\n",
    "\n",
    "# 2 done out of 10 practice problems shared by gpt\n",
    "# https://chatgpt.com/c/74daa9d9-6334-4279-925f-ceb9c2a36b19\n",
    "\n",
    "#list sum DSA\n",
    "'''def list_sum(numbers):\n",
    "    \n",
    "    if not all(isinstance(number, (int, float)) for number in numbers):\n",
    "        raise ValueError(\"Value is integer.\")\n",
    "\n",
    "    summation = 0\n",
    "\n",
    "    for number in numbers:\n",
    "        summation += number\n",
    "    \n",
    "    return summation\n",
    "\n",
    "print(list_sum([1, 3, 4, 2]))'''\n",
    "\n",
    "#remove duplicate problem\n",
    "'''def remove_dup(list):\n",
    "\n",
    "    unique_list = []\n",
    "\n",
    "    for element in list:\n",
    "        if element not in unique_list:\n",
    "            unique_list.append(element)\n",
    "            \n",
    "    return unique_list\n",
    "\n",
    "user_given = input(\"enter list: \")\n",
    "\n",
    "original = [int(x) for x in user_given.split()]\n",
    "\n",
    "#original = [1,3,2,4,3,4,2,3,5]\n",
    "\n",
    "removed = remove_dup(original)\n",
    "\n",
    "print(\"Original list: \", original)\n",
    "print(\"Removed duplicates: \", removed)'''\n",
    "\n",
    "#define a class and print the method for area\n",
    "# class definition\n",
    "#attributes: l, w\n",
    "#method: area (beahvior of class obj)\n",
    "#(object instance)\n",
    "'''class Rectangle:\n",
    "    def __init__(self, area, length, width):\n",
    "        self.area = area\n",
    "        self.length = length\n",
    "        self.width = width\n",
    "    \n",
    "    @classmethod\n",
    "    def area_rect(self, area, length, width):\n",
    "        area = length*width\n",
    "        print(\"Area is\", area, \"square units.\")\n",
    "        return area\n",
    "\n",
    "Rectangle(12,4,7).area_rect(20, 5, 3)\n",
    "'''\n",
    "#define a class and print the method for perimeter\n",
    "'''class perimeter:\n",
    "    def __init__(self, perimeter, length, width):\n",
    "        self.perimeter = perimeter\n",
    "        self.length = length\n",
    "        self.width = width\n",
    "\n",
    "    @classmethod\n",
    "    def perimeter_measure(self, perimeter, length, width):\n",
    "        perimeter = 2*(length+width)\n",
    "        print(\"The perimeter is\", perimeter, \"unit.\")\n",
    "        \n",
    "        return perimeter\n",
    "\n",
    "perimeter(1,2,3).perimeter_measure(23, 4, 6)\n",
    "'''\n",
    "#define a class for recatangualr cube and write methods for area and volume\n",
    "'''class cube:\n",
    "    def __init__(self, length, width, height, area, volume):\n",
    "        self.length = length\n",
    "        self.width = width\n",
    "        self.height = height\n",
    "        self.area = area\n",
    "        self.volume = volume\n",
    "\n",
    "    def measure_area(self, length, width, height, area):\n",
    "        area = 2*(length*width + width*height + length*height)\n",
    "        print(\"The surface area is\", area, \"square unit.\")\n",
    "        return area\n",
    "\n",
    "\n",
    "    def measure_volume(self, lenght, width, height, volume):\n",
    "        volume = lenght*width*height\n",
    "        print(\"The volume is\", volume, \"cubic unit.\")\n",
    "        return volume\n",
    "    \n",
    "cube(1,2,3,4,5).measure_area(1,1,1,0)\n",
    "cube(1,2,3,4,5).measure_volume(3,1,4,0)\n",
    "'''\n",
    "\n",
    "#define a class and create method to calculate area\n",
    "'''class Rectangle:\n",
    "    def __init__(self, length, width ):\n",
    "        self.length = length\n",
    "        self.width = width\n",
    "\n",
    "\n",
    "    def area(self):\n",
    "        return self.length * self.width\n",
    "\n",
    "rect = Rectangle(5,4)\n",
    "print(rect.area())\n",
    "'''\n",
    "\n",
    "#create student class with instance showing result status\n",
    "'''class Student:\n",
    "    def __init__(self, name, grade):\n",
    "        self.name = name\n",
    "        self.grade = grade\n",
    "    \n",
    "\n",
    "    def status(self):\n",
    "        if self.grade >= 80:\n",
    "            print(\"Passed\")\n",
    "        else:\n",
    "            print(\"Failed\")\n",
    "\n",
    "\n",
    "student1 = Student(\"Akib\", 81).status()  #outputs Passed\n",
    "student2 = Student(\"Noor\", 76).status()  #outputs Failed\n",
    "student3 = Student(\"Navid\", 59).status() #outputs Failed''' \n",
    "#student1.status()\n",
    "\n",
    "#Dictionary Creation: Create a dictionary from two lists, \n",
    "#one containing keys and the other containing values.\n",
    "\n",
    "'''List1 = [\"A\", \"B\", \"C\", \"D\", \"E\"]\n",
    "List2 = [ 3,   5,   6,   2,   5 ]\n",
    "\n",
    "#dict (zip method is used to convert lists into dictionary)\n",
    "dictionary = dict(zip(List1, List2))  \n",
    "print(dictionary)'''\n",
    "\n",
    "#again, using tuples\n",
    "'''key_names = (\"Aman\", \"Zaman\", \"Layden\", \"Alen\")\n",
    "value_grade = (\"A+\", \"A\", \"A+\", \"B\")\n",
    "\n",
    "dictionary = dict(zip(key_names, value_grade))\n",
    "print(dictionary)\n",
    "'''\n",
    "\n",
    "'''4. Frequency Counter: Write a function that takes a string and \n",
    "returns a dictionary with the frequency of each character.'''\n",
    "'''def counter(string):\n",
    "    freq = {}\n",
    "\n",
    "    for char in string:\n",
    "        if char in freq:\n",
    "            freq[char] += 1\n",
    "        else:\n",
    "            freq[char] = 1\n",
    "    return freq\n",
    "\n",
    "print(counter(\"Navid Bin Ahmed\"))\n",
    "'''\n",
    "\n",
    "#Again\n",
    "'''def counter(string):\n",
    "    frequency = {}\n",
    "\n",
    "    for char in string:\n",
    "        if char in frequency:\n",
    "            frequency[char] += 1\n",
    "        else:\n",
    "            frequency[char] = 1\n",
    "    return frequency\n",
    "\n",
    "print(counter(\" Q  \"))\n",
    "'''\n",
    "\n",
    "'''def counter(string):\n",
    "    freq = {}\n",
    "\n",
    "    for char in string:\n",
    "        if char in freq:\n",
    "            freq [char] += 1\n",
    "        else:\n",
    "            freq[char] = 1\n",
    "\n",
    "    return freq\n",
    "\n",
    "print(counter(\"Navid\"))'''\n",
    "\n",
    "'''Tuples\n",
    "5. Swap Tuple Elements: Write a function that takes a tuple with two elements \n",
    "and returns a new tuple with the elements swapped.\n",
    "'''\n",
    "'''def swap(tuple):\n",
    "    return (tuple[1], tuple[0])\n",
    "\n",
    "print(swap(('s',4)))\n",
    "'''\n",
    "\n",
    "'''def swap(tuple):\n",
    "    return (tuple[1], tuple[0])\n",
    "\n",
    "print(swap((5,7)))\n",
    "'''\n",
    "\n",
    "'''def swap(tuple):\n",
    "    return (tuple[1], tuple[0])\n",
    "\n",
    "print(swap((6,8)))\n",
    "'''\n",
    "\n",
    "'''def swap(tuple):\n",
    "    return (tuple[2], tuple[1], tuple[0])\n",
    "\n",
    "print(swap((2,5,1)))\n",
    "'''\n",
    "\n",
    "'''def swap_tuple(tuple):\n",
    "    return (tuple[4], tuple[3], tuple[2], tuple[1], tuple[0])\n",
    "\n",
    "print(swap_tuple((1,2,3,4,5)))\n",
    "'''\n",
    "\n",
    "'''list1 = ['Akib', 'Noor']\n",
    "list2 = [12, 34]\n",
    "\n",
    "dictionary = dict(zip(list1, list2))\n",
    "print(dictionary)\n",
    "'''\n",
    "\n",
    "'''def counter(string):\n",
    "    freq = {}\n",
    "\n",
    "    for char in string:\n",
    "        if char in freq:\n",
    "            freq[char] += 1\n",
    "        else:\n",
    "            freq[char] = 1\n",
    "    return freq\n",
    "\n",
    "print(counter(\"Navid\"))\n",
    "'''\n",
    "\n",
    "#6. Tuple to String: Write a function that takes a tuple of strings and returns \n",
    "# a single string concatenated with each element.'''\n",
    "'''\n",
    "def tupletostring(tuple):\n",
    "    return ''.join(tuple)\n",
    "\n",
    "print(tupletostring(('h', 'e', 'l', 'l', 'o', ' ', 'r', 'u', 'm', 'a', 'n', 'a')))\n",
    "'''\n",
    "#manually tuple to string conversion\n",
    "'''def tuple_to_string(tuple):\n",
    "    result = \" \"\n",
    "\n",
    "    for item in tuple:\n",
    "        result += str(item)\n",
    "    return result\n",
    "\n",
    "my_tuple = ('a', 'y', ',', 'h', 'a', 'y')\n",
    "result_string = tuple_to_string(my_tuple)\n",
    "print(result_string)'''\n",
    "\n",
    "# Function to convert a single element to a string manually\n",
    "'''def element_to_string(element):\n",
    "    if isinstance(element, int):\n",
    "        # Convert integer to string manually\n",
    "        result = ''\n",
    "        if element == 0:\n",
    "            return '0'\n",
    "        if element < 0:\n",
    "            result = '-'\n",
    "            element = -element\n",
    "        digits = []\n",
    "        while element > 0:\n",
    "            digits.append(chr(ord('0') + element % 10))\n",
    "            element //= 10\n",
    "        return result + ''.join(digits[::-1])\n",
    "    \n",
    "    elif isinstance(element, float):\n",
    "        # Convert float to string manually\n",
    "        int_part = int(element)\n",
    "        frac_part = element - int_part\n",
    "        int_str = element_to_string(int_part)\n",
    "        frac_str = ''\n",
    "        if frac_part != 0:\n",
    "            frac_str = '.'\n",
    "            while frac_part != 0:\n",
    "                frac_part *= 10\n",
    "                digit = int(frac_part)\n",
    "                frac_str += chr(ord('0') + digit)\n",
    "                frac_part -= digit\n",
    "        return int_str + frac_str\n",
    "    \n",
    "    elif isinstance(element, str):\n",
    "        # Strings are already strings\n",
    "        return element\n",
    "    \n",
    "    else:\n",
    "        # For unsupported types, raise an error\n",
    "        raise TypeError(\"Unsupported element type\")\n",
    "\n",
    "# Function to convert tuple to string manually\n",
    "def tuple_to_string(t):\n",
    "    # Initialize an empty string to hold the result\n",
    "    result = \"\"\n",
    "    \n",
    "    # Iterate through each element in the tuple\n",
    "    for item in t:\n",
    "        # Convert the item to a string manually and concatenate it to the result\n",
    "        result += element_to_string(item)\n",
    "    \n",
    "    return result\n",
    "\n",
    "# Example usage\n",
    "#my_tuple = ('a', 'b', 'c', 1, 2, 3, -45, 6.78)\n",
    "my_tuple = ('a', 'b', 'c')\n",
    "result_string = tuple_to_string(my_tuple)\n",
    "print(result_string)  # Output: 'abc123-456.78\n",
    "'''\n",
    "\n",
    "'''Sets\n",
    "7. Set Intersection: Write a function that takes two sets and returns their \n",
    "intersection.'''\n",
    "\n",
    "'''set_1 = {1, 3, 4, 5, 6, 7}\n",
    "set_2 = {4, 3, 2, 6, 2, 6}\n",
    "\n",
    "def intersection(set_1, set_2):\n",
    "    return set_1 & set_2\n",
    "\n",
    "print(intersection(set_1, set_2))\n",
    "'''\n",
    "\n",
    "'''set_1 = {1,3,4,6}\n",
    "set_2 = {1,5,6,3}\n",
    "\n",
    "def intersection(set_1, set_2):\n",
    "    return set_1 & set_2\n",
    "\n",
    "print(intersection(set_1, set_2))'''\n",
    "\n",
    "\n",
    "'''8. Unique Elements: Write a function that takes a list and returns a set of \n",
    "unique elements from the list.'''\n",
    "\n",
    "'''def unique(list):\n",
    "    return set(list)\n",
    "\n",
    "print(unique([1,2,3,4,5,6,2,4,6,3,5,2,3,5,3]))'''\n",
    "\n",
    "\n",
    "'''def unique_elements(list):\n",
    "    return set(list)\n",
    "\n",
    "print(unique_elements([1,2,4,2,4,2,4,6,4,2,3,5,2,4,6]))'''\n",
    "\n",
    "\n",
    "'''def unique(list):\n",
    "    unique_list = []\n",
    "\n",
    "\n",
    "    for items in list:\n",
    "        if items not in unique_list:\n",
    "            unique_list.append(items)\n",
    "\n",
    "    return unique_list\n",
    "\n",
    "print(unique([1,2,3,4,5,6,2,4,6,3,5,2,3,5,3]))'''\n",
    "\n",
    "\n",
    "'''Classes, Methods, and Instances\n",
    "9. Class Definition: Define a class Rectangle with attributes length and width. \n",
    "Include a method to calculate the area of the rectangle.\n",
    "10. Class Instances: Define a class Student with attributes name and grade. \n",
    "Create instances of Student and write a method to determine if the student has \n",
    "passed based on their grade.'''\n",
    "\n",
    "#..................................................................................\n",
    "#..................................................................................\n",
    "'''list = [3,5,4,6,4,7,5,7,3,5]\n",
    "max_value = max(list)\n",
    "print(max_value)'''\n",
    "\n",
    "\n",
    "'''Create a class BankAccount with attributes account_number, account_holder, \n",
    "and balance. Add methods to deposit, withdraw, and check the balance.'''\n",
    "\n",
    "'''class BankAccount:\n",
    "    def __init__(self, account_number, account_holder, balance):\n",
    "        self.account_number = account_number\n",
    "        self.account_holder = account_holder\n",
    "        self.balance = balance\n",
    "\n",
    "\n",
    "    def deposit(self, amount):\n",
    "        if amount > 0:\n",
    "            self.balance += amount\n",
    "            print(f\"Deposited {amount} Tk. New balance is {self.balance} Tk.\")\n",
    "        else:\n",
    "            print(\"Deposit amount must be positive.\")\n",
    "\n",
    "\n",
    "\n",
    "    def withdraw(self, amount):\n",
    "        if self.balance >= amount > 0:\n",
    "            self.balance -= amount       \n",
    "            print(f\"Withdraw {amount}. New balance is {self.balance}.\")\n",
    "        else:\n",
    "            print(\"Invalid withdrawal amount.\")\n",
    "\n",
    "\n",
    "    def balance_check(self):\n",
    "        return self.balance\n",
    "\n",
    "\n",
    "account = BankAccount(\"12345\", \"Navid\", 5500)\n",
    "print (\"Current balance is\", account.balance, \"Tk.\")\n",
    "\n",
    "account.deposit(1500)\n",
    "account.withdraw(500)\n",
    "'''\n",
    "\n",
    "'''class BankAccount:\n",
    "    def __init__(self, account_number, account_holder, balance):\n",
    "        self.account_number = account_number\n",
    "        self.account_holder = account_holder\n",
    "        self.balance = balance\n",
    "\n",
    "    def deposit(self, amount):\n",
    "        if amount > 0:\n",
    "            self.balance += amount\n",
    "            print(f\"Deposited {amount} Tk. New balance is {self.balance} Tk.\")\n",
    "        else:\n",
    "            print(\"Deposited amount must be positive.\")\n",
    "\n",
    "    def withdraw(self, amount):\n",
    "        if 0 < amount <= self.balance:\n",
    "            self.balance -= amount\n",
    "        print(f\"Withdraw amount {amount} Tk. New balance is {self.balance} Tk.\")\n",
    "\n",
    "    def check_balance(self):\n",
    "        return self.balance\n",
    "    \n",
    "account = BankAccount(\"12345\", \"Navid\", 2000)\n",
    "print(\"Original balance is\", account.balance, \"Tk.\")\n",
    "account.deposit(900)\n",
    "account.withdraw(400)'''\n",
    "\n",
    "\n",
    "'''class BankAccount:\n",
    "    def __init__(self, name, number, balance):\n",
    "        self.name = name\n",
    "        self.number = number\n",
    "        self.balance = balance\n",
    "\n",
    "    def deposit(self, amount):\n",
    "        if amount > 0:\n",
    "            self.balance += amount\n",
    "            print(f\"Deposited {amount} Tk. New balance is {self.balance} Tk.\")\n",
    "        else:\n",
    "            print(\"Deposited amount is invalid.\")\n",
    "\n",
    "\n",
    "    def withdraw(self, amount):\n",
    "        if 0 < amount <= self.balance:\n",
    "            self.balance -= amount\n",
    "            print(f\"Withdraw amount {amount} Tk. New balance is {self.balance} Tk.\")\n",
    "        else:\n",
    "            print(\"Withdraw amount is invalid.\")\n",
    "\n",
    "\n",
    "    def check_balance(self):\n",
    "        return self.balance\n",
    "\n",
    "account = BankAccount(\"Navid\", \"123\", 2500)\n",
    "print(\"Initial balance is\", account.balance, \"Tk.\")\n",
    "account.deposit(500)\n",
    "account.withdraw(1000)'''\n",
    "\n",
    "\n",
    "#finding second largest element in a list\n",
    "\n",
    "\n",
    "'''def second_largest(list):\n",
    "    if len(list) < 2:\n",
    "        return None\n",
    "    \n",
    "    first, second = float('-inf'), float('-inf')\n",
    "    for num in list:\n",
    "        if num > first:\n",
    "            second = first\n",
    "            first = num\n",
    "        elif first > num > second:\n",
    "            second = num\n",
    "    return second\n",
    "\n",
    "answer = second_largest([1,4,6])\n",
    "print(\"Second largenst element :\", answer)\n",
    "'''\n",
    "\n",
    "'''def secondlargest (list):\n",
    "    if len(list) < 2:\n",
    "        return None \n",
    "    \n",
    "    largest, second_largest = float('-inf'), float('-inf')\n",
    "\n",
    "    for num in list:\n",
    "        if num > largest:\n",
    "            second_largest = largest\n",
    "            largest = num\n",
    "\n",
    "        elif largest > num > second_largest:\n",
    "            second_largest = num\n",
    "    return second_largest\n",
    "\n",
    "\n",
    "print(secondlargest([1,2,3,4]))\n",
    "print(secondlargest([1]))'''\n",
    "\n",
    "#access tuple suing for loop\n",
    "'''def access_tuple(tuple):\n",
    "\n",
    "    last_element = None\n",
    "    for element in tuple:    \n",
    "        #tuple_last = tuple [-1]\n",
    "        last_element = element\n",
    "    return last_element\n",
    "\n",
    "tuple = (1,2,4,5,7)\n",
    "print(access_tuple(tuple))'''\n",
    "\n",
    "#direct access to tuple\n",
    "'''def access(tuple):\n",
    "    return tuple[0]\n",
    "\n",
    "tuple = (1,2,4,5)\n",
    "print(access(tuple))'''\n",
    "\n",
    "\n",
    "#accessing second largest number\n",
    "'''def secondlargest(list):\n",
    "    if len(list) < 2:\n",
    "        return None\n",
    "    \n",
    "    largest, second_largest = float('-inf'), float('-inf')\n",
    "\n",
    "    for number in list:\n",
    "        if number > largest:\n",
    "            #largest = second_largest\n",
    "            second_largest = largest   # updates second largest as largest \n",
    "            largest = number           # stores current number as largest\n",
    "\n",
    "        elif largest > number > second_largest:\n",
    "            second_largest = number                   #checks if new number is larger than\n",
    "    return second_largest                             # second largest\n",
    " \n",
    "print(secondlargest([1,4,5,6]))\n",
    "'''\n",
    "\n",
    "#second largest from a list\n",
    "\n",
    "'''def secondlargest(list):\n",
    "    if len(list) < 2:\n",
    "        return None\n",
    "    \n",
    "    largest, second_largest = float('-inf'), float('-inf')\n",
    "\n",
    "    for num in list:\n",
    "        if num > largest:\n",
    "            second_largest = largest\n",
    "            largest = num\n",
    "        elif largest > num > second_largest:\n",
    "            second_largest = num\n",
    "    return second_largest\n",
    "print(secondlargest([1,3,4,5,6]))'''\n",
    "\n",
    "'''import array\n",
    "for name in array.__dict__:\n",
    "    print(name)\n",
    "'''\n",
    "\n",
    "\n",
    "'''Write a Python function that takes two lists and returns \n",
    "True if they have at least one common member.'''\n",
    "\n",
    "\n",
    "'''def have_commen_elements(list1, list2):\n",
    "    for item in list1:\n",
    "        if item in list2:\n",
    "            return True\n",
    "    return False\n",
    "\n",
    "list1 = [1,2,3,4]\n",
    "list2 = [3,4,5,6]\n",
    "list3 = [7,8,9,10]\n",
    "\n",
    "print(have_commen_elements(list1, list2))\n",
    "print(have_commen_elements(list2, list3))'''\n",
    "\n",
    "\n",
    "\n",
    "#leetcode roman to integers\n",
    "\n",
    "'''def roman_to_integer(roman):\n",
    "    roman_values = {\n",
    "        'I': 1,\n",
    "        'V': 5,\n",
    "        'X': 10,\n",
    "        'L': 50,\n",
    "        'C': 100,\n",
    "        'D': 500,\n",
    "        'M': 1000\n",
    "    }\n",
    "\n",
    "    integer_value = 0\n",
    "    prev_value = 0\n",
    "\n",
    "    for symbol in reversed(roman):\n",
    "        current_value = roman_values[symbol]\n",
    "\n",
    "        if current_value >= prev_value:\n",
    "            integer_value += current_value\n",
    "        else:\n",
    "            integer_value -= current_value\n",
    "\n",
    "        prev_value = current_value\n",
    "\n",
    "    return integer_value\n",
    "\n",
    "# Test the function\n",
    "print(roman_to_integer('III'))     # Output: 3\n",
    "print(roman_to_integer(\"IV\"))      # Output: 4\n",
    "print(roman_to_integer(\"IX\"))      # Output: 9\n",
    "print(roman_to_integer(\"LVIII\"))   # Output: 58\n",
    "print(roman_to_integer(\"MCMXCIV\")) # Output: 1994\n",
    "'''\n",
    "\n",
    "#leetcode, palindrome\n",
    "'''def isPalindrome(x: int) -> bool:\n",
    "    # Base condition\n",
    "    if x < 0:\n",
    "        return False\n",
    "    # Store the number in a variable\n",
    "    number = x\n",
    "    # This will store the reverse of the number\n",
    "    reverse = 0\n",
    "    while number:\n",
    "        reverse = reverse * 10 + number % 10\n",
    "        number //= 10\n",
    "    return x == reverse\n",
    "\n",
    "print(isPalindrome(121))\n",
    "'''\n",
    "\n",
    "#leetcode palindrome problem\n",
    "'''class Solution:\n",
    "    def isPalindrome(self, x: int) -> bool:\n",
    "#edge case\n",
    "        if x < 0:\n",
    "            return False\n",
    "        \n",
    "        number = x\n",
    "        reverse = 0\n",
    "\n",
    "        while number:\n",
    "            reverse = reverse*10 + number % 10\n",
    "            number //= 10\n",
    "\n",
    "        return x == reverse\n",
    "    \n",
    "check = Solution()\n",
    "print(check.isPalindrome(121))'''\n",
    "\n",
    "\n",
    "#summation of elements in a list\n",
    "'''def summation_of_list_elements(list):\n",
    "    \n",
    "    summation = 0\n",
    "    \n",
    "    for numbers in list: \n",
    "        summation += numbers\n",
    "\n",
    "    return summation\n",
    "\n",
    "print(summation_of_list_elements([1,2,3,4]))'''\n",
    "\n",
    "\n",
    "#removing duplicates from list given by the user\n",
    "'''def remove_dup(list):\n",
    "    unique_list = []\n",
    "    for element in list:\n",
    "        if element not in unique_list:\n",
    "            unique_list.append(element)\n",
    "    return unique_list\n",
    "user_input = input(\"Enter an array of numbers without comma: \")\n",
    "original = [int(x) for x in user_input.split()]\n",
    "new_list = remove_dup(original)\n",
    "print(\"Original list: \", original)\n",
    "print(\"Unique list: \", new_list)'''\n",
    "\n",
    "#leetcode \n",
    "#start from here, remove duplicates problem\n",
    "#https://leetcode.com/problems/remove-duplicates-from-sorted-array/?envType=study-plan-v2&envId=top-interview-150\n",
    "\n",
    "'''def remove_duplicates(list):\n",
    "    unique_list = []\n",
    "\n",
    "    for elements in list:\n",
    "        if elements not in unique_list:\n",
    "            unique_list.append(elements)\n",
    "    return unique_list\n",
    "\n",
    "list = [1,2,3,4,1,2,6]\n",
    "print(remove_duplicates(list))'''\n",
    "\n",
    "\n",
    "#remove duplicates\n",
    "'''def remove_duplicates(list):\n",
    "    \n",
    "    unique_list = []\n",
    "\n",
    "    for elements in list:\n",
    "        if elements not in unique_list:\n",
    "            unique_list.append(elements)\n",
    "\n",
    "    return unique_list\n",
    "\n",
    "print(remove_duplicates([1,2,3,4,4,4,4,1]))\n",
    "'''\n",
    "\n",
    "'''step 1- taking a list ok\n",
    "step 2- run a Loop ok\n",
    "step 3- build logic (initialization) ok\n",
    "step 4- return\n",
    "step 5- print\n",
    "step 6- edge cases\n",
    "step 7- test: DONE and works fine''' \n",
    "\n",
    "'''def remove_duplicates(inputlist):    \n",
    "    \n",
    "\n",
    "    if not all(isinstance (inputlist, (int, int)) for inputlist in inputlist):\n",
    "        raise ValueError(\"Invalid input, put integers only.\")\n",
    "    \n",
    "#    initialization of output\n",
    "    removed_duplicates_list = []\n",
    "\n",
    "    for elements in inputlist:\n",
    "        if elements not in removed_duplicates_list:\n",
    "            removed_duplicates_list.append(elements)\n",
    "        \n",
    "    return removed_duplicates_list\n",
    "\n",
    "#test example\n",
    "list = [1,2,3,4,5,4]\n",
    "print(remove_duplicates(list))\n",
    "\n",
    "\n",
    "list_2 = []\n",
    "print(remove_duplicates(list_2))\n",
    " '''\n",
    " \t\n",
    "'''def sumnum(numbers):\n",
    "    # Check for invalid inputs (optional, depends on interview requirements)\n",
    "    if not all(isinstance(number, (int, float)) for number in numbers):\n",
    "        raise ValueError(\"All elements must be integers or floats\")\n",
    "\n",
    "    # Initialize summation\n",
    "    summation = 0\n",
    "    # Iterate through the list and accumulate the sum\n",
    "    for number in numbers:\n",
    "        summation += number\n",
    "    \n",
    "    return summation\n",
    "\n",
    "# Example usage (discuss verbally or write briefly if time permits)\n",
    "print(sumnum([1, 2, 3]))  # Output: 6 '''\n",
    "\n",
    "\n",
    "\n",
    "# find max value in a list\n",
    "'''def maxval(input_list):\n",
    "    max_value = 0\n",
    "\n",
    "    for elements in input_list:\n",
    "        if elements >= max_value:\n",
    "            max_value = elements\n",
    "    return max_value\n",
    "\n",
    "print(maxval([1,2,3,4,5,6,7,8,9,10,11,12]))\n",
    "'''\n",
    "\n",
    "'''There are a few mistakes in your code:\n",
    "#Initialization of max_value: It should be initialized to a very small number, \n",
    "not as an empty list.\n",
    "#Comparison Logic: The comparison and assignment in the loop are incorrect. \n",
    "You should compare each element with max_value and update max_value accordingly.\n",
    "#Return Value: The code should return a single value, not a list.'''\n",
    "\n",
    "#find min value in a list\n",
    "'''\n",
    "def minvaliue(input_list):\n",
    "\n",
    "# initialization to a very large positive number\n",
    "\n",
    "    min_value = float('inf')\n",
    "\n",
    "    for elements in input_list:\n",
    "        if elements <= min_value:\n",
    "            min_value = elements\n",
    "\n",
    "    return min_value\n",
    "\n",
    "print(minvaliue([3,4,5,6]))'''\n",
    "\n",
    "#again\n",
    "'''def minvalue(inputlist):\n",
    "\n",
    "    min_value = float('inf')\n",
    "\n",
    "    for elements in inputlist:\n",
    "        if elements <= min_value:\n",
    "            min_value = elements\n",
    "\n",
    "    return min_value\n",
    "\n",
    "print(minvalue([-4,2,3,4,5]))\n",
    "'''\n",
    "\n",
    "#again with unit test\n",
    "'''import unittest\n",
    "def min_value(input_list):\n",
    "    \n",
    "    minvalue = float('inf')\n",
    "\n",
    "    for elements in input_list:\n",
    "        if elements <= minvalue:\n",
    "            minvalue = elements\n",
    "\n",
    "    return minvalue\n",
    "\n",
    "print(min_value([-2,3,4,5,6]))\n",
    "\n",
    "class TestFucntion_sum(unittest.TestCase):\n",
    "\n",
    "   def test_min_value(self):                                    #classmethod\n",
    "        self.assertEqual(min_value([2,3,4]), 2)                 #assertion\n",
    "\n",
    "# def test_float_value(self):     #without method for each time, assertion works fine\n",
    "        self.assertEqual(min_value([1.4, 2.6, 3.0]), 1.4)\n",
    "\n",
    "#    def test_neg_mixed(self):\n",
    "        self.assertEqual(min_value([-2, -5, 3, 5, 20]), -5)\n",
    "\n",
    "#    def test_empty_list(self):\n",
    "        self.assertEqual(min_value([]), float('inf'))\n",
    "\n",
    "#    def test_large_numbers(self):\n",
    "        self.assertEqual(min_value([1e10, 2e10]), 1e10)\n",
    "\n",
    "#    def test_sinlge_numbers(self):\n",
    "        self.assertEqual(min_value([100]), 100)\n",
    "\n",
    "\n",
    "if __name__ == '__main__':\n",
    "    unittest.main()\n",
    "'''\n",
    "\n",
    "\n",
    "#finding minimum value in a list\n",
    "'''1. take a list as input\n",
    "2. declare min value to the most limit\n",
    "3. run a loop and use condition/ logic\n",
    "4. return\n",
    "5. print result\n",
    "6. handle edge cases'''\n",
    "\n",
    "'''def minval(list):\n",
    "\n",
    "    min_value = float('inf')\n",
    "\n",
    "    for elements in list:\n",
    "        if elements <= min_value:\n",
    "            min_value = elements\n",
    "    return min_value\n",
    "\n",
    "print(minval([2,3,4]))\n",
    "'''\n",
    "\n",
    "#find the max value the same way\n",
    "'''def maxval(list):\n",
    "    max_value = 0\n",
    "\n",
    "    for elements in list:\n",
    "        #checks every iteration, if that is grreater than current max value\n",
    "        if elements >= max_value:\n",
    "        #the latest value from elements is stored if that is max (satisfies condition) \n",
    "            max_value = elements\n",
    "\n",
    "    return max_value\n",
    "\n",
    "print(maxval([1,2,3,4,8]))'''\n",
    "\n",
    "\n",
    "#finding average of n numbers\n",
    "'''def average(list):\n",
    "\n",
    "    ''''''\n",
    "    docstings:\n",
    "    calculate the average of numbers.\n",
    "\n",
    "    Args:\n",
    "    list, a number of integers to calculate average.\n",
    "\n",
    "    Returns:\n",
    "    float, the average of numbers.\n",
    "\n",
    "    ''''''\n",
    "\n",
    "    summation = 0\n",
    "    avg_number = 0\n",
    "    n = len(list)\n",
    "    \n",
    "    #edge case, if no numbers are shared\n",
    "    if n == 0:\n",
    "        return \"Nothing typed\"\n",
    "\n",
    "# running iteration\n",
    "    for elements in list:\n",
    "        summation += elements\n",
    "#average is calculted outside for loop\n",
    "    avg_number = summation / n\n",
    "\n",
    "    return float(avg_number)\n",
    "\n",
    "numbers = input(\"Give some input integers: \")\n",
    "list_user = [int(x) for x in numbers.split(',')]             \n",
    "result = average(list_user)\n",
    "print(\"The average of numbers: \", result)'''\n",
    "\n",
    "#quiz Youtube\n",
    "#https://www.youtube.com/watch?v=Oo72LgwD2II&list=PLH1n1sJO7tbxmE36txTPhgidmW5Z9Bn7m&index=2\n",
    "\n",
    "\n",
    "'''def remove_duplicates(list):\n",
    "    unique_list = []\n",
    "\n",
    "    for elements in list:\n",
    "        if elements not in unique_list:\n",
    "            unique_list.append(elements)\n",
    "\n",
    "    return unique_list\n",
    "\n",
    "print(remove_duplicates([1,2,3,4,4,5,4,6,6]))\n",
    "'''\n",
    "\n",
    "'''def max_value(list):\n",
    "\n",
    "    max_element = 0\n",
    "\n",
    "    for elements in list:\n",
    "        if elements >= max_element:\n",
    "            max_element = elements     \n",
    "\n",
    "    return max_element\n",
    "\n",
    "list_element = [2,4,28,1,9,11,1,24,7,5,2]\n",
    "\n",
    "check = max_value(list_element)\n",
    "print(\"The maximum value in the list: \", check)\n",
    "'''\n",
    "\n",
    "'''def min_value(list):\n",
    "\n",
    "    min_element = float('inf')\n",
    "\n",
    "    for elements in list:\n",
    "        if elements <= min_element:\n",
    "            min_element = elements     \n",
    "\n",
    "    return min_element\n",
    "\n",
    "list_element = [2,4,28,9,11,24,7,5,2]\n",
    "\n",
    "check = min_value(list_element)\n",
    "print(\"The minimum value in the list: \", check)'''\n",
    "\n",
    "\n",
    "#finding second largest element in a list\n",
    "'''def second_largest(list):\n",
    "    if len(list) < 2:\n",
    "        return None\n",
    "    \n",
    "    first, second = float('-inf'), float('-inf')\n",
    "    for num in list:\n",
    "        if num > first:\n",
    "            second = first\n",
    "            first = num\n",
    "        elif first > num > second:\n",
    "            second = num\n",
    "    return second\n",
    "\n",
    "answer = second_largest([1,4,6])\n",
    "print(\"Second largenst element :\", answer)\n",
    "'''\n",
    " #again\n",
    "'''def second_largest(list):\n",
    "\n",
    "    if len(list) < 2:\n",
    "        return None\n",
    "    \n",
    "    largest_number, second_largest_number = float('-inf'), float('-inf')\n",
    "    for elements in list:\n",
    "        if elements > largest_number:  #checks if a number is greater than largest\n",
    "            second_largest_number = largest_number  #update second_largest with largest\n",
    "            largest_number = elements  #update largest with elements\n",
    "\n",
    "        elif largest_number > elements > second_largest_number:\n",
    "            second_largest_number = elements    #update second largest\n",
    "\n",
    "    return second_largest_number\n",
    "\n",
    "check = second_largest([1,2,3,4,5, 1273638,2746823,6,3,5,3,5,6,7])\n",
    "print(\"Second largest in list: \", check)'''\n",
    "\n",
    "'''def second_largest(list):\n",
    "    if len(list) < 2:\n",
    "        return None\n",
    "    \n",
    "    largest, second = float('-inf'), float('-inf')\n",
    "\n",
    "# [2,3,4,5,7] if 5 > 4, sec = 4, lar = 5\n",
    "    for elements in list:\n",
    "        if elements > largest:\n",
    "            second = largest\n",
    "            largest = elements\n",
    "# -inf > 3 > 2             \n",
    "        elif largest > elements > second:\n",
    "            second = elements\n",
    "\n",
    "    return second\n",
    "\n",
    "print(second_largest([1,2,3,14,4]))\n",
    "'''\n",
    "\n",
    "'''def rev(list):\n",
    "    \n",
    "    reversed_list = []\n",
    "\n",
    "    for elements in list[::-1]: #loop to iterate through the elements from end to start\n",
    "        reversed_list.append(elements)  #append these in reversed list\n",
    "\n",
    "    return reversed_list\n",
    "\n",
    "list = [2, 4, 6, 1, 7]\n",
    "check = rev(list)\n",
    "print(\"Reversed list: \", check)\n",
    "'''\n",
    "'''def rev(list):\n",
    "    \n",
    "    reversed_list = []\n",
    "\n",
    "    for elements in range(len(list)-1, -1, -1): #loop to iterate through the elements from end to start\n",
    "        reversed_list.append(list[elements])  #append these in reversed list\n",
    "\n",
    "    return reversed_list\n",
    "\n",
    "list = [2, 3, 6, 1, 7, 8]\n",
    "check = rev(list)\n",
    "print(\"Reversed list: \", check)'''\n",
    "\n",
    "#second largest\n",
    "'''def second_largest(list):\n",
    "\n",
    "    first, second = float('-inf'), float('-inf')\n",
    "# [2,3,4] ----for 3 in list: 3 > 2; \n",
    "    for elements in list:\n",
    "        if elements > first:\n",
    "            second = first\n",
    "            first = elements\n",
    "\n",
    "        elif first > elements > second:\n",
    "            second = elements\n",
    "\n",
    "    return second\n",
    "\n",
    "print(second_largest([1,2,7,4]))'''\n",
    "\n",
    "\n",
    "#again\n",
    "'''def second_largest(list):\n",
    "\n",
    "    first, second = float('-inf'), float('-inf')\n",
    "\n",
    "\n",
    "#[1,2,3,4]...for 2 in list: 2 > -inf, first = 2, \n",
    "    for elements in list:\n",
    "        if elements > first:\n",
    "            second = first\n",
    "            first = elements\n",
    "#[1,2,3,14,5] ---for 5 in list: 14>5>3\n",
    "        elif first > elements > second:\n",
    "            second = elements\n",
    "\n",
    "    return second\n",
    "\n",
    "print(second_largest([1,2,3,4,15,6]))\n",
    "'''\n",
    "\n",
    "'''def second_largest(list):\n",
    "    \n",
    "    ''''''\n",
    "    Args: list, with a number of integers\n",
    "    Return: integer, the second largest element from the input list\n",
    "    ''''''\n",
    "\n",
    "    first, second = float('-inf'), float('-inf')\n",
    "\n",
    "    for elements in list:\n",
    "        if elements > first:\n",
    "            second = first\n",
    "            first = elements\n",
    "        \n",
    "        elif first > elements > second:\n",
    "            second = elements\n",
    "\n",
    "    return second\n",
    "\n",
    "print(second_largest([1,2,13,4]))'''\n",
    "\n",
    "\n",
    "#leetcode palindrome problem\n",
    "'''class Solution:\n",
    "    def isPalindrome(self, x: int) -> bool:\n",
    "        \n",
    "        if x < 0 :\n",
    "            return False\n",
    "        \n",
    "        number = x\n",
    "        reverse = 0\n",
    "\n",
    "        while number:\n",
    "            reverse = reverse * 10 + number % 10\n",
    "            number //= 10\n",
    "\n",
    "        return x == reverse\n",
    "    \n",
    "check = Solution()\n",
    "print(check.isPalindrome(-121))'''    \n",
    "\n",
    "\n",
    "#leetcode fibonacci\n",
    "'''class Solution:\n",
    "    def fib(self, n: int) -> int:\n",
    "        if n == 0:\n",
    "            return 0\n",
    "        if n == 1:\n",
    "            return 1\n",
    "        \n",
    "        return fib.self[n-2] + fib.self[n-1]\n",
    "\n",
    "print(Solution.fib(2,3))\n",
    "'''\n",
    "\n",
    "'''class Solution:\n",
    "    def fibcheck(self, x: int) -> int:\n",
    "        if x == 0:\n",
    "            return 0\n",
    "        if x == 1:\n",
    "            return 1\n",
    "        \n",
    "        return self.fibcheck(x-2) + self.fibcheck(x-1)\n",
    "    \n",
    "print(Solution.fibcheck(4,5))\n",
    "    \n",
    "'''\n",
    "\n",
    "'''class Solution:\n",
    "    def __init__(self):\n",
    "        self.memo = {}\n",
    "\n",
    "    def fib(self, n: int) -> int:\n",
    "        if n in self.memo:\n",
    "            return self.memo[n]\n",
    "        \n",
    "        if n == 0:\n",
    "            return 0\n",
    "        if n == 1:\n",
    "            return 1\n",
    "            \n",
    "        self.memo[n] = self.fib(n - 1) + self.fib(n - 2)\n",
    "        return self.memo[n]\n",
    "\n",
    "print(Solution.fib(4,5))'''\n",
    "\n",
    "'''from typing import List\n",
    "\n",
    "class Solution:\n",
    "    def majorityElement(self, nums: List[int]) -> int:\n",
    "        number = None\n",
    "        balance = 0\n",
    "\n",
    "        for element in nums:\n",
    "            if balance == 0:\n",
    "                number = element\n",
    "            balance += 1 if number == element else -1\n",
    "        \n",
    "        return number\n",
    "\n",
    "# Example usage:\n",
    "solution = Solution()\n",
    "print(solution.majorityElement([3, 2, 3]))  # Output: 3\n",
    "print(solution.majorityElement([2, 2, 1, 1, 1, 2, 2]))  # Output: 2\n",
    "'''\n",
    "\n",
    "\n",
    "\n",
    "\n",
    "'''def summation(given_list):\n",
    "    sum_list = 0\n",
    "\n",
    "    for elements in given_list:\n",
    "        sum_list += elements \n",
    "\n",
    "    return sum_list\n",
    "\n",
    "print(summation([1,2,7,4,5]))\n",
    "\n",
    "'''\n",
    "#remove duplicate problem\n",
    "'''def remove_dup(list):\n",
    "\n",
    "    unique_list = []\n",
    "\n",
    "    for element in list:\n",
    "        if element not in unique_list:\n",
    "            unique_list.append(element)\n",
    "            \n",
    "    return unique_list\n",
    "\n",
    "user_given = input(\"enter list: \")\n",
    "\n",
    "original = [int(x) for x in user_given.split()]\n",
    "\n",
    "#original = [1,3,2,4,3,4,2,3,5]\n",
    "\n",
    "removed = remove_dup(original)\n",
    "\n",
    "print(\"Original list: \", original)\n",
    "print(\"Removed duplicates: \", removed)'''\n",
    "\n",
    "\n",
    "'''def remove_duplicates(user_list):\n",
    "    unique_list = []\n",
    "\n",
    "    for elements in user_list:\n",
    "        if elements not in unique_list:\n",
    "            unique_list.append(elements)\n",
    "    return unique_list\n",
    "\n",
    "user_given = input(\"enter list: \")\n",
    "original = [int(x) for x in user_given.split()]\n",
    "\n",
    "print(remove_duplicates(original))\n",
    "'''\n",
    "\n",
    "'''class Rectangle:\n",
    "    def __init__(self, length, width):\n",
    "        self.length = length\n",
    "        self.width = width\n",
    "\n",
    "    def measure(self):\n",
    "        print(f\"The area is {self.length*self.width} sq units.\")\n",
    "\n",
    "instance = Rectangle(12,2).measure()\n",
    "'''\n",
    "\n",
    "'''class Dog:\n",
    "    def __init__(self, name, age):\n",
    "        self.name = name\n",
    "        self.age = age\n",
    "\n",
    "    def bark(self):\n",
    "        print(f\"{self.name} who is {self.age} years of age says woof!\")\n",
    "\n",
    "my_dog = Dog(\"Buddy\", 3)\n",
    "my_dog.bark()  # Output: Buddy says woof!'''\n",
    "\n",
    "\n",
    "'''class Student:\n",
    "    def __init__(self, name, grade):\n",
    "        self.name = name\n",
    "        self.grade = grade\n",
    "\n",
    "    def status(self):\n",
    "        if self.grade > 80:\n",
    "            print(f\"{self.name} has Passed\")\n",
    "        else:\n",
    "            print(f\"{self.name} has Failed\")\n",
    "\n",
    "S1 = Student(\"Alim\", 79).status()\n",
    "S2 = Student(\"Taqi\", 82).status()'''\n",
    "\n",
    "\n",
    "'''def set_int(set1, set2):\n",
    "    return set1 & set2\n",
    "\n",
    "print(set_int({1,2,3,4},{1,2,3,4,5}))\n",
    "'''\n",
    "\n",
    "'''def swat_tuple(t):\n",
    "    return (t[2], t[1], t[0])\n",
    "\n",
    "print(swat_tuple((1,2,3)))'''\n",
    "\n",
    "'''def tts(t):\n",
    "    return ''.join(t)\n",
    "\n",
    "print(tts(('h', 'e', 'l', 'l', 'o')))'''\n",
    "\n",
    "\n",
    "'''def new_dict(list1, list2):\n",
    "\n",
    "    return dict(zip(list1,list2))\n",
    "\n",
    "list1 = ['a', 'b', 'c']\n",
    "list2 = [1, 2, 3]\n",
    "\n",
    "print(new_dict(list1, list2))'''\n",
    "\n",
    "\n",
    "'''def freq(string):\n",
    "    fre = {}\n",
    "\n",
    "    for characters in string:\n",
    "        if characters in fre:\n",
    "            fre[characters] += 1\n",
    "\n",
    "        else:\n",
    "            fre[characters] = 1\n",
    "\n",
    "    return fre\n",
    "\n",
    "print(freq(\"Excellentttoss\"))'''\n",
    "\n",
    "'''def max_val(given_list):\n",
    "\n",
    "    maximum = float('-inf')\n",
    "\n",
    "    for elements in given_list:\n",
    "        if elements > maximum:\n",
    "            maximum = elements\n",
    "\n",
    "    return maximum\n",
    "\n",
    "print(max_val([1,2,6,3,4,5]))\n",
    "\n",
    "\n",
    "def max_val(given_list):\n",
    "\n",
    "    minimum = float('inf')\n",
    "\n",
    "    for elements in given_list:\n",
    "        if elements < minimum:\n",
    "            minimum = elements\n",
    "\n",
    "    return minimum\n",
    "\n",
    "print(max_val([2,6,1,3,4,5]))'''\n",
    "\n",
    "\n",
    "#1. Lambda Function to handle data req:\n",
    "\n",
    "# integration\n",
    "\n",
    "\n",
    "'''def calculate_monthly_budget():\n",
    "    # Input monthly income\n",
    "    monthly_income = float(input(\"Enter your monthly income: \"))\n",
    "    \n",
    "    # Input fixed expenses\n",
    "    fixed_expenses = []\n",
    "    n = int(input(\"Enter the number of fixed expenses: \"))\n",
    "    for i in range(n):\n",
    "        expense = float(input(f\"Enter fixed expense {i+1}: \"))\n",
    "        fixed_expenses.append(expense)\n",
    "    \n",
    "    # Calculate total fixed expenses\n",
    "    total_fixed_expenses = sum(fixed_expenses)\n",
    "    \n",
    "    # Input variable expenses\n",
    "    variable_expenses = []\n",
    "    m = int(input(\"Enter the number of variable expenses: \"))\n",
    "    for i in range(m):\n",
    "        expense = float(input(f\"Enter variable expense {i+1}: \"))\n",
    "        variable_expenses.append(expense)\n",
    "    \n",
    "    # Calculate total variable expenses\n",
    "    total_variable_expenses = sum(variable_expenses)\n",
    "    \n",
    "    # Calculate remaining budget\n",
    "    remaining_budget = monthly_income - total_fixed_expenses - total_variable_expenses\n",
    "    \n",
    "    # Conditional selection for different scenarios\n",
    "    if remaining_budget > 0:\n",
    "        print(f\"Your remaining budget is Tk {remaining_budget:.2f}. You are within your budget.\")\n",
    "    elif remaining_budget == 0:\n",
    "        print(\"Your budget is exactly balanced.\")\n",
    "    else:\n",
    "        print(f\"Your remaining budget is Tk {remaining_budget:.2f}. You have exceeded your budget.\")\n",
    "        \n",
    "calculate_monthly_budget()\n",
    "'''\n",
    "\n",
    "\n",
    "#leetcode fibonacci\n",
    "'''class Solution:\n",
    "    def fib(self, n: int) -> int:\n",
    "        if n == 0:\n",
    "            return 0\n",
    "        if n == 1:\n",
    "            return 1\n",
    "        \n",
    "        return self.fib[n-2] + self.fib[n-1]\n",
    "\n",
    "print(Solution.fib(3))\n",
    "'''\n",
    "\n",
    "'''class Person:\n",
    "\n",
    "    def __init__(self, name, age, location, relationship, education):\n",
    "        self.name = name\n",
    "        self.age = age\n",
    "        self.location = location\n",
    "        self.relationship = relationship \n",
    "        self.education = education \n",
    "\n",
    "attendee_1 = Person(\"John\", 27, \"Boston\", \"Single\", \"Married\")\n",
    "print(\"Relationship status of the person is: \", attendee_1.relationship)\n",
    "print(\"Name and age of the attendee: \", attendee_1.name, attendee_1.age)\n",
    "'''\n",
    "\n",
    "'''\n",
    "Problem:\n",
    "A cab service offers three types of passes. 1D, 7D, 30D. \n",
    "A T days pass can be used for a continuous duration only. \n",
    "\n",
    "Consider the days of the year being labeled sequentially from 1 to 365. \n",
    "Travelling is required only on some selected days of the year(input). \n",
    "\n",
    "Given the cost of different passes and the days on which travel is required, \n",
    "Calculate the minimum amount using which we can travel on all these days.\n",
    "\n",
    "Input: days = [1,4,6,7,8,20], costs = [2,7,15]\n",
    "Output: 11(2 + 7 + 2)\n",
    "'''\n",
    "\n",
    "#global interpreter\n",
    "#shellp cpy and deep copy\n",
    "#mutable and immutable\n",
    "#unit test  \n",
    "\n",
    "\n",
    "\n",
    "'''def mincostTickets(days, costs):\n",
    "    # Set to quickly find the days we need to travel on\n",
    "    travel_days = set(days)\n",
    "    \n",
    "    # DP array to store the minimum cost up to each day\n",
    "    dp = [0] * 366  # for days from 1 to 365\n",
    "    \n",
    "    for i in range(1, 366):\n",
    "        if i not in travel_days:\n",
    "            # If we don't need to travel on this day, inherit the cost from the previous day\n",
    "            dp[i] = dp[i - 1]\n",
    "        else:\n",
    "            # Calculate the minimum cost by choosing between 1-day, 7-day, and 30-day passes\n",
    "            dp[i] = min(\n",
    "                dp[i - 1] + costs[0],  # 1-day pass\n",
    "                dp[i - 7] + costs[1] if i >= 7 else costs[1],  # 7-day pass\n",
    "                dp[i - 30] + costs[2] if i >= 30 else costs[2]  # 30-day pass\n",
    "            )\n",
    "    \n",
    "    # The minimum cost to cover all travel days is now in dp[365]\n",
    "    return dp[365]\n",
    "\n",
    "# Example usage:\n",
    "days = [1, 4, 6, 7, 8, 20]\n",
    "costs = [2, 8, 15]\n",
    "print(mincostTickets(days, costs))  # Output: 11'''\n",
    "\n",
    "\n",
    "\n",
    "'''user_list = [1.2, 3, 2, 4, 2]\n",
    "\n",
    "total = 0\n",
    "\n",
    "for numbers in user_list:\n",
    "\n",
    "    total += numbers\n",
    "\n",
    "print(\"The sum of given numbers is\", total)\n",
    "'''\n",
    "\n",
    "'''user_list = [1, 2, 3, 4, 5]\n",
    "\n",
    "reversed = []\n",
    "\n",
    "for numbers in user_list:\n",
    "\n",
    "    reversed = user_list[::-1]\n",
    "\n",
    "print(\"The reversed list is\", reversed)\n",
    "\n",
    "'''\n",
    "\n",
    "\n",
    "'''user_input = input(\"Enter a list of numbers: \")\n",
    "user_list  = [int(x) for x in user_input.split(',')]\n",
    "print(\"User entered: \", user_list)\n",
    "\n",
    "reversed_list = []\n",
    "\n",
    "for elements in user_list:\n",
    "    sorted_list = user_list[::-1]\n",
    "\n",
    "\n",
    "print(\"Reversed list: \", reversed_list)'''\n",
    "\n",
    "'''user_input = input(\"Enter a list of numbers: \")\n",
    "user_list  = [int(x) for x in user_input.split(',')]\n",
    "print(\"User entered: \", user_list)\n",
    "\n",
    "reversed_list = []\n",
    "\n",
    "for elements in user_list:\n",
    "    sorted_list = sorted(user_list)\n",
    "\n",
    "print(\"Reversed list: \", sorted_list)'''\n",
    "\n",
    "\n",
    "#bubble sorting - hom many are not sorted\n",
    "# 1,2; 1,4 sorted (3)\n",
    "# 6,3; 3,1; 1,4; 4,1 not sorted (4)\n",
    "\n",
    "'''list = [1,2,3,6,1,4,5,6,7,8]\n",
    "count = 0\n",
    "for j in range(0, len(list) - 1):  # 0 to 5 = 6 total\n",
    "    if list[j] > list[j+1] or list[j] < list[j-1]:   # for 2; 2>!6 (NO) + NO = NO; for 6: Y; for 3: Y, for 1: Y for 4 Y\n",
    "        count = count+1\n",
    "print(count)\n",
    "'''\n",
    "\n",
    "'''lt=[1,2,6,3,1,4]\n",
    "count=0\n",
    "for j in range(0,len(lt)-1):\n",
    "    if lt[j]>lt[j+1] or lt[j]<lt[j-1]:\n",
    "        count=count+1            \n",
    "print(count)'''\n",
    "\n",
    "\n",
    "\n",
    "'''c=[1,2,3,4,5,7,2,8]\n",
    "n=len(c)\n",
    "k=0\n",
    "\n",
    "for i in range(0,n-1):\n",
    "    m=0    \n",
    "    for j in range(0, n-i-1):\n",
    "        \n",
    "        if(c[j]>c[j+1]):\n",
    "            c[j],c[j+1]=c[j+1],c[j]\n",
    "            k=k+1\n",
    "            print(\" array is not sorted already\")\n",
    "            m=1\n",
    "    if(m==0):\n",
    "        break\n",
    "    else:\n",
    "        continue\n",
    "print(\"number of unsorted numbers are\",k)\n",
    "print(\"Sorted array is\",c)\n",
    "'''\n",
    "\n",
    "'''list = [1,2,6,3,1,4]\n",
    "\n",
    "count = 0\n",
    "\n",
    "for j in range (0, len(list)-1):\n",
    "    if list[j] <= list[j+1]: # 1, 2, and 1 are smaller than their previous indexes\n",
    "        count += 1\n",
    "\n",
    "print(count)'''\n",
    "    \n",
    "\n",
    "'''list = [1,2,3,4,5,6,7]\n",
    "\n",
    "count = 0\n",
    "\n",
    "for j in range (0, len(list)-1):\n",
    "    if list[j] <= list[j+1]:\n",
    "        count += 1\n",
    "\n",
    "print(count)'''\n",
    "\n",
    "\n",
    "'''list = [1,2,6,3,1,4]\n",
    "\n",
    "count = 0\n",
    "\n",
    "for j in range(0, len(list)-1):\n",
    "    if list[j] < list[j+1]:\n",
    "        count += 1\n",
    "\n",
    "print(count+1)\n",
    "'''\n",
    "\n",
    "\n",
    "'''def append_bits(x, L):\n",
    "    return [x + element for element in L]\n",
    "\n",
    "def generate_bit(n):\n",
    "    if n == 0: return []\n",
    "    if n == 1: return [\"0\", \"1\"]\n",
    "\n",
    "    else:\n",
    "        return (append_bits(\"0\", generate_bit(n-1)) +\n",
    "                append_bits(\"1\", generate_bit(n-1)))\n",
    "    \n",
    "print(generate_bit(3))'''\n",
    "    \n",
    "\n",
    "#finding time complexity\n",
    "'''def Func(n):\n",
    "\n",
    "    for i in range (1, n):  #O(n)\n",
    "        j = i\n",
    "        while j<i*i:        #O(n2)\n",
    "            j=j+1\n",
    "            if j%i==0:\n",
    "                for k in range(0,j):  #O(n3)\n",
    "                    print('Navid') \n",
    "Func(3)\n",
    "'''\n",
    "'''def anagram(str1, str2):\n",
    "    return sorted(str1) == sorted(str2)\n",
    "\n",
    "str1=\"elbow\"\n",
    "str2=\"below\"\n",
    "\n",
    "check = anagram(str1, str2)\n",
    "print(check)\n",
    " '''\n",
    "\n",
    "\n",
    "\n",
    "def Anagram(str1, str2):\n",
    "    dict = {}\n",
    "    for i in range(len(str1)):\n",
    "        if ord(str1[i]) <= 122 and ord(str1[i]) >= 97:\n",
    "            if ord(str1[i]) - 32 not in dict:\n",
    "                dict[ord(str1[i]) - 32] = 1\n",
    "            else:\n",
    "                dict[ord(str1[i]) - 32] = dict[ord(str1[i]) - 32] +1\n",
    "        else:\n",
    "            if ord(str1[i]) not in dict:\n",
    "                dict[ord(str[i])] = 1\n",
    "            else:\n",
    "                dict[ord(str1[i])] = dict[ord(str1[i])] +1\n",
    "\n",
    "\n",
    "    for i in range(len(str2)):\n",
    "        if ord(str2[i]) <= 122 and ord(str2[i]) >= 97:\n",
    "            if ord(str2[i]) - 32 in dict:\n",
    "                if dict[ord(str2[i]) - 32] != 0:\n",
    "                    dict[ord(str2[i]) - 32] = dict[ord(str2[i]) - 32] -1\n",
    "                else:\n",
    "                    return 0      \n",
    "            else:\n",
    "                return 0\n",
    "        else:\n",
    "            if ord(str2[i]) in dict:\n",
    "                if dict[ord(str2[i])] != 0:\n",
    "                    dict[ord(str2[i])] = dict[ord(str2[i])] -1\n",
    "                else:\n",
    "                    return 0\n",
    "            else:\n",
    "                return 0\n",
    "    return 1\n",
    "\n",
    "\n",
    "str1 = input(\"Enter str1: \")\n",
    "str2 = input(\"Enter str2: \")\n",
    "\n",
    "if Anagram(str1, str2):\n",
    "    print(\"Yes\")\n",
    "else:\n",
    "    print(\"No\")"
   ]
  },
  {
   "cell_type": "code",
   "execution_count": 1,
   "metadata": {},
   "outputs": [],
   "source": [
    "def anagram(string1, string2):\n",
    "    count = {}\n",
    "\n",
    "    for i in string1:\n",
    "        if i in count:\n",
    "            count[i] += 1\n",
    "        else:\n",
    "            count[i] = 1\n",
    "\n",
    "    for i in string2:\n",
    "        if i in count:\n",
    "            count[i] -= 1\n",
    "        else:\n",
    "            count[i] = 1\n",
    "\n",
    "    \n",
    "    for j in count:\n",
    "        if count[j] != 0:\n",
    "            return False\n",
    "        \n",
    "    return True"
   ]
  },
  {
   "cell_type": "code",
   "execution_count": null,
   "metadata": {},
   "outputs": [],
   "source": [
    "string1 = input(\"Enter first string: \")\n",
    "string1 = string1.replace(\" \", \"\").lower()\n",
    "\n",
    "string2 = input(\"Enter second string: \")\n",
    "string2 = string2.replace(\" \", \"\").lower()\n",
    "\n",
    "var = anagram(string1, string2)\n",
    "if var:\n",
    "    print(\"The entered strings are anagrams.\")\n",
    "else:\n",
    "    print(\"The entered strings are not anagram.\")"
   ]
  },
  {
   "cell_type": "code",
   "execution_count": 6,
   "metadata": {},
   "outputs": [],
   "source": [
    "class Stack(object):\n",
    "    def __init__(self):\n",
    "        self.items = []\n",
    "    \n",
    "    def isEmpty(self):\n",
    "        return self.items == []\n",
    "    \n",
    "    def push(self, item):\n",
    "        self.items.append(item)\n",
    "\n",
    "    def pop(self):\n",
    "        return self.items.pop()\n",
    "    \n",
    "    def peek(self):\n",
    "        return self.items[len(self.items)-1]\n",
    "    \n",
    "    def size(self):\n",
    "        return len(self.items)"
   ]
  },
  {
   "cell_type": "code",
   "execution_count": 7,
   "metadata": {},
   "outputs": [],
   "source": [
    "s = Stack()\n",
    "s.push(4)"
   ]
  },
  {
   "cell_type": "code",
   "execution_count": 8,
   "metadata": {},
   "outputs": [
    {
     "data": {
      "text/plain": [
       "4"
      ]
     },
     "execution_count": 8,
     "metadata": {},
     "output_type": "execute_result"
    }
   ],
   "source": [
    "s.peek()"
   ]
  },
  {
   "cell_type": "code",
   "execution_count": 9,
   "metadata": {},
   "outputs": [
    {
     "data": {
      "text/plain": [
       "1"
      ]
     },
     "execution_count": 9,
     "metadata": {},
     "output_type": "execute_result"
    }
   ],
   "source": [
    "s.size()"
   ]
  },
  {
   "cell_type": "code",
   "execution_count": 11,
   "metadata": {},
   "outputs": [
    {
     "data": {
      "text/plain": [
       "3"
      ]
     },
     "execution_count": 11,
     "metadata": {},
     "output_type": "execute_result"
    }
   ],
   "source": [
    "s.push(5)\n",
    "s.size()"
   ]
  },
  {
   "cell_type": "code",
   "execution_count": 12,
   "metadata": {},
   "outputs": [
    {
     "data": {
      "text/plain": [
       "5"
      ]
     },
     "execution_count": 12,
     "metadata": {},
     "output_type": "execute_result"
    }
   ],
   "source": [
    "s.peek()"
   ]
  },
  {
   "cell_type": "code",
   "execution_count": null,
   "metadata": {},
   "outputs": [],
   "source": [
    "class Stack(object):\n",
    "    def __init__(self):\n",
    "        self.items = []\n",
    "\n",
    "    def isEmpty(self):\n",
    "        return self.items == []\n",
    "    def push(self, item):\n",
    "        self.items.append(item)\n",
    "    def pop(self):\n",
    "        return self.items.pop()\n",
    "    def peek(self):\n",
    "        return self.items[len(self.items)-1]\n",
    "    def size(self):\n",
    "        return len(self.items)\n",
    "        "
   ]
  },
  {
   "cell_type": "code",
   "execution_count": 13,
   "metadata": {},
   "outputs": [
    {
     "data": {
      "text/plain": [
       "0"
      ]
     },
     "execution_count": 13,
     "metadata": {},
     "output_type": "execute_result"
    }
   ],
   "source": [
    "s = Stack()\n",
    "s.size()"
   ]
  },
  {
   "cell_type": "code",
   "execution_count": 14,
   "metadata": {},
   "outputs": [
    {
     "data": {
      "text/plain": [
       "1"
      ]
     },
     "execution_count": 14,
     "metadata": {},
     "output_type": "execute_result"
    }
   ],
   "source": [
    "s.push(2)\n",
    "s.size()"
   ]
  },
  {
   "cell_type": "code",
   "execution_count": 15,
   "metadata": {},
   "outputs": [
    {
     "data": {
      "text/plain": [
       "2"
      ]
     },
     "execution_count": 15,
     "metadata": {},
     "output_type": "execute_result"
    }
   ],
   "source": [
    "s.push(4)\n",
    "s.size()"
   ]
  },
  {
   "cell_type": "code",
   "execution_count": 16,
   "metadata": {},
   "outputs": [
    {
     "data": {
      "text/plain": [
       "4"
      ]
     },
     "execution_count": 16,
     "metadata": {},
     "output_type": "execute_result"
    }
   ],
   "source": [
    "s.peek()"
   ]
  },
  {
   "cell_type": "code",
   "execution_count": 17,
   "metadata": {},
   "outputs": [
    {
     "data": {
      "text/plain": [
       "2"
      ]
     },
     "execution_count": 17,
     "metadata": {},
     "output_type": "execute_result"
    }
   ],
   "source": [
    "s.size()"
   ]
  },
  {
   "cell_type": "code",
   "execution_count": 18,
   "metadata": {},
   "outputs": [],
   "source": [
    "class Queue(object):\n",
    "    def __init__(self):\n",
    "        self.items=[]\n",
    "\n",
    "    def isEmpty(self):\n",
    "        return self.items==[]\n",
    "    \n",
    "    def enqueue(self, item):\n",
    "        self.items.insert(0,item)\n",
    "    \n",
    "    def dequeue(self):\n",
    "        return self.items.pop()\n",
    "    \n",
    "    def size(self):\n",
    "        return len(self.items)\n"
   ]
  },
  {
   "cell_type": "code",
   "execution_count": 19,
   "metadata": {},
   "outputs": [],
   "source": [
    "q = Queue()\n",
    "q.enqueue('Navid')"
   ]
  },
  {
   "cell_type": "code",
   "execution_count": 20,
   "metadata": {},
   "outputs": [
    {
     "data": {
      "text/plain": [
       "False"
      ]
     },
     "execution_count": 20,
     "metadata": {},
     "output_type": "execute_result"
    }
   ],
   "source": [
    "q.isEmpty()"
   ]
  },
  {
   "cell_type": "code",
   "execution_count": 23,
   "metadata": {},
   "outputs": [
    {
     "data": {
      "text/plain": [
       "['Navid']"
      ]
     },
     "execution_count": 23,
     "metadata": {},
     "output_type": "execute_result"
    }
   ],
   "source": [
    "q.items"
   ]
  },
  {
   "cell_type": "code",
   "execution_count": 24,
   "metadata": {},
   "outputs": [
    {
     "data": {
      "text/plain": [
       "1"
      ]
     },
     "execution_count": 24,
     "metadata": {},
     "output_type": "execute_result"
    }
   ],
   "source": [
    "q.size()"
   ]
  },
  {
   "cell_type": "code",
   "execution_count": 25,
   "metadata": {},
   "outputs": [],
   "source": [
    "q.enqueue('Sakin')\n",
    "q.enqueue('Sakin Ahmed')\n",
    "q.enqueue('Navid Ahmed')"
   ]
  },
  {
   "cell_type": "code",
   "execution_count": 26,
   "metadata": {},
   "outputs": [
    {
     "data": {
      "text/plain": [
       "4"
      ]
     },
     "execution_count": 26,
     "metadata": {},
     "output_type": "execute_result"
    }
   ],
   "source": [
    "q.size()"
   ]
  },
  {
   "cell_type": "code",
   "execution_count": 33,
   "metadata": {},
   "outputs": [
    {
     "data": {
      "text/plain": [
       "['Navid Ahmed']"
      ]
     },
     "execution_count": 33,
     "metadata": {},
     "output_type": "execute_result"
    }
   ],
   "source": [
    "q.items"
   ]
  },
  {
   "cell_type": "code",
   "execution_count": 32,
   "metadata": {},
   "outputs": [
    {
     "data": {
      "text/plain": [
       "'Sakin Ahmed'"
      ]
     },
     "execution_count": 32,
     "metadata": {},
     "output_type": "execute_result"
    }
   ],
   "source": [
    "q.dequeue()"
   ]
  },
  {
   "cell_type": "code",
   "execution_count": 34,
   "metadata": {},
   "outputs": [
    {
     "data": {
      "text/plain": [
       "1"
      ]
     },
     "execution_count": 34,
     "metadata": {},
     "output_type": "execute_result"
    }
   ],
   "source": [
    "q.size()"
   ]
  },
  {
   "cell_type": "code",
   "execution_count": null,
   "metadata": {},
   "outputs": [],
   "source": [
    "q.enqueue('Navid')\n",
    "q.enqueue('Abc')\n",
    "q.enqueue('pqr')"
   ]
  },
  {
   "cell_type": "markdown",
   "metadata": {},
   "source": [
    "https://learning.oreilly.com/library/view/python-data-structures/9781786467355/6ffa2aa4-3fb8-4c86-a069-712ed21e6ef6.xhtml"
   ]
  },
  {
   "cell_type": "markdown",
   "metadata": {},
   "source": [
    "365 Data Science"
   ]
  },
  {
   "cell_type": "code",
   "execution_count": 3,
   "metadata": {},
   "outputs": [],
   "source": [
    "#Declaring scalars\n",
    "s = 5"
   ]
  },
  {
   "cell_type": "code",
   "execution_count": 4,
   "metadata": {},
   "outputs": [
    {
     "data": {
      "text/plain": [
       "5"
      ]
     },
     "execution_count": 4,
     "metadata": {},
     "output_type": "execute_result"
    }
   ],
   "source": [
    "s"
   ]
  },
  {
   "cell_type": "code",
   "execution_count": 5,
   "metadata": {},
   "outputs": [],
   "source": [
    "#Declaring vecrors\n",
    "import numpy as np\n",
    "v = np.array([5, -2, 4])"
   ]
  },
  {
   "cell_type": "code",
   "execution_count": 6,
   "metadata": {},
   "outputs": [
    {
     "data": {
      "text/plain": [
       "array([ 5, -2,  4])"
      ]
     },
     "execution_count": 6,
     "metadata": {},
     "output_type": "execute_result"
    }
   ],
   "source": [
    "v"
   ]
  },
  {
   "cell_type": "code",
   "execution_count": 31,
   "metadata": {},
   "outputs": [],
   "source": [
    "# declaring matrices\n",
    "import numpy as np\n",
    "m1 = np.array([[5,12,6],[-3,0,14]])"
   ]
  },
  {
   "cell_type": "code",
   "execution_count": 32,
   "metadata": {},
   "outputs": [
    {
     "data": {
      "text/plain": [
       "array([[ 5, 12,  6],\n",
       "       [-3,  0, 14]])"
      ]
     },
     "execution_count": 32,
     "metadata": {},
     "output_type": "execute_result"
    }
   ],
   "source": [
    "m1"
   ]
  },
  {
   "cell_type": "code",
   "execution_count": 33,
   "metadata": {},
   "outputs": [
    {
     "data": {
      "text/plain": [
       "array([[ 9,  8,  7],\n",
       "       [ 1,  3, -5]])"
      ]
     },
     "execution_count": 33,
     "metadata": {},
     "output_type": "execute_result"
    }
   ],
   "source": [
    "m2 = np.array([[9, 8, 7], [1, 3, -5]])\n",
    "m2"
   ]
  },
  {
   "cell_type": "markdown",
   "metadata": {},
   "source": [
    "Deriving tensor from matrices"
   ]
  },
  {
   "cell_type": "code",
   "execution_count": 36,
   "metadata": {},
   "outputs": [],
   "source": [
    "t = np.array([m1, m2])"
   ]
  },
  {
   "cell_type": "code",
   "execution_count": 37,
   "metadata": {},
   "outputs": [
    {
     "data": {
      "text/plain": [
       "array([[[ 5, 12,  6],\n",
       "        [-3,  0, 14]],\n",
       "\n",
       "       [[ 9,  8,  7],\n",
       "        [ 1,  3, -5]]])"
      ]
     },
     "execution_count": 37,
     "metadata": {},
     "output_type": "execute_result"
    }
   ],
   "source": [
    "t"
   ]
  },
  {
   "cell_type": "code",
   "execution_count": 38,
   "metadata": {},
   "outputs": [
    {
     "data": {
      "text/plain": [
       "(2, 2, 3)"
      ]
     },
     "execution_count": 38,
     "metadata": {},
     "output_type": "execute_result"
    }
   ],
   "source": [
    "t.shape"
   ]
  },
  {
   "cell_type": "markdown",
   "metadata": {},
   "source": [
    "This t is an example of tensor. That it contains 2 matrices (denoted by the first 2), 2 by 3 each (last 2,3)."
   ]
  },
  {
   "cell_type": "code",
   "execution_count": 41,
   "metadata": {},
   "outputs": [
    {
     "data": {
      "text/plain": [
       "array([[[  5,  12,   6],\n",
       "        [-12,   3,   0]],\n",
       "\n",
       "       [[ -5,  -2,   5],\n",
       "        [  1,   2,   4]]])"
      ]
     },
     "execution_count": 41,
     "metadata": {},
     "output_type": "execute_result"
    }
   ],
   "source": [
    "# manually creating tensor\n",
    "\n",
    "t_manual = np.array([[[5, 12, 6], [-12, 3, 0]], [[-5, -2, 5], [1, 2, 4]]])\n",
    "t_manual"
   ]
  },
  {
   "cell_type": "code",
   "execution_count": 43,
   "metadata": {},
   "outputs": [
    {
     "name": "stdout",
     "output_type": "stream",
     "text": [
      "(3, 2, 2)\n"
     ]
    }
   ],
   "source": [
    "# The provided matrices\n",
    "m1 = np.array([[2, 3], [-1, 4]])\n",
    "m2 = np.array([[1,8], [0,1]])\n",
    "m3 = np.array([[-3, -4], [6, 4]])\n",
    "\n",
    "# Create the tensor\n",
    "t = np.array([m1,m2,m3])\n",
    "\n",
    "# Print the tensor's shape\n",
    "print(t.shape)"
   ]
  },
  {
   "cell_type": "markdown",
   "metadata": {},
   "source": [
    "3 matrices each of dimension with 2 by 2."
   ]
  },
  {
   "cell_type": "code",
   "execution_count": 44,
   "metadata": {},
   "outputs": [
    {
     "data": {
      "text/plain": [
       "array([[ 3, 11],\n",
       "       [-1,  5]])"
      ]
     },
     "execution_count": 44,
     "metadata": {},
     "output_type": "execute_result"
    }
   ],
   "source": [
    "m1+m2"
   ]
  },
  {
   "cell_type": "code",
   "execution_count": 45,
   "metadata": {},
   "outputs": [
    {
     "data": {
      "text/plain": [
       "array([[ 3, -1],\n",
       "       [11,  5]])"
      ]
     },
     "execution_count": 45,
     "metadata": {},
     "output_type": "execute_result"
    }
   ],
   "source": [
    "(m1+m2).T"
   ]
  },
  {
   "cell_type": "code",
   "execution_count": null,
   "metadata": {},
   "outputs": [],
   "source": []
  },
  {
   "cell_type": "markdown",
   "metadata": {},
   "source": [
    "Data Types"
   ]
  },
  {
   "cell_type": "code",
   "execution_count": 10,
   "metadata": {},
   "outputs": [
    {
     "data": {
      "text/plain": [
       "int"
      ]
     },
     "execution_count": 10,
     "metadata": {},
     "output_type": "execute_result"
    }
   ],
   "source": [
    "type(s)"
   ]
  },
  {
   "cell_type": "code",
   "execution_count": 42,
   "metadata": {},
   "outputs": [
    {
     "data": {
      "text/plain": [
       "numpy.ndarray"
      ]
     },
     "execution_count": 42,
     "metadata": {},
     "output_type": "execute_result"
    }
   ],
   "source": [
    "type(m)"
   ]
  },
  {
   "cell_type": "code",
   "execution_count": 12,
   "metadata": {},
   "outputs": [
    {
     "data": {
      "text/plain": [
       "numpy.ndarray"
      ]
     },
     "execution_count": 12,
     "metadata": {},
     "output_type": "execute_result"
    }
   ],
   "source": [
    "type(v)"
   ]
  },
  {
   "cell_type": "code",
   "execution_count": 13,
   "metadata": {},
   "outputs": [
    {
     "data": {
      "text/plain": [
       "array(5)"
      ]
     },
     "execution_count": 13,
     "metadata": {},
     "output_type": "execute_result"
    }
   ],
   "source": [
    "s_array = np.array(5)\n",
    "s_array"
   ]
  },
  {
   "cell_type": "code",
   "execution_count": 14,
   "metadata": {},
   "outputs": [
    {
     "data": {
      "text/plain": [
       "numpy.ndarray"
      ]
     },
     "execution_count": 14,
     "metadata": {},
     "output_type": "execute_result"
    }
   ],
   "source": [
    "type(s_array)"
   ]
  },
  {
   "cell_type": "code",
   "execution_count": 15,
   "metadata": {},
   "outputs": [
    {
     "data": {
      "text/plain": [
       "(2, 3)"
      ]
     },
     "execution_count": 15,
     "metadata": {},
     "output_type": "execute_result"
    }
   ],
   "source": [
    "m.shape"
   ]
  },
  {
   "cell_type": "code",
   "execution_count": 16,
   "metadata": {},
   "outputs": [
    {
     "data": {
      "text/plain": [
       "(3,)"
      ]
     },
     "execution_count": 16,
     "metadata": {},
     "output_type": "execute_result"
    }
   ],
   "source": [
    "v.shape"
   ]
  },
  {
   "cell_type": "code",
   "execution_count": 17,
   "metadata": {},
   "outputs": [
    {
     "data": {
      "text/plain": [
       "array([[ 5, -2,  4]])"
      ]
     },
     "execution_count": 17,
     "metadata": {},
     "output_type": "execute_result"
    }
   ],
   "source": [
    "v.reshape(1,3)"
   ]
  },
  {
   "cell_type": "code",
   "execution_count": 18,
   "metadata": {},
   "outputs": [
    {
     "data": {
      "text/plain": [
       "array([[ 5],\n",
       "       [-2],\n",
       "       [ 4]])"
      ]
     },
     "execution_count": 18,
     "metadata": {},
     "output_type": "execute_result"
    }
   ],
   "source": [
    "v.reshape(3,1)"
   ]
  },
  {
   "cell_type": "code",
   "execution_count": 20,
   "metadata": {},
   "outputs": [
    {
     "data": {
      "text/plain": [
       "()"
      ]
     },
     "execution_count": 20,
     "metadata": {},
     "output_type": "execute_result"
    }
   ],
   "source": [
    "s_array.shape"
   ]
  },
  {
   "cell_type": "code",
   "execution_count": 21,
   "metadata": {},
   "outputs": [
    {
     "name": "stdout",
     "output_type": "stream",
     "text": [
      "The largest element in array is 8\n"
     ]
    }
   ],
   "source": [
    "def largest_number(array):\n",
    "    largest = array[0]\n",
    "    \n",
    "    for elements in array:\n",
    "        if elements > largest:\n",
    "            largest = elements\n",
    "    return largest\n",
    "    \n",
    "#driver code\n",
    "array = [4,2,4,5,8,6,3,1]\n",
    "result = largest_number(array)\n",
    "print(\"The largest element in array is\", result)"
   ]
  },
  {
   "cell_type": "code",
   "execution_count": 23,
   "metadata": {},
   "outputs": [
    {
     "name": "stdout",
     "output_type": "stream",
     "text": [
      "The smallest element in array is 1\n"
     ]
    }
   ],
   "source": [
    "def smallest_number(array):\n",
    "    smallest = array[0]\n",
    "    \n",
    "    for elements in array:\n",
    "        if elements < smallest:\n",
    "            smallest = elements\n",
    "    return smallest\n",
    "    \n",
    "#driver code\n",
    "array = [4,2,4,5,8,6,3,1]\n",
    "result = smallest_number(array)\n",
    "print(\"The smallest element in array is\", result)"
   ]
  },
  {
   "cell_type": "code",
   "execution_count": 30,
   "metadata": {},
   "outputs": [
    {
     "name": "stdout",
     "output_type": "stream",
     "text": [
      "The sorted element in array is [1, 2, 2, 2, 3, 4, 4, 4, 5, 5, 6, 7, 7, 8]\n"
     ]
    }
   ],
   "source": [
    "def sorted_element(array):\n",
    "    n = len(array)\n",
    "    for i in range(n):\n",
    "        for j in range(0, n-i-1):\n",
    "            if array[j] > array[j+1]:\n",
    "                array[j], array[j+1] = array[j+1], array[j]\n",
    "    return array\n",
    "\n",
    "# Driver code\n",
    "array = [1, 3, 5, 2, 4, 6, 4, 7, 4, 2, 7, 5, 8, 2]\n",
    "result = sorted_element(array)\n",
    "print(\"The sorted element in array is\", result)"
   ]
  },
  {
   "cell_type": "markdown",
   "metadata": {},
   "source": [
    "Dot product in vector"
   ]
  },
  {
   "cell_type": "code",
   "execution_count": 46,
   "metadata": {},
   "outputs": [],
   "source": [
    "#Dot product in vecotr\n",
    "x = np.array([1,2,4])\n",
    "y = np.array([3,-2,4])"
   ]
  },
  {
   "cell_type": "code",
   "execution_count": 47,
   "metadata": {},
   "outputs": [
    {
     "data": {
      "text/plain": [
       "array([1, 2, 4])"
      ]
     },
     "execution_count": 47,
     "metadata": {},
     "output_type": "execute_result"
    }
   ],
   "source": [
    "x"
   ]
  },
  {
   "cell_type": "code",
   "execution_count": 48,
   "metadata": {},
   "outputs": [
    {
     "data": {
      "text/plain": [
       "array([ 3, -2,  4])"
      ]
     },
     "execution_count": 48,
     "metadata": {},
     "output_type": "execute_result"
    }
   ],
   "source": [
    "y"
   ]
  },
  {
   "cell_type": "code",
   "execution_count": 50,
   "metadata": {},
   "outputs": [
    {
     "data": {
      "text/plain": [
       "15"
      ]
     },
     "execution_count": 50,
     "metadata": {},
     "output_type": "execute_result"
    }
   ],
   "source": [
    "np.dot(x,y)"
   ]
  },
  {
   "cell_type": "code",
   "execution_count": 51,
   "metadata": {},
   "outputs": [
    {
     "data": {
      "text/plain": [
       "59"
      ]
     },
     "execution_count": 51,
     "metadata": {},
     "output_type": "execute_result"
    }
   ],
   "source": [
    "a = np.array([1,2,3,4])\n",
    "b = np.array([3,5,6,7])\n",
    "np.dot(a,b)"
   ]
  },
  {
   "cell_type": "code",
   "execution_count": 52,
   "metadata": {},
   "outputs": [
    {
     "data": {
      "text/plain": [
       "array([1, 2, 4])"
      ]
     },
     "execution_count": 52,
     "metadata": {},
     "output_type": "execute_result"
    }
   ],
   "source": [
    "x"
   ]
  },
  {
   "cell_type": "code",
   "execution_count": 53,
   "metadata": {},
   "outputs": [
    {
     "data": {
      "text/plain": [
       "array([ 5, 10, 20])"
      ]
     },
     "execution_count": 53,
     "metadata": {},
     "output_type": "execute_result"
    }
   ],
   "source": [
    "x*5"
   ]
  },
  {
   "cell_type": "code",
   "execution_count": 58,
   "metadata": {},
   "outputs": [
    {
     "name": "stdout",
     "output_type": "stream",
     "text": [
      "-16\n"
     ]
    }
   ],
   "source": [
    "v1 = np.array([2, -4, 2])\n",
    "v2 = np.array([0, 10, 12]) \n",
    "\n",
    "v3 = np.dot(v1, v2.T)\n",
    "print(v3)"
   ]
  },
  {
   "cell_type": "code",
   "execution_count": 62,
   "metadata": {},
   "outputs": [
    {
     "name": "stdout",
     "output_type": "stream",
     "text": [
      "164729\n",
      "156478\n",
      "246570\n",
      "118791\n",
      "294515\n"
     ]
    }
   ],
   "source": [
    "size = [693, 656, 1060, 487, 1275]\n",
    "\n",
    "for i in range(5):\n",
    "    print(10190 + 223* size[i])"
   ]
  },
  {
   "cell_type": "code",
   "execution_count": null,
   "metadata": {},
   "outputs": [],
   "source": [
    "import numpy as np\n",
    "N = np.array([[12,3,2], [10,8,6]])\n",
    "M = np.array([[1,4,2], [0,0,1], [1,0,0]])\n",
    "P = np.array([[5,6,7], [90,11,32], [5,6,19]])\n",
    "\n",
    "s = np.dot(N,M) + 5*P\n",
    "print(s)"
   ]
  },
  {
   "cell_type": "code",
   "execution_count": 4,
   "metadata": {},
   "outputs": [
    {
     "name": "stderr",
     "output_type": "stream",
     "text": [
      "Matplotlib is building the font cache; this may take a moment.\n"
     ]
    }
   ],
   "source": [
    "import seaborn as sns"
   ]
  },
  {
   "cell_type": "code",
   "execution_count": 7,
   "metadata": {},
   "outputs": [],
   "source": [
    "data = sns.load_dataset('tips')"
   ]
  },
  {
   "cell_type": "code",
   "execution_count": 10,
   "metadata": {},
   "outputs": [
    {
     "data": {
      "text/html": [
       "<div>\n",
       "<style scoped>\n",
       "    .dataframe tbody tr th:only-of-type {\n",
       "        vertical-align: middle;\n",
       "    }\n",
       "\n",
       "    .dataframe tbody tr th {\n",
       "        vertical-align: top;\n",
       "    }\n",
       "\n",
       "    .dataframe thead th {\n",
       "        text-align: right;\n",
       "    }\n",
       "</style>\n",
       "<table border=\"1\" class=\"dataframe\">\n",
       "  <thead>\n",
       "    <tr style=\"text-align: right;\">\n",
       "      <th></th>\n",
       "      <th>total_bill</th>\n",
       "      <th>tip</th>\n",
       "      <th>sex</th>\n",
       "      <th>smoker</th>\n",
       "      <th>day</th>\n",
       "      <th>time</th>\n",
       "      <th>size</th>\n",
       "    </tr>\n",
       "  </thead>\n",
       "  <tbody>\n",
       "    <tr>\n",
       "      <th>0</th>\n",
       "      <td>16.99</td>\n",
       "      <td>1.01</td>\n",
       "      <td>Female</td>\n",
       "      <td>No</td>\n",
       "      <td>Sun</td>\n",
       "      <td>Dinner</td>\n",
       "      <td>2</td>\n",
       "    </tr>\n",
       "    <tr>\n",
       "      <th>1</th>\n",
       "      <td>10.34</td>\n",
       "      <td>1.66</td>\n",
       "      <td>Male</td>\n",
       "      <td>No</td>\n",
       "      <td>Sun</td>\n",
       "      <td>Dinner</td>\n",
       "      <td>3</td>\n",
       "    </tr>\n",
       "    <tr>\n",
       "      <th>2</th>\n",
       "      <td>21.01</td>\n",
       "      <td>3.50</td>\n",
       "      <td>Male</td>\n",
       "      <td>No</td>\n",
       "      <td>Sun</td>\n",
       "      <td>Dinner</td>\n",
       "      <td>3</td>\n",
       "    </tr>\n",
       "    <tr>\n",
       "      <th>3</th>\n",
       "      <td>23.68</td>\n",
       "      <td>3.31</td>\n",
       "      <td>Male</td>\n",
       "      <td>No</td>\n",
       "      <td>Sun</td>\n",
       "      <td>Dinner</td>\n",
       "      <td>2</td>\n",
       "    </tr>\n",
       "    <tr>\n",
       "      <th>4</th>\n",
       "      <td>24.59</td>\n",
       "      <td>3.61</td>\n",
       "      <td>Female</td>\n",
       "      <td>No</td>\n",
       "      <td>Sun</td>\n",
       "      <td>Dinner</td>\n",
       "      <td>4</td>\n",
       "    </tr>\n",
       "  </tbody>\n",
       "</table>\n",
       "</div>"
      ],
      "text/plain": [
       "   total_bill   tip     sex smoker  day    time  size\n",
       "0       16.99  1.01  Female     No  Sun  Dinner     2\n",
       "1       10.34  1.66    Male     No  Sun  Dinner     3\n",
       "2       21.01  3.50    Male     No  Sun  Dinner     3\n",
       "3       23.68  3.31    Male     No  Sun  Dinner     2\n",
       "4       24.59  3.61  Female     No  Sun  Dinner     4"
      ]
     },
     "execution_count": 10,
     "metadata": {},
     "output_type": "execute_result"
    }
   ],
   "source": [
    "data.head()"
   ]
  },
  {
   "cell_type": "code",
   "execution_count": 15,
   "metadata": {},
   "outputs": [
    {
     "data": {
      "text/plain": [
       "np.float64(19.78594262295082)"
      ]
     },
     "execution_count": 15,
     "metadata": {},
     "output_type": "execute_result"
    }
   ],
   "source": [
    "np.mean(data['total_bill'])"
   ]
  },
  {
   "cell_type": "code",
   "execution_count": 17,
   "metadata": {},
   "outputs": [
    {
     "data": {
      "text/plain": [
       "np.float64(17.795)"
      ]
     },
     "execution_count": 17,
     "metadata": {},
     "output_type": "execute_result"
    }
   ],
   "source": [
    "np.median(data['total_bill'])"
   ]
  },
  {
   "cell_type": "code",
   "execution_count": 20,
   "metadata": {},
   "outputs": [
    {
     "data": {
      "text/plain": [
       "np.float64(2.9)"
      ]
     },
     "execution_count": 20,
     "metadata": {},
     "output_type": "execute_result"
    }
   ],
   "source": [
    "np.median(data['tip'])"
   ]
  },
  {
   "cell_type": "code",
   "execution_count": 23,
   "metadata": {},
   "outputs": [
    {
     "data": {
      "text/plain": [
       "13.42"
      ]
     },
     "execution_count": 23,
     "metadata": {},
     "output_type": "execute_result"
    }
   ],
   "source": [
    "import statistics\n",
    "statistics.mode(data['total_bill'])"
   ]
  },
  {
   "cell_type": "code",
   "execution_count": 22,
   "metadata": {},
   "outputs": [
    {
     "name": "stdout",
     "output_type": "stream",
     "text": [
      "Collecting statistics\n",
      "  Downloading statistics-1.0.3.5.tar.gz (8.3 kB)\n",
      "  Preparing metadata (setup.py): started\n",
      "  Preparing metadata (setup.py): finished with status 'done'\n",
      "Collecting docutils>=0.3\n",
      "  Downloading docutils-0.21.2-py3-none-any.whl (587 kB)\n",
      "     ------------------------------------ 587.4/587.4 KB 946.2 kB/s eta 0:00:00\n",
      "Using legacy 'setup.py install' for statistics, since package 'wheel' is not installed.\n",
      "Installing collected packages: docutils, statistics\n",
      "  Running setup.py install for statistics: started\n",
      "  Running setup.py install for statistics: finished with status 'done'\n",
      "Successfully installed docutils-0.21.2 statistics-1.0.3.5\n"
     ]
    },
    {
     "name": "stderr",
     "output_type": "stream",
     "text": [
      "WARNING: Ignoring invalid distribution -ip (h:\\my coding\\django\\myworld\\lib\\site-packages)\n",
      "WARNING: Ignoring invalid distribution -ip (h:\\my coding\\django\\myworld\\lib\\site-packages)\n",
      "WARNING: Ignoring invalid distribution -ip (h:\\my coding\\django\\myworld\\lib\\site-packages)\n",
      "WARNING: Ignoring invalid distribution -ip (h:\\my coding\\django\\myworld\\lib\\site-packages)\n",
      "WARNING: Ignoring invalid distribution -ip (h:\\my coding\\django\\myworld\\lib\\site-packages)\n",
      "WARNING: Ignoring invalid distribution -ip (h:\\my coding\\django\\myworld\\lib\\site-packages)\n",
      "WARNING: Ignoring invalid distribution -ip (h:\\my coding\\django\\myworld\\lib\\site-packages)\n",
      "WARNING: Ignoring invalid distribution -ip (h:\\my coding\\django\\myworld\\lib\\site-packages)\n",
      "WARNING: You are using pip version 22.0.4; however, version 24.3.1 is available.\n",
      "You should consider upgrading via the 'H:\\My Coding\\Django\\myworld\\Scripts\\python.exe -m pip install --upgrade pip' command.\n"
     ]
    }
   ],
   "source": [
    "!pip install statistics"
   ]
  },
  {
   "cell_type": "code",
   "execution_count": null,
   "metadata": {},
   "outputs": [],
   "source": []
  },
  {
   "cell_type": "code",
   "execution_count": 24,
   "metadata": {},
   "outputs": [
    {
     "data": {
      "text/plain": [
       "2.0"
      ]
     },
     "execution_count": 24,
     "metadata": {},
     "output_type": "execute_result"
    }
   ],
   "source": [
    "statistics.mode(data['tip'])"
   ]
  },
  {
   "cell_type": "code",
   "execution_count": 25,
   "metadata": {},
   "outputs": [
    {
     "data": {
      "text/plain": [
       "<Axes: ylabel='total_bill'>"
      ]
     },
     "execution_count": 25,
     "metadata": {},
     "output_type": "execute_result"
    },
    {
     "data": {
      "image/png": "[encoded data removed]",
      "text/plain": [
       "<Figure size 640x480 with 1 Axes>"
      ]
     },
     "metadata": {},
     "output_type": "display_data"
    }
   ],
   "source": [
    "sns.boxplot(data['total_bill'])"
   ]
  },
  {
   "cell_type": "code",
   "execution_count": 26,
   "metadata": {},
   "outputs": [
    {
     "data": {
      "text/plain": [
       "<Axes: ylabel='tip'>"
      ]
     },
     "execution_count": 26,
     "metadata": {},
     "output_type": "execute_result"
    },
    {
     "data": {
      "image/png": "[encoded data removed]",
      "text/plain": [
       "<Figure size 640x480 with 1 Axes>"
      ]
     },
     "metadata": {},
     "output_type": "display_data"
    }
   ],
   "source": [
    "sns.boxplot(data['tip'])"
   ]
  },
  {
   "cell_type": "code",
   "execution_count": 27,
   "metadata": {},
   "outputs": [
    {
     "data": {
      "text/plain": [
       "<Axes: xlabel='total_bill', ylabel='Count'>"
      ]
     },
     "execution_count": 27,
     "metadata": {},
     "output_type": "execute_result"
    },
    {
     "data": {
      "image/png": "[encoded data removed]",
      "text/plain": [
       "<Figure size 640x480 with 1 Axes>"
      ]
     },
     "metadata": {},
     "output_type": "display_data"
    }
   ],
   "source": [
    "sns.histplot(data['total_bill'])"
   ]
  },
  {
   "cell_type": "code",
   "execution_count": 28,
   "metadata": {},
   "outputs": [
    {
     "data": {
      "text/plain": [
       "<Axes: xlabel='tip', ylabel='Count'>"
      ]
     },
     "execution_count": 28,
     "metadata": {},
     "output_type": "execute_result"
    },
    {
     "data": {
      "image/png": "[encoded data removed]",
      "text/plain": [
       "<Figure size 640x480 with 1 Axes>"
      ]
     },
     "metadata": {},
     "output_type": "display_data"
    }
   ],
   "source": [
    "sns.histplot(data['tip'])"
   ]
  },
  {
   "cell_type": "code",
   "execution_count": 30,
   "metadata": {},
   "outputs": [
    {
     "data": {
      "text/plain": [
       "<Axes: xlabel='total_bill', ylabel='Count'>"
      ]
     },
     "execution_count": 30,
     "metadata": {},
     "output_type": "execute_result"
    },
    {
     "data": {
      "image/png": "[encoded data removed]",
      "text/plain": [
       "<Figure size 640x480 with 1 Axes>"
      ]
     },
     "metadata": {},
     "output_type": "display_data"
    }
   ],
   "source": [
    "sns.histplot(data['total_bill'], kde = True)"
   ]
  },
  {
   "cell_type": "code",
   "execution_count": 35,
   "metadata": {},
   "outputs": [
    {
     "data": {
      "text/html": [
       "<div>\n",
       "<style scoped>\n",
       "    .dataframe tbody tr th:only-of-type {\n",
       "        vertical-align: middle;\n",
       "    }\n",
       "\n",
       "    .dataframe tbody tr th {\n",
       "        vertical-align: top;\n",
       "    }\n",
       "\n",
       "    .dataframe thead th {\n",
       "        text-align: right;\n",
       "    }\n",
       "</style>\n",
       "<table border=\"1\" class=\"dataframe\">\n",
       "  <thead>\n",
       "    <tr style=\"text-align: right;\">\n",
       "      <th></th>\n",
       "      <th>sepal_length</th>\n",
       "      <th>sepal_width</th>\n",
       "      <th>petal_length</th>\n",
       "      <th>petal_width</th>\n",
       "      <th>species</th>\n",
       "    </tr>\n",
       "  </thead>\n",
       "  <tbody>\n",
       "    <tr>\n",
       "      <th>0</th>\n",
       "      <td>5.1</td>\n",
       "      <td>3.5</td>\n",
       "      <td>1.4</td>\n",
       "      <td>0.2</td>\n",
       "      <td>setosa</td>\n",
       "    </tr>\n",
       "    <tr>\n",
       "      <th>1</th>\n",
       "      <td>4.9</td>\n",
       "      <td>3.0</td>\n",
       "      <td>1.4</td>\n",
       "      <td>0.2</td>\n",
       "      <td>setosa</td>\n",
       "    </tr>\n",
       "    <tr>\n",
       "      <th>2</th>\n",
       "      <td>4.7</td>\n",
       "      <td>3.2</td>\n",
       "      <td>1.3</td>\n",
       "      <td>0.2</td>\n",
       "      <td>setosa</td>\n",
       "    </tr>\n",
       "    <tr>\n",
       "      <th>3</th>\n",
       "      <td>4.6</td>\n",
       "      <td>3.1</td>\n",
       "      <td>1.5</td>\n",
       "      <td>0.2</td>\n",
       "      <td>setosa</td>\n",
       "    </tr>\n",
       "    <tr>\n",
       "      <th>4</th>\n",
       "      <td>5.0</td>\n",
       "      <td>3.6</td>\n",
       "      <td>1.4</td>\n",
       "      <td>0.2</td>\n",
       "      <td>setosa</td>\n",
       "    </tr>\n",
       "    <tr>\n",
       "      <th>...</th>\n",
       "      <td>...</td>\n",
       "      <td>...</td>\n",
       "      <td>...</td>\n",
       "      <td>...</td>\n",
       "      <td>...</td>\n",
       "    </tr>\n",
       "    <tr>\n",
       "      <th>145</th>\n",
       "      <td>6.7</td>\n",
       "      <td>3.0</td>\n",
       "      <td>5.2</td>\n",
       "      <td>2.3</td>\n",
       "      <td>virginica</td>\n",
       "    </tr>\n",
       "    <tr>\n",
       "      <th>146</th>\n",
       "      <td>6.3</td>\n",
       "      <td>2.5</td>\n",
       "      <td>5.0</td>\n",
       "      <td>1.9</td>\n",
       "      <td>virginica</td>\n",
       "    </tr>\n",
       "    <tr>\n",
       "      <th>147</th>\n",
       "      <td>6.5</td>\n",
       "      <td>3.0</td>\n",
       "      <td>5.2</td>\n",
       "      <td>2.0</td>\n",
       "      <td>virginica</td>\n",
       "    </tr>\n",
       "    <tr>\n",
       "      <th>148</th>\n",
       "      <td>6.2</td>\n",
       "      <td>3.4</td>\n",
       "      <td>5.4</td>\n",
       "      <td>2.3</td>\n",
       "      <td>virginica</td>\n",
       "    </tr>\n",
       "    <tr>\n",
       "      <th>149</th>\n",
       "      <td>5.9</td>\n",
       "      <td>3.0</td>\n",
       "      <td>5.1</td>\n",
       "      <td>1.8</td>\n",
       "      <td>virginica</td>\n",
       "    </tr>\n",
       "  </tbody>\n",
       "</table>\n",
       "<p>150 rows × 5 columns</p>\n",
       "</div>"
      ],
      "text/plain": [
       "     sepal_length  sepal_width  petal_length  petal_width    species\n",
       "0             5.1          3.5           1.4          0.2     setosa\n",
       "1             4.9          3.0           1.4          0.2     setosa\n",
       "2             4.7          3.2           1.3          0.2     setosa\n",
       "3             4.6          3.1           1.5          0.2     setosa\n",
       "4             5.0          3.6           1.4          0.2     setosa\n",
       "..            ...          ...           ...          ...        ...\n",
       "145           6.7          3.0           5.2          2.3  virginica\n",
       "146           6.3          2.5           5.0          1.9  virginica\n",
       "147           6.5          3.0           5.2          2.0  virginica\n",
       "148           6.2          3.4           5.4          2.3  virginica\n",
       "149           5.9          3.0           5.1          1.8  virginica\n",
       "\n",
       "[150 rows x 5 columns]"
      ]
     },
     "execution_count": 35,
     "metadata": {},
     "output_type": "execute_result"
    }
   ],
   "source": [
    "data_2 = sns.load_dataset('iris')\n",
    "data_2"
   ]
  },
  {
   "cell_type": "code",
   "execution_count": 34,
   "metadata": {},
   "outputs": [
    {
     "data": {
      "text/plain": [
       "<Axes: xlabel='sepal_length', ylabel='Count'>"
      ]
     },
     "execution_count": 34,
     "metadata": {},
     "output_type": "execute_result"
    },
    {
     "data": {
      "image/png": "[encoded data removed]",
      "text/plain": [
       "<Figure size 640x480 with 1 Axes>"
      ]
     },
     "metadata": {},
     "output_type": "display_data"
    }
   ],
   "source": [
    "sns.histplot(data_2['sepal_length'], kde=True)"
   ]
  },
  {
   "cell_type": "code",
   "execution_count": 36,
   "metadata": {},
   "outputs": [
    {
     "data": {
      "text/plain": [
       "<Axes: xlabel='petal_length', ylabel='Count'>"
      ]
     },
     "execution_count": 36,
     "metadata": {},
     "output_type": "execute_result"
    },
    {
     "data": {
      "image/png": "[encoded data removed]",
      "text/plain": [
       "<Figure size 640x480 with 1 Axes>"
      ]
     },
     "metadata": {},
     "output_type": "display_data"
    }
   ],
   "source": [
    "sns.histplot(data_2['petal_length'], kde = True)"
   ]
  },
  {
   "cell_type": "code",
   "execution_count": 38,
   "metadata": {},
   "outputs": [
    {
     "data": {
      "text/plain": [
       "<Axes: xlabel='sepal_width', ylabel='Count'>"
      ]
     },
     "execution_count": 38,
     "metadata": {},
     "output_type": "execute_result"
    },
    {
     "data": {
      "image/png": "[encoded data removed]",
      "text/plain": [
       "<Figure size 640x480 with 1 Axes>"
      ]
     },
     "metadata": {},
     "output_type": "display_data"
    }
   ],
   "source": [
    "sns.histplot(data_2['sepal_width'], kde = True)"
   ]
  },
  {
   "cell_type": "code",
   "execution_count": 40,
   "metadata": {},
   "outputs": [
    {
     "data": {
      "text/plain": [
       "<Axes: xlabel='petal_width', ylabel='Count'>"
      ]
     },
     "execution_count": 40,
     "metadata": {},
     "output_type": "execute_result"
    },
    {
     "data": {
      "image/png": "[encoded data removed]",
      "text/plain": [
       "<Figure size 640x480 with 1 Axes>"
      ]
     },
     "metadata": {},
     "output_type": "display_data"
    }
   ],
   "source": [
    "sns.histplot(data_2['petal_width'], kde = True)"
   ]
  },
  {
   "cell_type": "code",
   "execution_count": 11,
   "metadata": {},
   "outputs": [
    {
     "name": "stdout",
     "output_type": "stream",
     "text": [
      "2\n",
      "3\n",
      "5\n",
      "7\n"
     ]
    }
   ],
   "source": [
    "for num in range(0,10):\n",
    "    if num>1:\n",
    "        for i in range(2,num):\n",
    "            if num%i==0:\n",
    "                break\n",
    "        else:\n",
    "            print(num)"
   ]
  },
  {
   "cell_type": "code",
   "execution_count": 1,
   "metadata": {},
   "outputs": [],
   "source": [
    "def example(a,b):\n",
    "    return a+b"
   ]
  },
  {
   "cell_type": "code",
   "execution_count": 5,
   "metadata": {},
   "outputs": [
    {
     "name": "stdout",
     "output_type": "stream",
     "text": [
      "5\n",
      "12\n"
     ]
    }
   ],
   "source": [
    "print(example(2,3))\n",
    "print(example(5,7))"
   ]
  },
  {
   "cell_type": "code",
   "execution_count": 15,
   "metadata": {},
   "outputs": [
    {
     "name": "stdout",
     "output_type": "stream",
     "text": [
      "<class 'dict'>\n"
     ]
    }
   ],
   "source": [
    "set_1 = {}\n",
    "a = type(set_1)\n",
    "print(a)"
   ]
  },
  {
   "cell_type": "code",
   "execution_count": 2,
   "metadata": {},
   "outputs": [
    {
     "name": "stdout",
     "output_type": "stream",
     "text": [
      "{1, 2, 3, 4, 5, 6, 'hello'}\n"
     ]
    }
   ],
   "source": [
    "set1 = {1,2,3,4,5,6, 'hello'}\n",
    "print(set1)"
   ]
  },
  {
   "cell_type": "code",
   "execution_count": 8,
   "metadata": {},
   "outputs": [
    {
     "name": "stdout",
     "output_type": "stream",
     "text": [
      "[1, 2, 3, 5, 5, 4, 3, 5, 6, 7, 8]\n",
      "{1, 2, 3, 4, 5, 6, 7, 8}\n"
     ]
    }
   ],
   "source": [
    "list_4 = [1,2,3,5,5,4,3,5,6,7,8]\n",
    "print(list_4)\n",
    "removed_duplicates = set(list_4)\n",
    "print(removed_duplicates)"
   ]
  },
  {
   "cell_type": "code",
   "execution_count": 12,
   "metadata": {},
   "outputs": [
    {
     "name": "stdout",
     "output_type": "stream",
     "text": [
      "[1, 2, 3, 5, 5, 4, 3, 5, 6, 7, 8]\n",
      "{1, 2, 3, 4, 5, 6, 7, 8}\n"
     ]
    },
    {
     "data": {
      "text/plain": [
       "{1, 2, 3, 4, 5, 6, 7, 8, 15}"
      ]
     },
     "execution_count": 12,
     "metadata": {},
     "output_type": "execute_result"
    }
   ],
   "source": [
    "list_4 = [1,2,3,5,5,4,3,5,6,7,8]\n",
    "print(list_4)\n",
    "removed_duplicates = set(list_4)\n",
    "print(removed_duplicates)\n",
    "removed_duplicates.add(15)\n",
    "removed_duplicates"
   ]
  },
  {
   "cell_type": "code",
   "execution_count": 14,
   "metadata": {},
   "outputs": [
    {
     "data": {
      "text/plain": [
       "set()"
      ]
     },
     "execution_count": 14,
     "metadata": {},
     "output_type": "execute_result"
    }
   ],
   "source": [
    "removed_duplicates.clear()\n",
    "removed_duplicates"
   ]
  },
  {
   "cell_type": "code",
   "execution_count": 19,
   "metadata": {},
   "outputs": [
    {
     "name": "stdout",
     "output_type": "stream",
     "text": [
      "1\n"
     ]
    }
   ],
   "source": [
    "list_check = [1,2,3,4]\n",
    "p = list_check[0]\n",
    "print(p)"
   ]
  },
  {
   "cell_type": "code",
   "execution_count": 24,
   "metadata": {},
   "outputs": [
    {
     "data": {
      "text/plain": [
       "4"
      ]
     },
     "execution_count": 24,
     "metadata": {},
     "output_type": "execute_result"
    }
   ],
   "source": [
    "set_check = (1,2,3,4)\n",
    "set_check[3]"
   ]
  },
  {
   "cell_type": "code",
   "execution_count": 12,
   "metadata": {},
   "outputs": [
    {
     "ename": "TypeError",
     "evalue": "'set' object is not subscriptable",
     "output_type": "error",
     "traceback": [
      "\u001b[1;31m---------------------------------------------------------------------------\u001b[0m",
      "\u001b[1;31mTypeError\u001b[0m                                 Traceback (most recent call last)",
      "Cell \u001b[1;32mIn[12], line 2\u001b[0m\n\u001b[0;32m      1\u001b[0m set_check \u001b[38;5;241m=\u001b[39m {\u001b[38;5;241m1\u001b[39m,\u001b[38;5;241m2\u001b[39m,\u001b[38;5;241m3\u001b[39m,\u001b[38;5;241m4\u001b[39m}\n\u001b[1;32m----> 2\u001b[0m \u001b[43mset_check\u001b[49m\u001b[43m[\u001b[49m\u001b[38;5;241;43m0\u001b[39;49m\u001b[43m]\u001b[49m\n\u001b[0;32m      4\u001b[0m \u001b[38;5;124;03m'''TypeError'''\u001b[39;00m\n",
      "\u001b[1;31mTypeError\u001b[0m: 'set' object is not subscriptable"
     ]
    }
   ],
   "source": [
    "set_check = {1,2,3,4}\n",
    "set_check[0]\n",
    "\n",
    "'''TypeError'''\n"
   ]
  },
  {
   "cell_type": "code",
   "execution_count": 26,
   "metadata": {},
   "outputs": [
    {
     "data": {
      "text/plain": [
       "'navid@yahoo.com'"
      ]
     },
     "execution_count": 26,
     "metadata": {},
     "output_type": "execute_result"
    }
   ],
   "source": [
    "dictionary = {'name': 'navid', 'place': 'BD', 'email': 'navid@yahoo.com'}\n",
    "dictionary['email']"
   ]
  },
  {
   "cell_type": "code",
   "execution_count": 28,
   "metadata": {},
   "outputs": [
    {
     "data": {
      "text/plain": [
       "'BD'"
      ]
     },
     "execution_count": 28,
     "metadata": {},
     "output_type": "execute_result"
    }
   ],
   "source": [
    "dictionary['place']"
   ]
  },
  {
   "cell_type": "code",
   "execution_count": 31,
   "metadata": {},
   "outputs": [],
   "source": [
    "dictionary['place'] = 'USA'"
   ]
  },
  {
   "cell_type": "code",
   "execution_count": 32,
   "metadata": {},
   "outputs": [
    {
     "data": {
      "text/plain": [
       "{'name': 'navid', 'place': 'USA', 'email': 'navid@yahoo.com'}"
      ]
     },
     "execution_count": 32,
     "metadata": {},
     "output_type": "execute_result"
    }
   ],
   "source": [
    "dictionary"
   ]
  },
  {
   "cell_type": "markdown",
   "metadata": {},
   "source": [
    "Semantics and Syntax"
   ]
  },
  {
   "cell_type": "code",
   "execution_count": 32,
   "metadata": {},
   "outputs": [
    {
     "name": "stdout",
     "output_type": "stream",
     "text": [
      "Navid Ahmed Bin Sakin\n",
      "Navid Ahmed Bin Sakin\n",
      "Navid Bin Ahmed\n",
      "Navid Ahmed Bin Sakin\n"
     ]
    }
   ],
   "source": [
    "## basic syntax rules in Python\n",
    "\n",
    "Name = \"Navid Ahmed Bin Sakin\"\n",
    "name = \"Navid Bin Ahmed\"\n",
    "\n",
    "print(Name)\n",
    "print(Name)\n",
    "print(name)\n",
    "print(Name)"
   ]
  },
  {
   "cell_type": "code",
   "execution_count": 34,
   "metadata": {},
   "outputs": [
    {
     "name": "stdout",
     "output_type": "stream",
     "text": [
      "adult\n",
      "30\n"
     ]
    }
   ],
   "source": [
    "age = 30\n",
    "if age >25:\n",
    "    print(\"adult\")\n",
    "\n",
    "print(age)"
   ]
  },
  {
   "cell_type": "code",
   "execution_count": 38,
   "metadata": {},
   "outputs": [
    {
     "name": "stdout",
     "output_type": "stream",
     "text": [
      "15\n"
     ]
    }
   ],
   "source": [
    "# line continuation\n",
    "total = 1+2+3+\\\n",
    "4+5\n",
    "print(total)"
   ]
  },
  {
   "cell_type": "code",
   "execution_count": 44,
   "metadata": {},
   "outputs": [
    {
     "name": "stdout",
     "output_type": "stream",
     "text": [
      "Navid Bin Ahmed\n"
     ]
    }
   ],
   "source": [
    "str =  \"Navid Bin\" \\\n",
    "\" Ahmed\"\n",
    "\n",
    "print(str)"
   ]
  },
  {
   "cell_type": "code",
   "execution_count": 45,
   "metadata": {},
   "outputs": [
    {
     "name": "stdout",
     "output_type": "stream",
     "text": [
      "11\n"
     ]
    }
   ],
   "source": [
    "x = 5; y = 6\n",
    "\n",
    "z = x+y\n",
    "print(z)"
   ]
  },
  {
   "cell_type": "code",
   "execution_count": 46,
   "metadata": {},
   "outputs": [
    {
     "name": "stdout",
     "output_type": "stream",
     "text": [
      "32\n",
      "<class 'int'>\n"
     ]
    }
   ],
   "source": [
    "# Semantics\n",
    "\n",
    "age = 32  # age is an integer, Python is dynamically typed\n",
    "print(age)\n",
    "print(type(age))"
   ]
  },
  {
   "cell_type": "code",
   "execution_count": 47,
   "metadata": {},
   "outputs": [
    {
     "name": "stdout",
     "output_type": "stream",
     "text": [
      "Navid\n",
      "<class 'str'>\n"
     ]
    }
   ],
   "source": [
    "name_2 = \"Navid\"\n",
    "print(name_2)print(type(name_2))"
   ]
  },
  {
   "cell_type": "code",
   "execution_count": 49,
   "metadata": {},
   "outputs": [
    {
     "name": "stdout",
     "output_type": "stream",
     "text": [
      "<class 'str'>\n"
     ]
    }
   ],
   "source": [
    "print(type(name_2))"
   ]
  },
  {
   "cell_type": "code",
   "execution_count": 50,
   "metadata": {},
   "outputs": [
    {
     "name": "stdout",
     "output_type": "stream",
     "text": [
      "<class 'str'>\n",
      "<class 'int'>\n"
     ]
    }
   ],
   "source": [
    "## Type Inference\n",
    "str = \"Navid\"\n",
    "print(type(str))\n",
    "str = 32\n",
    "print(type(str))"
   ]
  },
  {
   "cell_type": "code",
   "execution_count": 53,
   "metadata": {},
   "outputs": [
    {
     "name": "stdout",
     "output_type": "stream",
     "text": [
      "false\n"
     ]
    }
   ],
   "source": [
    "a = 12\n",
    "b = 11\n",
    "if a==b:\n",
    "    print(\"true\")\n",
    "else:\n",
    "    print(\"false\")"
   ]
  },
  {
   "cell_type": "code",
   "execution_count": 57,
   "metadata": {},
   "outputs": [
    {
     "name": "stdout",
     "output_type": "stream",
     "text": [
      "Correct Indentation\n",
      "This will print\n",
      "Outside the if block\n"
     ]
    }
   ],
   "source": [
    "if True:\n",
    "    print(\"Correct Indentation\")\n",
    "    if False:\n",
    "        print(\"This can print\")\n",
    "    print(\"This will print\")\n",
    "print(\"Outside the if block\")"
   ]
  },
  {
   "cell_type": "markdown",
   "metadata": {},
   "source": [
    "### Variables"
   ]
  },
  {
   "cell_type": "code",
   "execution_count": 6,
   "metadata": {},
   "outputs": [
    {
     "name": "stdout",
     "output_type": "stream",
     "text": [
      "Name is : Navid\n",
      "Height is :  170.52\n",
      "Age is :  35\n"
     ]
    }
   ],
   "source": [
    "name = \"Navid\"\n",
    "height = 170.52\n",
    "age = 35\n",
    "\n",
    "print(\"Name is :\", name)\n",
    "print(\"Height is : \", height)\n",
    "print(\"Age is : \", age)"
   ]
  },
  {
   "cell_type": "code",
   "execution_count": 8,
   "metadata": {},
   "outputs": [
    {
     "name": "stdout",
     "output_type": "stream",
     "text": [
      "<class 'str'>\n",
      "<class 'float'>\n",
      "<class 'int'>\n"
     ]
    }
   ],
   "source": [
    "## Type checking and conversion\n",
    "\n",
    "print(type(name))\n",
    "print(type(height))\n",
    "print(type(age))"
   ]
  },
  {
   "cell_type": "code",
   "execution_count": 17,
   "metadata": {},
   "outputs": [
    {
     "name": "stdout",
     "output_type": "stream",
     "text": [
      "35\n",
      "35.0\n"
     ]
    }
   ],
   "source": [
    "## Type casting\n",
    "\n",
    "print(age)\n",
    "age_float = float(age)\n",
    "print(age_float)"
   ]
  },
  {
   "cell_type": "code",
   "execution_count": 21,
   "metadata": {},
   "outputs": [
    {
     "name": "stdout",
     "output_type": "stream",
     "text": [
      "10 <class 'int'>\n",
      "Hello <class 'str'>\n",
      "3.14 <class 'float'>\n"
     ]
    }
   ],
   "source": [
    "# Python is dynamically typing\n",
    "# Allows the type of a variable to change as the program executes\n",
    "var = 10\n",
    "print(var, type(var))\n",
    "\n",
    "var = \"Hello\"\n",
    "print(var, type(var))\n",
    "\n",
    "var = 3.14\n",
    "print(var, type(var))"
   ]
  },
  {
   "cell_type": "code",
   "execution_count": null,
   "metadata": {},
   "outputs": [
    {
     "name": "stdout",
     "output_type": "stream",
     "text": [
      "Sum:  35\n",
      "difference:  -5\n",
      "Product:  300\n",
      "Quotient:  0.75\n"
     ]
    }
   ],
   "source": [
    "num1 = int(input(\"Enter num 1: \"))\n",
    "num2 = int(input(\"Enter num 2: \"))\n",
    "\n",
    "sum = num1 + num2\n",
    "dif = num1 - num2\n",
    "mul = num1 * num2\n",
    "div = num1 / num2\n",
    "\n",
    "print(\"Sum: \", sum)\n",
    "print(\"Difference: \", dif)\n",
    "print(\"Product: \", mul)\n",
    "print(\"Quotient: \", div)"
   ]
  },
  {
   "cell_type": "code",
   "execution_count": 1,
   "metadata": {},
   "outputs": [
    {
     "name": "stdout",
     "output_type": "stream",
     "text": [
      "100\n"
     ]
    }
   ],
   "source": [
    "a = 100\n",
    "print(a)"
   ]
  },
  {
   "cell_type": "code",
   "execution_count": 2,
   "metadata": {},
   "outputs": [
    {
     "name": "stdout",
     "output_type": "stream",
     "text": [
      "<class 'int'>\n"
     ]
    }
   ],
   "source": [
    "print(type(a))"
   ]
  },
  {
   "cell_type": "code",
   "execution_count": 3,
   "metadata": {},
   "outputs": [
    {
     "name": "stdout",
     "output_type": "stream",
     "text": [
      "<class 'str'>\n"
     ]
    }
   ],
   "source": [
    "str = 'Navid'\n",
    "print(type(str))"
   ]
  },
  {
   "cell_type": "code",
   "execution_count": 5,
   "metadata": {},
   "outputs": [
    {
     "name": "stdout",
     "output_type": "stream",
     "text": [
      "<class 'float'>\n"
     ]
    }
   ],
   "source": [
    "float = 1.24\n",
    "print(type(float))"
   ]
  },
  {
   "cell_type": "code",
   "execution_count": 9,
   "metadata": {},
   "outputs": [
    {
     "name": "stdout",
     "output_type": "stream",
     "text": [
      "Navid Ahmed\n",
      "<class 'str'>\n"
     ]
    }
   ],
   "source": [
    "first_name = 'Navid'\n",
    "last_name = 'Ahmed'\n",
    "print(f\"{first_name} {last_name}\")\n",
    "print(type(first_name))"
   ]
  },
  {
   "cell_type": "code",
   "execution_count": 12,
   "metadata": {},
   "outputs": [
    {
     "name": "stdout",
     "output_type": "stream",
     "text": [
      "navid\n",
      "sakin\n"
     ]
    }
   ],
   "source": [
    "name = 'navid'\n",
    "Name = 'sakin'\n",
    "\n",
    "print(name)\n",
    "print(Name)"
   ]
  },
  {
   "cell_type": "code",
   "execution_count": 15,
   "metadata": {},
   "outputs": [
    {
     "name": "stdout",
     "output_type": "stream",
     "text": [
      "<class 'int'>\n",
      "<class 'str'>\n"
     ]
    }
   ],
   "source": [
    "int = 12\n",
    "print(type(int))\n",
    "int = '12'\n",
    "print(type(int))"
   ]
  },
  {
   "cell_type": "code",
   "execution_count": 17,
   "metadata": {},
   "outputs": [
    {
     "name": "stdout",
     "output_type": "stream",
     "text": [
      "<class 'bool'>\n"
     ]
    }
   ],
   "source": [
    "print(type(True))"
   ]
  },
  {
   "cell_type": "code",
   "execution_count": 23,
   "metadata": {},
   "outputs": [
    {
     "name": "stdout",
     "output_type": "stream",
     "text": [
      "False\n"
     ]
    }
   ],
   "source": [
    "a = 10\n",
    "b = 11\n",
    "\n",
    "if a!=b:\n",
    "    print (a==b)"
   ]
  },
  {
   "cell_type": "code",
   "execution_count": 32,
   "metadata": {},
   "outputs": [
    {
     "name": "stdout",
     "output_type": "stream",
     "text": [
      "navid5\n"
     ]
    }
   ],
   "source": [
    "result = \"navid\" + '5'\n",
    "print(result)"
   ]
  },
  {
   "cell_type": "code",
   "execution_count": 42,
   "metadata": {},
   "outputs": [
    {
     "data": {
      "text/plain": [
       "3"
      ]
     },
     "execution_count": 42,
     "metadata": {},
     "output_type": "execute_result"
    }
   ],
   "source": [
    "string = \"Navvvidd\"\n",
    "string.count('v')"
   ]
  },
  {
   "cell_type": "markdown",
   "metadata": {},
   "source": [
    "## Python Operators"
   ]
  },
  {
   "cell_type": "code",
   "execution_count": 49,
   "metadata": {},
   "outputs": [
    {
     "name": "stdout",
     "output_type": "stream",
     "text": [
      "add: 36, sub: 22, mul: 203, div: 4.142857142857143, fl_div: 4\n",
      "modulo: 1, exp: 17249876309\n"
     ]
    }
   ],
   "source": [
    "a = 29\n",
    "b = 7\n",
    "\n",
    "add = a+b\n",
    "sub = a-b\n",
    "mul = a*b\n",
    "\n",
    "## quotient with decimals \n",
    "div = a/b\n",
    "\n",
    "## quotient with lower round value\n",
    "floor_div = a//b\n",
    "\n",
    "print(f\"add: {add}, sub: {sub}, mul: {mul}, div: {div}, fl_div: {floor_div}\")\n",
    "\n",
    "mod = a%b\n",
    "exp = a**b\n",
    "\n",
    "print(f\"modulo: {mod}, exp: {exp}\")"
   ]
  },
  {
   "cell_type": "code",
   "execution_count": 51,
   "metadata": {},
   "outputs": [
    {
     "data": {
      "text/plain": [
       "False"
      ]
     },
     "execution_count": 51,
     "metadata": {},
     "output_type": "execute_result"
    }
   ],
   "source": [
    "a=10\n",
    "b=11\n",
    "a==b"
   ]
  },
  {
   "cell_type": "code",
   "execution_count": 58,
   "metadata": {},
   "outputs": [
    {
     "data": {
      "text/plain": [
       "True"
      ]
     },
     "execution_count": 58,
     "metadata": {},
     "output_type": "execute_result"
    }
   ],
   "source": [
    "num1 = 45\n",
    "num2 = 44\n",
    "\n",
    "num1>=num2"
   ]
  },
  {
   "cell_type": "code",
   "execution_count": 66,
   "metadata": {},
   "outputs": [
    {
     "name": "stdout",
     "output_type": "stream",
     "text": [
      "True\n"
     ]
    }
   ],
   "source": [
    "## Logical Operator\n",
    "\n",
    "a = 10\n",
    "b = 5\n",
    "\n",
    "if a and b % 5 == 0 :\n",
    "    print('True')\n",
    "else:\n",
    "    print('False')\n",
    "    "
   ]
  },
  {
   "cell_type": "code",
   "execution_count": 77,
   "metadata": {},
   "outputs": [
    {
     "name": "stdout",
     "output_type": "stream",
     "text": [
      "False\n"
     ]
    }
   ],
   "source": [
    "X = False\n",
    "Y = True\n",
    "result = not Y\n",
    "print(result)"
   ]
  },
  {
   "cell_type": "markdown",
   "metadata": {},
   "source": [
    "#### Define a class Rectangle with attributes length and width. Include a method to calculate the area of the rectangle."
   ]
  },
  {
   "cell_type": "code",
   "execution_count": 85,
   "metadata": {},
   "outputs": [
    {
     "name": "stdout",
     "output_type": "stream",
     "text": [
      "The area of the rectangle is 8\n"
     ]
    }
   ],
   "source": [
    "class Rectangle:\n",
    "    def __init__(self, length, width):\n",
    "        self.length = length\n",
    "        self.width = width\n",
    "        \n",
    "    ## method\n",
    "    def area(self):\n",
    "        return self.length * self.width\n",
    "    \n",
    "## driver code\n",
    "rect1 = Rectangle(2,4).area()\n",
    "print(f\"The area of the rectangle is {rect1}\") "
   ]
  },
  {
   "cell_type": "markdown",
   "metadata": {},
   "source": [
    "#### Define a class Student with attributes name and grade. Create instances of Student and write a method to determine if the student has passed based on their grade."
   ]
  },
  {
   "cell_type": "code",
   "execution_count": 101,
   "metadata": {},
   "outputs": [
    {
     "name": "stdout",
     "output_type": "stream",
     "text": [
      "Amit passed\n"
     ]
    }
   ],
   "source": [
    "class Student:\n",
    "    def __init__(self, name, grade):\n",
    "        self.name = name\n",
    "        self.grade = grade\n",
    "        \n",
    "        \n",
    "    def score(self):\n",
    "        if self.grade > 40:\n",
    "            print(f\"{self.name} passed\")\n",
    "        else:\n",
    "            print(f\"{self.name} failed\")\n",
    "            \n",
    "student = Student(\"Amit\", 44).score()      "
   ]
  },
  {
   "cell_type": "code",
   "execution_count": 2,
   "metadata": {},
   "outputs": [
    {
     "name": "stdout",
     "output_type": "stream",
     "text": [
      "Sorted array: [1, 3, 4, 5, 7, 8]\n"
     ]
    }
   ],
   "source": [
    "def bubbleSort(arr):\n",
    "    \n",
    "    for i in range(len(arr)):\n",
    "        for j in range(len(arr)-i-1):\n",
    "            if arr[j] > arr[j+1]:\n",
    "                arr[j], arr[j+1] = arr[j+1],arr[j]\n",
    "    return arr\n",
    "    \n",
    "# driver code\n",
    "arr = [8,3,5,4,7,1]\n",
    "result = bubbleSort(arr)\n",
    "print(f\"Sorted array: {result}\")"
   ]
  },
  {
   "cell_type": "markdown",
   "metadata": {},
   "source": [
    "#### Conditional"
   ]
  },
  {
   "cell_type": "code",
   "execution_count": 16,
   "metadata": {},
   "outputs": [
    {
     "name": "stdout",
     "output_type": "stream",
     "text": [
      "Wait for 7 years \n"
     ]
    }
   ],
   "source": [
    "age = int(input(\"enter age: \"))\n",
    "wait = 18 - age\n",
    "if age >= 18:\n",
    "    print ('You are allowed to vote')\n",
    "else:\n",
    "    print (f'Wait for {wait} years ')"
   ]
  },
  {
   "cell_type": "code",
   "execution_count": 25,
   "metadata": {},
   "outputs": [
    {
     "name": "stdout",
     "output_type": "stream",
     "text": [
      "Adult\n"
     ]
    }
   ],
   "source": [
    "age = int(input(\"Enter age\" ))\n",
    "\n",
    "if age < 13:\n",
    "    print(\"Child\")\n",
    "    \n",
    "elif age >= 13 and age <= 19:\n",
    "    print(\"Teenager\")\n",
    "    \n",
    "else:\n",
    "    print(\"Adult\") "
   ]
  },
  {
   "cell_type": "code",
   "execution_count": 48,
   "metadata": {},
   "outputs": [
    {
     "name": "stdout",
     "output_type": "stream",
     "text": [
      "80 is even\n",
      "and non-negative\n"
     ]
    }
   ],
   "source": [
    "number = int(input(\"Enter number: \"))\n",
    "\n",
    "if number%2 == 0:\n",
    "    print(f\"{number} is even\")\n",
    "    \n",
    "    if number < 0:\n",
    "        print(\"and negative\")\n",
    "        \n",
    "    else:\n",
    "        print(\"and non-negative\")\n",
    "    \n",
    "elif number%2 != 0:\n",
    "    print(f\"{number} is odd\")\n",
    "    \n",
    "    if number < 0:\n",
    "        print(\"and negative\")\n",
    "        \n",
    "    else:\n",
    "        print(\"and non-negative\")"
   ]
  },
  {
   "cell_type": "code",
   "execution_count": 53,
   "metadata": {},
   "outputs": [
    {
     "name": "stdout",
     "output_type": "stream",
     "text": [
      "13 is Odd and Positive\n"
     ]
    }
   ],
   "source": [
    "number = int(input(\"Enter number: \"))\n",
    "\n",
    "if number%2 == 0:\n",
    "    even_odd = \"Even\"\n",
    "    \n",
    "elif number%2 == 1:\n",
    "    even_odd = \"Odd\"\n",
    "    \n",
    "if number < 0:\n",
    "    pos_neg = \"Negative\"\n",
    "    \n",
    "elif number > 0:\n",
    "    pos_neg = \"Positive\"\n",
    "    \n",
    "print(f\"{number} is {even_odd} and {pos_neg}\")"
   ]
  },
  {
   "cell_type": "code",
   "execution_count": null,
   "metadata": {},
   "outputs": [],
   "source": []
  },
  {
   "cell_type": "code",
   "execution_count": null,
   "metadata": {},
   "outputs": [],
   "source": []
  }
 ],
 "metadata": {
  "kernelspec": {
   "display_name": "myworld",
   "language": "python",
   "name": "python3"
  },
  "language_info": {
   "codemirror_mode": {
    "name": "ipython",
    "version": 3
   },
   "file_extension": ".py",
   "mimetype": "text/x-python",
   "name": "python",
   "nbconvert_exporter": "python",
   "pygments_lexer": "ipython3",
   "version": "3.9.13"
  }
 },
 "nbformat": 4,
 "nbformat_minor": 2
}
