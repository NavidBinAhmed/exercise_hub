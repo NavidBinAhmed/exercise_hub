{
 "cells": [
  {
   "cell_type": "markdown",
   "metadata": {},
   "source": [
    "# Sorting Algorithm\n",
    "\n",
    "## Comparison based\n",
    "- Selection Sort\n",
    "- Bubble Sort\n",
    "- Insertion Sort\n",
    "- Quick Sort (Divide & Conquer)\n",
    "- Merge Sort (Divide & Conquer)\n",
    "- Heap Sort\n",
    "\n",
    "## Non-comparison based\n",
    "- Count Sort\n",
    "- Radix Sort\n",
    "- Bucket Sort"
   ]
  },
  {
   "cell_type": "code",
   "execution_count": 2,
   "metadata": {},
   "outputs": [
    {
     "name": "stdout",
     "output_type": "stream",
     "text": [
      "{3, 4, 5, 6, 7, 9}\n"
     ]
    }
   ],
   "source": [
    "list = [6,5,9,4,3,7,9]\n",
    "\n",
    "sorted = set(list)\n",
    "print(sorted)"
   ]
  },
  {
   "cell_type": "code",
   "execution_count": 21,
   "metadata": {},
   "outputs": [
    {
     "name": "stdout",
     "output_type": "stream",
     "text": [
      "[3, 4, 5, 6, 7, 9, 9]\n"
     ]
    }
   ],
   "source": [
    "list = [6,5,9,4,3,7,9]\n",
    "\n",
    "for i in range(len(list)):\n",
    "    for j in range(len(list)-1):\n",
    "        if list[j] >= list[j+1]:\n",
    "            list[j], list[j+1] = list[j+1], list[j]  \n",
    "\n",
    "print(list)"
   ]
  },
  {
   "cell_type": "code",
   "execution_count": 22,
   "metadata": {},
   "outputs": [
    {
     "name": "stdout",
     "output_type": "stream",
     "text": [
      "[1, 3, 3, 3, 4, 4, 4, 6, 6, 7, 7, 8]\n"
     ]
    }
   ],
   "source": [
    "list = [1,4,3,6,3,7,8,4,3,6,7,4]\n",
    "\n",
    "for j in range(len(list)):\n",
    "    for i in range(len(list)-1):\n",
    "        if list[i] >= list[i+1]:\n",
    "            list[i], list[i+1] = list[i+1], list[i]\n",
    "            \n",
    "print(list)"
   ]
  },
  {
   "cell_type": "code",
   "execution_count": 24,
   "metadata": {},
   "outputs": [
    {
     "name": "stdout",
     "output_type": "stream",
     "text": [
      "[3, 3, 4, 5, 5, 6, 12, 32, 33, 35, 43, 55, 56, 64, 65, 67, 78, 364]\n"
     ]
    }
   ],
   "source": [
    "list = [12,32,5,3,6,364,64,3,56,5,35,67,4,43,55,33,65,78]\n",
    "\n",
    "for i in range(len(list)):\n",
    "    for j in range(len(list)-1):\n",
    "        if list[j] >= list[j+1]:\n",
    "            list[j], list[j+1] = list[j+1], list[j]\n",
    "            \n",
    "print(list)"
   ]
  },
  {
   "cell_type": "code",
   "execution_count": 1,
   "metadata": {},
   "outputs": [
    {
     "name": "stdout",
     "output_type": "stream",
     "text": [
      "Selection sorted: [11, 15, 17, 20, 29, 37, 38, 50]\n"
     ]
    }
   ],
   "source": [
    "## Selection Sort\n",
    "def selectionSort(arr):\n",
    "    for i in range(len(arr)):\n",
    "        # to store the index of the minimum element\n",
    "        min_index = i\n",
    "        for j in range(i+1, len(arr)):\n",
    "            if arr[j] < arr[min_index]:\n",
    "                min_index = j\n",
    "                \n",
    "        # swaf of the element of i and min_index \n",
    "        arr[i], arr[min_index] = arr[min_index], arr[i]\n",
    "    return arr\n",
    "\n",
    "# driver code\n",
    "arr = [50, 38, 29, 11, 17, 20, 37, 15]\n",
    "result = selectionSort(arr)\n",
    "print(f\"Selection sorted: {result}\")"
   ]
  },
  {
   "cell_type": "code",
   "execution_count": null,
   "metadata": {},
   "outputs": [],
   "source": []
  },
  {
   "cell_type": "code",
   "execution_count": null,
   "metadata": {},
   "outputs": [],
   "source": []
  },
  {
   "cell_type": "code",
   "execution_count": null,
   "metadata": {},
   "outputs": [],
   "source": []
  }
 ],
 "metadata": {
  "kernelspec": {
   "display_name": "myworld",
   "language": "python",
   "name": "python3"
  },
  "language_info": {
   "codemirror_mode": {
    "name": "ipython",
    "version": 3
   },
   "file_extension": ".py",
   "mimetype": "text/x-python",
   "name": "python",
   "nbconvert_exporter": "python",
   "pygments_lexer": "ipython3",
   "version": "3.9.13"
  }
 },
 "nbformat": 4,
 "nbformat_minor": 2
}
