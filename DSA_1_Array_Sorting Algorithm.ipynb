{
 "cells": [
  {
   "cell_type": "markdown",
   "metadata": {},
   "source": [
    "# Sorting Algorithm\n",
    "\n",
    "## Comparison based\n",
    "- Selection Sort\n",
    "- Bubble Sort\n",
    "- Insertion Sort\n",
    "- Quick Sort (Divide & Conquer)\n",
    "- Merge Sort (Divide & Conquer)\n",
    "- Heap Sort\n",
    "\n",
    "## Non-comparison based\n",
    "- Count Sort\n",
    "- Radix Sort\n",
    "- Bucket Sort"
   ]
  },
  {
   "cell_type": "code",
   "execution_count": 2,
   "metadata": {},
   "outputs": [
    {
     "name": "stdout",
     "output_type": "stream",
     "text": [
      "{3, 4, 5, 6, 7, 9}\n"
     ]
    }
   ],
   "source": [
    "list = [6,5,9,4,3,7,9]\n",
    "\n",
    "sorted = set(list)\n",
    "print(sorted)"
   ]
  },
  {
   "cell_type": "code",
   "execution_count": 21,
   "metadata": {},
   "outputs": [
    {
     "name": "stdout",
     "output_type": "stream",
     "text": [
      "[3, 4, 5, 6, 7, 9, 9]\n"
     ]
    }
   ],
   "source": [
    "list = [6,5,9,4,3,7,9]\n",
    "\n",
    "for i in range(len(list)):\n",
    "    for j in range(len(list)-1):\n",
    "        if list[j] >= list[j+1]:\n",
    "            list[j], list[j+1] = list[j+1], list[j]  \n",
    "\n",
    "print(list)"
   ]
  },
  {
   "cell_type": "code",
   "execution_count": 22,
   "metadata": {},
   "outputs": [
    {
     "name": "stdout",
     "output_type": "stream",
     "text": [
      "[1, 3, 3, 3, 4, 4, 4, 6, 6, 7, 7, 8]\n"
     ]
    }
   ],
   "source": [
    "list = [1,4,3,6,3,7,8,4,3,6,7,4]\n",
    "\n",
    "for j in range(len(list)):\n",
    "    for i in range(len(list)-1):\n",
    "        if list[i] >= list[i+1]:\n",
    "            list[i], list[i+1] = list[i+1], list[i]\n",
    "            \n",
    "print(list)"
   ]
  },
  {
   "cell_type": "code",
   "execution_count": null,
   "metadata": {},
   "outputs": [],
   "source": []
  }
 ],
 "metadata": {
  "kernelspec": {
   "display_name": "myworld",
   "language": "python",
   "name": "python3"
  },
  "language_info": {
   "codemirror_mode": {
    "name": "ipython",
    "version": 3
   },
   "file_extension": ".py",
   "mimetype": "text/x-python",
   "name": "python",
   "nbconvert_exporter": "python",
   "pygments_lexer": "ipython3",
   "version": "3.9.13"
  }
 },
 "nbformat": 4,
 "nbformat_minor": 2
}
