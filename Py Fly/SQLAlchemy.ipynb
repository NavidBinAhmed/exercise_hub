{
 "cells": [
  {
   "cell_type": "markdown",
   "metadata": {},
   "source": [
    "SQLAlchemy And SQLite European Football Club Dataset"
   ]
  },
  {
   "cell_type": "code",
   "execution_count": 1,
   "metadata": {},
   "outputs": [],
   "source": [
    "import sqlalchemy as db"
   ]
  },
  {
   "cell_type": "code",
   "execution_count": 1,
   "metadata": {},
   "outputs": [],
   "source": [
    "import sqlalchemy as db"
   ]
  },
  {
   "cell_type": "code",
   "execution_count": 2,
   "metadata": {},
   "outputs": [],
   "source": [
    "engine = db.create_engine(\"sqlite:///european_database.sqlite\")\n",
    "\n",
    "conn = engine.connect() "
   ]
  },
  {
   "cell_type": "code",
   "execution_count": 3,
   "metadata": {},
   "outputs": [],
   "source": [
    "engine = db.create_engine(\"sqlite:///european_database.sqlite\")\n",
    "conn = engine.connect()"
   ]
  },
  {
   "cell_type": "code",
   "execution_count": 4,
   "metadata": {},
   "outputs": [
    {
     "name": "stdout",
     "output_type": "stream",
     "text": [
      "dict_keys(['divisions'])\n"
     ]
    }
   ],
   "source": [
    "metadata = db.MetaData() #extracting the metadata\n",
    "metadata.reflect(bind=engine)\n",
    "\n",
    "# List all table names\n",
    "print(metadata.tables.keys())"
   ]
  },
  {
   "cell_type": "code",
   "execution_count": 4,
   "metadata": {},
   "outputs": [
    {
     "name": "stdout",
     "output_type": "stream",
     "text": [
      "dict_keys([])\n"
     ]
    }
   ],
   "source": [
    "metadata = db.MetaData()\n",
    "metadata.reflect(bind=engine)\n",
    "print(metadata.tables.keys())"
   ]
  },
  {
   "cell_type": "code",
   "execution_count": null,
   "metadata": {},
   "outputs": [
    {
     "name": "stdout",
     "output_type": "stream",
     "text": [
      "True\n"
     ]
    }
   ],
   "source": [
    "## check if file exists\n",
    "import os\n",
    "print(os.path.exists(\"european_database.sqlite\"))  # Should print True"
   ]
  },
  {
   "cell_type": "code",
   "execution_count": 6,
   "metadata": {},
   "outputs": [
    {
     "name": "stdout",
     "output_type": "stream",
     "text": [
      "True\n"
     ]
    }
   ],
   "source": [
    "# no file or data available\n",
    "# let's check if file \n",
    "\n",
    "import os\n",
    "print(os.path.exists(\"european_database.sqlite\"))"
   ]
  },
  {
   "cell_type": "code",
   "execution_count": 6,
   "metadata": {},
   "outputs": [
    {
     "name": "stdout",
     "output_type": "stream",
     "text": [
      "Table 'divisions_2' created successfully!\n"
     ]
    }
   ],
   "source": [
    "## if file was not available we could create one\n",
    "\n",
    "from sqlalchemy import create_engine, MetaData, Table, Column, Integer, String\n",
    "\n",
    "# Connect to the SQLite database\n",
    "engine = create_engine(\"sqlite:///european_database.sqlite\")\n",
    "metadata = MetaData()\n",
    "\n",
    "# Define the table structure\n",
    "divisions = Table(\n",
    "    \"divisions_2\", metadata,\n",
    "    Column(\"id\", Integer, primary_key=True),\n",
    "    Column(\"name\", String, nullable=False),\n",
    ")\n",
    "\n",
    "# Create the table in the database\n",
    "metadata.create_all(engine)\n",
    "\n",
    "print(\"Table 'divisions_2' created successfully!\")"
   ]
  },
  {
   "cell_type": "code",
   "execution_count": 12,
   "metadata": {},
   "outputs": [
    {
     "name": "stdout",
     "output_type": "stream",
     "text": [
      "Table created successfully\n"
     ]
    }
   ],
   "source": [
    "from sqlalchemy import create_engine, MetaData, Table, Column, Integer, String\n",
    "div_2 = Table(\"div_2\", metadata,\n",
    "                  Column(\"id\", Integer, primary_key=True),\n",
    "                  Column(\"name\", String, nullable=False),\n",
    "                  )\n",
    "\n",
    "metadata.create_all(engine)\n",
    "print(\"Table created successfully\")"
   ]
  },
  {
   "cell_type": "code",
   "execution_count": 8,
   "metadata": {},
   "outputs": [
    {
     "name": "stdout",
     "output_type": "stream",
     "text": [
      "['divisions', 'divisions_2']\n"
     ]
    }
   ],
   "source": [
    "## should show all tables created\n",
    "## We are rewriting the same code for 'divisions' table in this ipynb file, it was not empty when rewriting\n",
    "from sqlalchemy import inspect\n",
    "\n",
    "inspector = inspect(engine)\n",
    "print(inspector.get_table_names())  # Should show ['divisions']"
   ]
  },
  {
   "cell_type": "code",
   "execution_count": 13,
   "metadata": {},
   "outputs": [
    {
     "name": "stdout",
     "output_type": "stream",
     "text": [
      "['div', 'div_2']\n"
     ]
    }
   ],
   "source": [
    "# Show the list of tables\n",
    "from sqlalchemy import inspect\n",
    "\n",
    "inspector = inspect(engine)\n",
    "\n",
    "print(inspector.get_table_names())"
   ]
  },
  {
   "cell_type": "code",
   "execution_count": 10,
   "metadata": {},
   "outputs": [
    {
     "name": "stdout",
     "output_type": "stream",
     "text": [
      "Sample data inserted!\n"
     ]
    }
   ],
   "source": [
    "## Sample data is also inserted in the table, but not for division_2\n",
    "## so let's add data\n",
    "\n",
    "from sqlalchemy import insert\n",
    "\n",
    "# Create an insert statement\n",
    "stmt = insert(divisions).values([\n",
    "    {\"name\": \"BPL\"},\n",
    "    {\"name\": \"IPL\"},\n",
    "    {\"name\": \"WPL\"},\n",
    "])\n",
    "\n",
    "# Execute the insert statement\n",
    "with engine.connect() as conn:\n",
    "    conn.execute(stmt)\n",
    "    conn.commit()\n",
    "\n",
    "print(\"Sample data inserted!\")"
   ]
  },
  {
   "cell_type": "code",
   "execution_count": 15,
   "metadata": {},
   "outputs": [
    {
     "name": "stdout",
     "output_type": "stream",
     "text": [
      "Sample data inserted\n"
     ]
    }
   ],
   "source": [
    "# add sample data to div table\n",
    "from sqlalchemy import insert\n",
    "\n",
    "dt = insert(div_2).values([\n",
    "    {\"name\": \"BPL\"},\n",
    "    {\"name\": \"IPL\"},\n",
    "    {\"name\": \"WPL\"},\n",
    "])\n",
    "\n",
    "with engine.connect() as conn:\n",
    "    conn.execute(dt)\n",
    "    conn.commit()\n",
    "    \n",
    "print(\"Sample data inserted\")"
   ]
  },
  {
   "cell_type": "code",
   "execution_count": 19,
   "metadata": {},
   "outputs": [
    {
     "name": "stdout",
     "output_type": "stream",
     "text": [
      "(1, 'BPL')\n",
      "(2, 'IPL')\n",
      "(3, 'WPL')\n"
     ]
    }
   ],
   "source": [
    "from sqlalchemy import select\n",
    "\n",
    "db = select(div_2)\n",
    "with engine.connect() as conn:\n",
    "    result = conn.execute(db)\n",
    "    for row in result:\n",
    "        print(row)"
   ]
  },
  {
   "cell_type": "code",
   "execution_count": 21,
   "metadata": {},
   "outputs": [],
   "source": [
    "## add new data alternatively\n",
    "\n",
    "## adding more data\n",
    "from sqlalchemy import create_engine\n",
    "\n",
    "# Connect to the SQLite database\n",
    "engine = create_engine(\"sqlite:///european_database.sqlite\")\n",
    "\n",
    "# Create a connection\n",
    "conn = engine.connect()"
   ]
  },
  {
   "cell_type": "code",
   "execution_count": 22,
   "metadata": {},
   "outputs": [
    {
     "name": "stdout",
     "output_type": "stream",
     "text": [
      "Even more data inserted successfully!\n"
     ]
    }
   ],
   "source": [
    "from sqlalchemy import text\n",
    "\n",
    "# Insert data into the 'divisions' table\n",
    "conn.execute(text(\"INSERT INTO div_2 (name) VALUES ('Gazipur League')\"))\n",
    "conn.execute(text(\"INSERT INTO div_2 (name) VALUES ('Duet Ligue')\"))\n",
    "conn.execute(text(\"INSERT INTO div_2 (name) VALUES ('SM League')\"))\n",
    "\n",
    "# Commit the changes\n",
    "conn.commit()\n",
    "\n",
    "print(\"Even more data inserted successfully!\")"
   ]
  },
  {
   "cell_type": "code",
   "execution_count": null,
   "metadata": {},
   "outputs": [
    {
     "data": {
      "text/html": [
       "<div>\n",
       "<style scoped>\n",
       "    .dataframe tbody tr th:only-of-type {\n",
       "        vertical-align: middle;\n",
       "    }\n",
       "\n",
       "    .dataframe tbody tr th {\n",
       "        vertical-align: top;\n",
       "    }\n",
       "\n",
       "    .dataframe thead th {\n",
       "        text-align: right;\n",
       "    }\n",
       "</style>\n",
       "<table border=\"1\" class=\"dataframe\">\n",
       "  <thead>\n",
       "    <tr style=\"text-align: right;\">\n",
       "      <th></th>\n",
       "      <th>id</th>\n",
       "      <th>name</th>\n",
       "    </tr>\n",
       "  </thead>\n",
       "  <tbody>\n",
       "    <tr>\n",
       "      <th>0</th>\n",
       "      <td>1</td>\n",
       "      <td>BPL</td>\n",
       "    </tr>\n",
       "    <tr>\n",
       "      <th>1</th>\n",
       "      <td>2</td>\n",
       "      <td>IPL</td>\n",
       "    </tr>\n",
       "    <tr>\n",
       "      <th>2</th>\n",
       "      <td>3</td>\n",
       "      <td>WPL</td>\n",
       "    </tr>\n",
       "    <tr>\n",
       "      <th>3</th>\n",
       "      <td>4</td>\n",
       "      <td>Gazipur League</td>\n",
       "    </tr>\n",
       "    <tr>\n",
       "      <th>4</th>\n",
       "      <td>5</td>\n",
       "      <td>Duet Ligue</td>\n",
       "    </tr>\n",
       "    <tr>\n",
       "      <th>5</th>\n",
       "      <td>6</td>\n",
       "      <td>SM League</td>\n",
       "    </tr>\n",
       "  </tbody>\n",
       "</table>\n",
       "</div>"
      ],
      "text/plain": [
       "   id            name\n",
       "0   1             BPL\n",
       "1   2             IPL\n",
       "2   3             WPL\n",
       "3   4  Gazipur League\n",
       "4   5      Duet Ligue\n",
       "5   6       SM League"
      ]
     },
     "execution_count": 23,
     "metadata": {},
     "output_type": "execute_result"
    }
   ],
   "source": [
    "import pandas as pd\n",
    "\n",
    "# Fetch and display the data\n",
    "df = pd.read_sql(\"SELECT * FROM div_2\", conn)\n",
    "df"
   ]
  },
  {
   "cell_type": "code",
   "execution_count": 24,
   "metadata": {},
   "outputs": [
    {
     "data": {
      "text/plain": [
       "<sqlalchemy.engine.cursor.CursorResult at 0x2534330b4c0>"
      ]
     },
     "execution_count": 24,
     "metadata": {},
     "output_type": "execute_result"
    }
   ],
   "source": [
    "# to unclock the db\n",
    "conn.execute(text(\"PRAGMA journal_mode=WAL;\"))  # Switch to WAL mode\n",
    "conn.execute(text(\"PRAGMA busy_timeout = 5000;\"))  # Wait up to 5 seconds if locked"
   ]
  }
 ],
 "metadata": {
  "kernelspec": {
   "display_name": "myworld",
   "language": "python",
   "name": "python3"
  },
  "language_info": {
   "codemirror_mode": {
    "name": "ipython",
    "version": 3
   },
   "file_extension": ".py",
   "mimetype": "text/x-python",
   "name": "python",
   "nbconvert_exporter": "python",
   "pygments_lexer": "ipython3",
   "version": "3.9.13"
  }
 },
 "nbformat": 4,
 "nbformat_minor": 2
}
